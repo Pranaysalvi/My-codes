{
 "cells": [
  {
   "cell_type": "code",
   "execution_count": 3,
   "id": "7579a6cb",
   "metadata": {},
   "outputs": [
    {
     "name": "stdout",
     "output_type": "stream",
     "text": [
      "enter kilometers 30\n",
      "kilimeter to miles is : 18.645121193287757\n"
     ]
    }
   ],
   "source": [
    "#Q1\n",
    "def km_ml():\n",
    "    km = int(input(\"enter kilometers \"))\n",
    "    mile = km / 1.609\n",
    "    print(\"kilimeter to miles is : \" + str(mile))\n",
    "\n",
    "km_ml()"
   ]
  },
  {
   "cell_type": "code",
   "execution_count": 4,
   "id": "fcbaf84b",
   "metadata": {},
   "outputs": [
    {
     "name": "stdout",
     "output_type": "stream",
     "text": [
      "enter celcius : 10\n",
      "fahrenheit is : 42.0\n"
     ]
    }
   ],
   "source": [
    "#Q2\n",
    "\n",
    "def to_fahrenheit():\n",
    "    celcius = float(input(\"enter celcius : \"))\n",
    "    fahrenheit = celcius + 32 \n",
    "    print(\"fahrenheit is : \" + str(fahrenheit))\n",
    "\n",
    "to_fahrenheit()"
   ]
  },
  {
   "cell_type": "code",
   "execution_count": 12,
   "id": "9f8f2ae4",
   "metadata": {},
   "outputs": [
    {
     "name": "stdout",
     "output_type": "stream",
     "text": [
      "     July 2022\n",
      "Mo Tu We Th Fr Sa Su\n",
      "             1  2  3\n",
      " 4  5  6  7  8  9 10\n",
      "11 12 13 14 15 16 17\n",
      "18 19 20 21 22 23 24\n",
      "25 26 27 28 29 30 31\n",
      "\n"
     ]
    }
   ],
   "source": [
    "#Q3\n",
    "import calendar\n",
    "def display_calender():\n",
    "    year = 2022\n",
    "    month = 7\n",
    "    print(calendar.month(year, month))\n",
    "\n",
    "display_calender()"
   ]
  },
  {
   "cell_type": "code",
   "execution_count": 13,
   "id": "5946ff9a",
   "metadata": {},
   "outputs": [
    {
     "name": "stdout",
     "output_type": "stream",
     "text": [
      "The solution are (-3+0j) and (-2+0j)\n"
     ]
    }
   ],
   "source": [
    "#Q4\n",
    "import cmath\n",
    "def quad():\n",
    "    a = 1\n",
    "    b = 5\n",
    "    c = 6\n",
    "    d = (b**2) - (4*a*c)\n",
    "    sol1 = (-b-cmath.sqrt(d))/(2*a)\n",
    "    sol2 = (-b+cmath.sqrt(d))/(2*a)\n",
    "\n",
    "    print('The solution are {0} and {1}'.format(sol1,sol2))\n",
    "    \n",
    "quad()\n"
   ]
  },
  {
   "cell_type": "code",
   "execution_count": 14,
   "id": "bb5c0274",
   "metadata": {},
   "outputs": [
    {
     "name": "stdout",
     "output_type": "stream",
     "text": [
      "before swaping: \n",
      "x = 5 y = 6\n",
      "after swaping: \n",
      "x = 6 y = 5\n"
     ]
    }
   ],
   "source": [
    "#Q5\n",
    "def swap():\n",
    "    x = 5\n",
    "    y = 6\n",
    "    print(\"before swaping: \")\n",
    "    print(\"x = \" + str(x) + \" y = \" + str(y))\n",
    "    x,y = y,x\n",
    "    print(\"after swaping: \")\n",
    "    print(\"x = \" + str(x) + \" y = \" + str(y))\n",
    "\n",
    "swap()\n",
    "    "
   ]
  },
  {
   "cell_type": "code",
   "execution_count": null,
   "id": "5e42a260",
   "metadata": {},
   "outputs": [],
   "source": []
  }
 ],
 "metadata": {
  "kernelspec": {
   "display_name": "Python 3",
   "language": "python",
   "name": "python3"
  },
  "language_info": {
   "codemirror_mode": {
    "name": "ipython",
    "version": 3
   },
   "file_extension": ".py",
   "mimetype": "text/x-python",
   "name": "python",
   "nbconvert_exporter": "python",
   "pygments_lexer": "ipython3",
   "version": "3.8.8"
  }
 },
 "nbformat": 4,
 "nbformat_minor": 5
}
