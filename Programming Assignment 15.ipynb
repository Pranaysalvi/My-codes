{
 "cells": [
  {
   "cell_type": "code",
   "execution_count": 5,
   "id": "35c602d6",
   "metadata": {},
   "outputs": [
    {
     "name": "stdout",
     "output_type": "stream",
     "text": [
      "enter n value: 100\n",
      "0,35,70\n"
     ]
    }
   ],
   "source": [
    "#Q1\n",
    "def numgenerator(n):\n",
    "    for i in range(n+1):\n",
    "        if i%5==0 and i%7==0:\n",
    "            yield i\n",
    "\n",
    "n=int(input(\"enter n value: \"))\n",
    "values = []\n",
    "for i in numgenerator(n):\n",
    "    values.append(str(i))\n",
    "\n",
    "print (\",\".join(values))"
   ]
  },
  {
   "cell_type": "code",
   "execution_count": 6,
   "id": "43210171",
   "metadata": {},
   "outputs": [
    {
     "name": "stdout",
     "output_type": "stream",
     "text": [
      "enter the range: 10\n",
      "0,2,4,6,8,10\n"
     ]
    }
   ],
   "source": [
    "#Q2\n",
    "def evengenerator(n):\n",
    "    for i in range(n+1):\n",
    "        if i % 2 == 0:\n",
    "            yield i\n",
    "\n",
    "n = int(input(\"enter the range: \"))\n",
    "values = []\n",
    "for i in evengenerator(n):\n",
    "    values.append(str(i))\n",
    "    \n",
    "print(\",\".join(values))\n",
    "            "
   ]
  },
  {
   "cell_type": "code",
   "execution_count": 8,
   "id": "030113b7",
   "metadata": {},
   "outputs": [
    {
     "name": "stdout",
     "output_type": "stream",
     "text": [
      "7\n",
      "0,1,1,2,3,5,8,13\n"
     ]
    }
   ],
   "source": [
    "#Q3\n",
    "def f(n):\n",
    "    if n < 2:\n",
    "        fibo[n] = n\n",
    "        return fibo[n]\n",
    "    fibo[n] = f(n-1) + f(n-2)\n",
    "    return fibo[n]\n",
    "\n",
    "n = int(input())\n",
    "fibo = [0]*(n+1)  \n",
    "f(n)              \n",
    "fibo = [str(i) for i in fibo]   \n",
    "ans = \",\".join(fibo)    \n",
    "print(ans)"
   ]
  },
  {
   "cell_type": "code",
   "execution_count": 9,
   "id": "265c76e5",
   "metadata": {},
   "outputs": [
    {
     "name": "stdout",
     "output_type": "stream",
     "text": [
      "enter email id: pranay@google.com\n",
      "pranay\n"
     ]
    }
   ],
   "source": [
    "#Q4\n",
    "def name():\n",
    "    email = input(\"enter email id: \")\n",
    "    e = email.split('@')\n",
    "    print(e[0])\n",
    "\n",
    "name()"
   ]
  },
  {
   "cell_type": "code",
   "execution_count": 22,
   "id": "f16b2b7b",
   "metadata": {},
   "outputs": [
    {
     "name": "stdout",
     "output_type": "stream",
     "text": [
      "25\n"
     ]
    }
   ],
   "source": [
    "class Shape:\n",
    "    def area(self):\n",
    "        area = 0\n",
    "        print(area)\n",
    "\n",
    "class Square(Shape):\n",
    "\n",
    "    def __init__(self,l):\n",
    "        self.l = l\n",
    "    def area(self):\n",
    "        area = self.l * self.l\n",
    "        print(area)\n",
    "\n",
    "s = Square(5)\n",
    "\n",
    "s.area()"
   ]
  },
  {
   "cell_type": "code",
   "execution_count": null,
   "id": "736c1f1f",
   "metadata": {},
   "outputs": [],
   "source": []
  }
 ],
 "metadata": {
  "kernelspec": {
   "display_name": "Python 3",
   "language": "python",
   "name": "python3"
  },
  "language_info": {
   "codemirror_mode": {
    "name": "ipython",
    "version": 3
   },
   "file_extension": ".py",
   "mimetype": "text/x-python",
   "name": "python",
   "nbconvert_exporter": "python",
   "pygments_lexer": "ipython3",
   "version": "3.8.8"
  }
 },
 "nbformat": 4,
 "nbformat_minor": 5
}
