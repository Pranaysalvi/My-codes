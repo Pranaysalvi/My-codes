{
 "cells": [
  {
   "cell_type": "markdown",
   "id": "62d6b1a8",
   "metadata": {},
   "source": [
    "Q1. RGBA stands for red green blue alpha."
   ]
  },
  {
   "cell_type": "markdown",
   "id": "86d333a9",
   "metadata": {},
   "source": [
    "Q2. RGBA value of an image can be obtained using getcolor() function."
   ]
  },
  {
   "cell_type": "markdown",
   "id": "b0a2177e",
   "metadata": {},
   "source": [
    "Q3. Box tuple contains 4 coordinates that decribe the region in a image. It has left top right bottom coordinates."
   ]
  },
  {
   "cell_type": "markdown",
   "id": "63db9dfe",
   "metadata": {},
   "source": [
    "Q4. We can get width and height of image using .width and .height property."
   ]
  },
  {
   "cell_type": "markdown",
   "id": "57ff8eb7",
   "metadata": {},
   "source": [
    "Q5. We can call crop object to get the image object of 100*100."
   ]
  },
  {
   "cell_type": "markdown",
   "id": "2f504433",
   "metadata": {},
   "source": [
    "Q6. we can use image.save() method."
   ]
  },
  {
   "cell_type": "markdown",
   "id": "12715429",
   "metadata": {},
   "source": [
    "Q7. ImageDraw module contains shape-drawing code."
   ]
  },
  {
   "cell_type": "markdown",
   "id": "dee9d0a0",
   "metadata": {},
   "source": [
    "Q8. ImageDraw objects have shape-drawing methods such as point(), line(), \n",
    "    or rectangle(). They are returned by passing the Image object to the \n",
    "    ImageDraw.Draw() function."
   ]
  },
  {
   "cell_type": "code",
   "execution_count": null,
   "id": "31019eea",
   "metadata": {},
   "outputs": [],
   "source": []
  }
 ],
 "metadata": {
  "kernelspec": {
   "display_name": "Python 3",
   "language": "python",
   "name": "python3"
  },
  "language_info": {
   "codemirror_mode": {
    "name": "ipython",
    "version": 3
   },
   "file_extension": ".py",
   "mimetype": "text/x-python",
   "name": "python",
   "nbconvert_exporter": "python",
   "pygments_lexer": "ipython3",
   "version": "3.8.8"
  }
 },
 "nbformat": 4,
 "nbformat_minor": 5
}
