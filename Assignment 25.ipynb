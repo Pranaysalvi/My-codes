{
 "cells": [
  {
   "cell_type": "markdown",
   "id": "e35c2d01",
   "metadata": {},
   "source": [
    "Q1. List with square brackets create list where as list with parantheses creates generators."
   ]
  },
  {
   "cell_type": "markdown",
   "id": "47653197",
   "metadata": {},
   "source": [
    "Q2. An iterator is an object which contains a countable number of values and it is used to iterate over iterable objects like list, tuples etc Using an iterator- iter() keyword is used to create an iterator containing an iterable object. next() keyword is used to call the next element in the iterable object.\n",
    "\n",
    "Generator It is another way of creating iterators in a simple way where it uses the keyword “yield” instead of returning it in a defined function Generators are implemented using a function Here, the yield function returns the data without affecting or exiting the function."
   ]
  },
  {
   "cell_type": "markdown",
   "id": "4d9e097d",
   "metadata": {},
   "source": [
    "Q3. Function that contains atleast one yeild statement becomes generator."
   ]
  },
  {
   "cell_type": "markdown",
   "id": "69e918a0",
   "metadata": {},
   "source": [
    "Q4. A yield statement looks much like a return statement, except that instead of stopping execution of the function and returning, yield instead provides a value to the code looping over the generator and pauses execution of the generator function"
   ]
  },
  {
   "cell_type": "markdown",
   "id": "45dd3139",
   "metadata": {},
   "source": [
    "Q5. Comparision :\n",
    "\n",
    "List comprehension is more concise and easier to read as compared to map\n",
    "\n",
    "List comprehension allows filtering. In map, we have no such facility For example, to print all even numbers in range of 100, we can write [n for n in range(100) if n%2 == 0]. There is no alternate for it in map\n",
    "\n",
    "List comprehension are used when a list of results is required, where as map only returns a map object and does not return any list.\n",
    "\n",
    "List comprehension is faster than map when we need to evaluate expressions that are too long or complicated to express\n",
    "Map is faster in case of calling an already defined function (as no lambda is required)\n"
   ]
  },
  {
   "cell_type": "code",
   "execution_count": null,
   "id": "09342cc4",
   "metadata": {},
   "outputs": [],
   "source": []
  }
 ],
 "metadata": {
  "kernelspec": {
   "display_name": "Python 3",
   "language": "python",
   "name": "python3"
  },
  "language_info": {
   "codemirror_mode": {
    "name": "ipython",
    "version": 3
   },
   "file_extension": ".py",
   "mimetype": "text/x-python",
   "name": "python",
   "nbconvert_exporter": "python",
   "pygments_lexer": "ipython3",
   "version": "3.8.8"
  }
 },
 "nbformat": 4,
 "nbformat_minor": 5
}
