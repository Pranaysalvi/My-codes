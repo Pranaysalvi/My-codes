{
 "cells": [
  {
   "cell_type": "markdown",
   "id": "3894bd07",
   "metadata": {},
   "source": [
    "Q1. There are 3600 seconds in hour."
   ]
  },
  {
   "cell_type": "markdown",
   "id": "b4a2a24e",
   "metadata": {},
   "source": [
    "Q2. seconds_per_hour = 3600."
   ]
  },
  {
   "cell_type": "markdown",
   "id": "b5786c5d",
   "metadata": {},
   "source": [
    "Q3. minutes_per_hour = 60\n",
    "\n",
    "    seconds_per_hour = 3600\n",
    "    \n",
    "    seconds_per_day = seconds_per_hour * 24\n",
    "    "
   ]
  },
  {
   "cell_type": "markdown",
   "id": "f381d17f",
   "metadata": {},
   "source": [
    "Q4. seconds_per_day = seconds_per_day * 24\n",
    "\n",
    "    seconds_per_day = 86400"
   ]
  },
  {
   "cell_type": "markdown",
   "id": "dbd48eb1",
   "metadata": {},
   "source": [
    "Q.5 seconds_per_day/seconds_per_hour"
   ]
  },
  {
   "cell_type": "markdown",
   "id": "fbfa4bf8",
   "metadata": {},
   "source": [
    "Q6. seconds_per_day//seconds_per_hour."
   ]
  },
  {
   "cell_type": "markdown",
   "id": "4b49225e",
   "metadata": {},
   "source": [
    "Q7.\n",
    "def genPrimes():\n",
    "    prime =[]\n",
    "    last = 1\n",
    "    while true:\n",
    "        last +=1\n",
    "        for p in prime:\n",
    "            if last % p == 0:\n",
    "                break\n",
    "            else:\n",
    "                prime.append(last)\n",
    "                yield last\n",
    "                \n",
    "p = genPrimes()\n",
    "                \n",
    "            "
   ]
  },
  {
   "cell_type": "code",
   "execution_count": null,
   "id": "3ce0befb",
   "metadata": {},
   "outputs": [],
   "source": []
  },
  {
   "cell_type": "code",
   "execution_count": null,
   "id": "6dd695e7",
   "metadata": {},
   "outputs": [],
   "source": []
  }
 ],
 "metadata": {
  "kernelspec": {
   "display_name": "Python 3",
   "language": "python",
   "name": "python3"
  },
  "language_info": {
   "codemirror_mode": {
    "name": "ipython",
    "version": 3
   },
   "file_extension": ".py",
   "mimetype": "text/x-python",
   "name": "python",
   "nbconvert_exporter": "python",
   "pygments_lexer": "ipython3",
   "version": "3.8.8"
  }
 },
 "nbformat": 4,
 "nbformat_minor": 5
}
