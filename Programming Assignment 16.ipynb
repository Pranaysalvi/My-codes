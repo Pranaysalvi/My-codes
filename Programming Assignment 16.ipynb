{
 "cells": [
  {
   "cell_type": "code",
   "execution_count": 4,
   "id": "5edeb625",
   "metadata": {},
   "outputs": [
    {
     "name": "stdout",
     "output_type": "stream",
     "text": [
      "Enter the wordsnoice\n",
      "no... no... noice?\n"
     ]
    }
   ],
   "source": [
    "#Q1\n",
    "def stutters():\n",
    "    string = input(\"Enter the words\")\n",
    "    print(2 * (string[0:2] + \"... \") + string+\"?\" )\n",
    "\n",
    "stutters()"
   ]
  },
  {
   "cell_type": "code",
   "execution_count": 10,
   "id": "d2a8bee7",
   "metadata": {},
   "outputs": [
    {
     "name": "stdout",
     "output_type": "stream",
     "text": [
      "enter radian: 20\n"
     ]
    },
    {
     "data": {
      "text/plain": [
       "1145.9"
      ]
     },
     "execution_count": 10,
     "metadata": {},
     "output_type": "execute_result"
    }
   ],
   "source": [
    "#Q2\n",
    "import math\n",
    "def degree():\n",
    "    r = int(input(\"enter radian: \"))\n",
    "    pi = math.pi\n",
    "    d = (r*180)/pi\n",
    "    return round(d,1)\n",
    "degree()"
   ]
  },
  {
   "cell_type": "code",
   "execution_count": 15,
   "id": "8a7af300",
   "metadata": {},
   "outputs": [
    {
     "name": "stdout",
     "output_type": "stream",
     "text": [
      "True\n"
     ]
    }
   ],
   "source": [
    "#Q3\n",
    "def Curzon(num):\n",
    "    \n",
    "    power = pow(2,num) + 1\n",
    "    product = 2 * num +1\n",
    "    if power % product == 0:\n",
    "        print(\"True\")\n",
    "    else:\n",
    "        print(\"False\")\n",
    "\n",
    "Curzon(5)\n",
    "        "
   ]
  },
  {
   "cell_type": "code",
   "execution_count": 18,
   "id": "9d7d2483",
   "metadata": {},
   "outputs": [
    {
     "data": {
      "text/plain": [
       "10.4"
      ]
     },
     "execution_count": 18,
     "metadata": {},
     "output_type": "execute_result"
    }
   ],
   "source": [
    "#Q4\n",
    "def hega(l):\n",
    "    area =  (3*math.sqrt(3)*l*l)/2\n",
    "    return round(area,1)\n",
    "hega(2)"
   ]
  },
  {
   "cell_type": "code",
   "execution_count": 21,
   "id": "872dcf70",
   "metadata": {},
   "outputs": [
    {
     "name": "stdout",
     "output_type": "stream",
     "text": [
      "Decimal equivalent of 101 in base 5 is 26\n"
     ]
    }
   ],
   "source": [
    "#Q5\n",
    "def val(c):\n",
    "    if c >= '0' and c <= '9':\n",
    "        return ord(c) - ord('0')\n",
    "    else:\n",
    "        return ord(c) - ord('A') + 10;\n",
    " \n",
    "def toDeci(str,base):\n",
    "    llen = len(str)\n",
    "    power = 1\n",
    "    num = 0     \n",
    " \n",
    "  \n",
    "    for i in range(llen - 1, -1, -1):\n",
    "         \n",
    "     \n",
    "        if val(str[i]) >= base:\n",
    "            print('Invalid Number')\n",
    "            return -1\n",
    "        num += val(str[i]) * power\n",
    "        power = power * base\n",
    "    return num\n",
    "     \n",
    "\n",
    "strr = \"101\"\n",
    "base = 5\n",
    "print('Decimal equivalent of', strr,\n",
    "              'in base', base, 'is',\n",
    "                 toDeci(strr, base))"
   ]
  },
  {
   "cell_type": "code",
   "execution_count": null,
   "id": "4e3ef036",
   "metadata": {},
   "outputs": [],
   "source": []
  }
 ],
 "metadata": {
  "kernelspec": {
   "display_name": "Python 3",
   "language": "python",
   "name": "python3"
  },
  "language_info": {
   "codemirror_mode": {
    "name": "ipython",
    "version": 3
   },
   "file_extension": ".py",
   "mimetype": "text/x-python",
   "name": "python",
   "nbconvert_exporter": "python",
   "pygments_lexer": "ipython3",
   "version": "3.8.8"
  }
 },
 "nbformat": 4,
 "nbformat_minor": 5
}
