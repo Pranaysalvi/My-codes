{
 "cells": [
  {
   "cell_type": "code",
   "execution_count": 2,
   "id": "4ba81da8",
   "metadata": {},
   "outputs": [
    {
     "name": "stdout",
     "output_type": "stream",
     "text": [
      "The original dictionary is : {'k1': [5, 6, 7, 8], 'k2': [10, 11, 7, 5], 'k3': [6, 12, 10, 8], 'k4': [1, 2, 5]}\n",
      "The unique values list is : [1, 2, 5, 6, 7, 8, 10, 11, 12]\n"
     ]
    }
   ],
   "source": [
    "#Q1\n",
    "test_dict = {'k1' : [5, 6, 7, 8],\n",
    "             'k2' : [10, 11, 7, 5],\n",
    "             'k3' : [6, 12, 10, 8],\n",
    "             'k4' : [1, 2, 5]}\n",
    "\n",
    "print(\"The original dictionary is : \" + str(test_dict))\n",
    "  \n",
    "\n",
    "res = list(sorted({ele for val in test_dict.values() for ele in val}))\n",
    "  \n",
    "\n",
    "print(\"The unique values list is : \" + str(res)) "
   ]
  },
  {
   "cell_type": "code",
   "execution_count": 3,
   "id": "02261358",
   "metadata": {},
   "outputs": [
    {
     "name": "stdout",
     "output_type": "stream",
     "text": [
      "Sum : 600\n"
     ]
    }
   ],
   "source": [
    "#Q2\n",
    "def returnSum(myDict):\n",
    " \n",
    "    list = []\n",
    "    for i in myDict:\n",
    "        list.append(myDict[i])\n",
    "    final = sum(list)\n",
    " \n",
    "    return final\n",
    " \n",
    "dict = {'a': 100, 'b': 200, 'c': 300}\n",
    "print(\"Sum :\", returnSum(dict))"
   ]
  },
  {
   "cell_type": "code",
   "execution_count": 4,
   "id": "7c9e6321",
   "metadata": {},
   "outputs": [
    {
     "name": "stdout",
     "output_type": "stream",
     "text": [
      "{'k1': 20, 'k2': 30, 'k3': 10, 'k4': 32, 'k5': 67, 'k6': 99}\n"
     ]
    }
   ],
   "source": [
    "#Q3\n",
    "dict1 = {\"k1\":20,\"k2\":30,\"k3\":10}\n",
    "dict2 = {\"k4\":32,\"k5\":67,\"k6\":99}\n",
    "dict1.update(dict2)\n",
    "print(dict1)"
   ]
  },
  {
   "cell_type": "code",
   "execution_count": 1,
   "id": "8d1fef25",
   "metadata": {},
   "outputs": [
    {
     "name": "stdout",
     "output_type": "stream",
     "text": [
      "The dictionary is : \n",
      "{'month_num': [1, 2, 3, 4, 5, 6], 'name_of_month': ['Jan', 'Feb', 'March', 'Apr', 'May', 'June']}\n",
      "The flattened dictionary is: \n",
      "{1: 'Jan', 2: 'Feb', 3: 'March', 4: 'Apr', 5: 'May', 6: 'June'}\n"
     ]
    }
   ],
   "source": [
    "#Q4\n",
    "from itertools import product\n",
    "\n",
    "my_dict = {'month_num' : [1, 2, 3, 4, 5, 6], 'name_of_month' : ['Jan', 'Feb', 'March', 'Apr', 'May', 'June']}\n",
    "\n",
    "print(\"The dictionary is : \")\n",
    "print(my_dict)\n",
    "\n",
    "my_result = dict(zip(my_dict['month_num'], my_dict['name_of_month']))\n",
    "\n",
    "print(\"The flattened dictionary is: \")\n",
    "print(my_result)"
   ]
  },
  {
   "cell_type": "code",
   "execution_count": 4,
   "id": "b4cac868",
   "metadata": {},
   "outputs": [
    {
     "name": "stdout",
     "output_type": "stream",
     "text": [
      "The dictionary is :\n",
      "OrderedDict([('sam', '1'), ('Jack', '2'), ('Ram', '4')])\n",
      "The resultant dictionary is : \n",
      "OrderedDict([('sid', '7'), ('sam', '1'), ('Jack', '2'), ('Ram', '4')])\n"
     ]
    }
   ],
   "source": [
    "#Q5\n",
    "from collections import OrderedDict\n",
    "\n",
    "my_ordered_dict = OrderedDict([('sam', '1'), ('Jack', '2'), ('Ram', '4')])\n",
    "print(\"The dictionary is :\")\n",
    "print(my_ordered_dict)\n",
    "my_ordered_dict.update({'sid':'7'})\n",
    "my_ordered_dict.move_to_end('sid', last = False)\n",
    "\n",
    "print(\"The resultant dictionary is : \")\n",
    "print(my_ordered_dict)"
   ]
  },
  {
   "cell_type": "code",
   "execution_count": 8,
   "id": "ff553bf5",
   "metadata": {},
   "outputs": [
    {
     "name": "stdout",
     "output_type": "stream",
     "text": [
      "The string is \n",
      "Hi Mark\n",
      "The input pattern is \n",
      "Ma\n",
      "The order of pattern is correct\n"
     ]
    }
   ],
   "source": [
    "#Q6\n",
    "from collections import OrderedDict\n",
    "def check_order(my_input, my_pattern):\n",
    "   my_dict = OrderedDict.fromkeys(my_input)\n",
    "   pattern_length = 0\n",
    "   for key,value in my_dict.items():\n",
    "      if (key == my_pattern[pattern_length]):\n",
    "         pattern_length = pattern_length + 1\n",
    "\n",
    "      if (pattern_length == (len(my_pattern))):\n",
    "         return 'The order of pattern is correct'\n",
    "\n",
    "   return 'The order of pattern is incorrect'\n",
    "my_input = 'Hi Mark'\n",
    "input_pattern = 'Ma'\n",
    "print(\"The string is \")\n",
    "print(my_input)\n",
    "print(\"The input pattern is \")\n",
    "print(input_pattern)\n",
    "print(check_order(my_input,input_pattern))"
   ]
  },
  {
   "cell_type": "code",
   "execution_count": 9,
   "id": "98e1f173",
   "metadata": {},
   "outputs": [
    {
     "name": "stdout",
     "output_type": "stream",
     "text": [
      "OrderedDict([('rajnish', '9'), ('ravi', '10'), ('sanjeev', '15'), ('suraj', '32'), ('yash', '2')])\n"
     ]
    }
   ],
   "source": [
    "#Q7\n",
    "from collections import OrderedDict\n",
    " \n",
    "dict = {'ravi': '10', 'rajnish': '9',\n",
    "        'sanjeev': '15', 'yash': '2', 'suraj': '32'}\n",
    "dict1 = OrderedDict(sorted(dict.items()))\n",
    "print(dict1)"
   ]
  },
  {
   "cell_type": "code",
   "execution_count": null,
   "id": "115c259b",
   "metadata": {},
   "outputs": [],
   "source": []
  }
 ],
 "metadata": {
  "kernelspec": {
   "display_name": "Python 3",
   "language": "python",
   "name": "python3"
  },
  "language_info": {
   "codemirror_mode": {
    "name": "ipython",
    "version": 3
   },
   "file_extension": ".py",
   "mimetype": "text/x-python",
   "name": "python",
   "nbconvert_exporter": "python",
   "pygments_lexer": "ipython3",
   "version": "3.8.8"
  }
 },
 "nbformat": 4,
 "nbformat_minor": 5
}
