{
 "cells": [
  {
   "cell_type": "markdown",
   "id": "b85b7337",
   "metadata": {},
   "source": [
    "Q1.\n",
    "years_list = [1997]\n",
    "for i in range(0,5):\n",
    "    years_list.append(years_list[i]+1)\n",
    "    "
   ]
  },
  {
   "cell_type": "markdown",
   "id": "498c452b",
   "metadata": {},
   "source": [
    "Q2.\n",
    "third_birthday = years_list[3]"
   ]
  },
  {
   "cell_type": "markdown",
   "id": "994a8e68",
   "metadata": {},
   "source": [
    "Q3. years_list[-1]"
   ]
  },
  {
   "cell_type": "markdown",
   "id": "38b41263",
   "metadata": {},
   "source": [
    "Q4. things = [\"mozzarella\", \"cinderella\",\"salmonella\"]"
   ]
  },
  {
   "cell_type": "markdown",
   "id": "0998e4ea",
   "metadata": {},
   "source": [
    "Q5. things[1].upper() \n",
    "\n",
    "    no there is no change in original list."
   ]
  },
  {
   "cell_type": "markdown",
   "id": "006199c4",
   "metadata": {},
   "source": [
    "Q6. surprise = [\"Groucho\",\"chico\",\"harpo\"]"
   ]
  },
  {
   "cell_type": "markdown",
   "id": "06173609",
   "metadata": {},
   "source": [
    "Q7.\n",
    "surprise = [\"Groucho\",\"chico\",\"harpo\"]\n",
    "last_element = surprise[-1]\n",
    "reverse = last_element[::-1]\n",
    "reverse.upper()"
   ]
  },
  {
   "cell_type": "markdown",
   "id": "ac4154c4",
   "metadata": {},
   "source": [
    "Q8. e2f = {'dog':'chien','cat':'chat','walrus':'morse'}"
   ]
  },
  {
   "cell_type": "markdown",
   "id": "deb97cfa",
   "metadata": {},
   "source": [
    "Q9. e2f['walrus']"
   ]
  },
  {
   "cell_type": "markdown",
   "id": "7b0e5873",
   "metadata": {},
   "source": [
    "Q10. f2e = dict((key,value) for value,key in e2f.items())\n",
    "    f2e"
   ]
  },
  {
   "cell_type": "markdown",
   "id": "0776e832",
   "metadata": {},
   "source": [
    "Q11. f2e['chien']"
   ]
  },
  {
   "cell_type": "markdown",
   "id": "0b99581a",
   "metadata": {},
   "source": [
    "Q12. e2f.keys()"
   ]
  },
  {
   "cell_type": "markdown",
   "id": "837b9a31",
   "metadata": {},
   "source": [
    "Q13. life ={'animals':{'cat':['Henri', 'Grumpy', 'Lucy'], 'octopi':'', 'emus':''},\n",
    "       'plants' :'',\n",
    "       'other' :'' }\n",
    "    life"
   ]
  },
  {
   "cell_type": "markdown",
   "id": "e236ae7b",
   "metadata": {},
   "source": [
    "Q14. life.keys()"
   ]
  },
  {
   "cell_type": "markdown",
   "id": "203d9a45",
   "metadata": {},
   "source": [
    "Q15. life['animals'].keys()"
   ]
  },
  {
   "cell_type": "markdown",
   "id": "dbcc9640",
   "metadata": {},
   "source": [
    "Q16. life['animals']['keys']"
   ]
  },
  {
   "cell_type": "code",
   "execution_count": null,
   "id": "f8a69ee0",
   "metadata": {},
   "outputs": [],
   "source": []
  }
 ],
 "metadata": {
  "kernelspec": {
   "display_name": "Python 3",
   "language": "python",
   "name": "python3"
  },
  "language_info": {
   "codemirror_mode": {
    "name": "ipython",
    "version": 3
   },
   "file_extension": ".py",
   "mimetype": "text/x-python",
   "name": "python",
   "nbconvert_exporter": "python",
   "pygments_lexer": "ipython3",
   "version": "3.8.8"
  }
 },
 "nbformat": 4,
 "nbformat_minor": 5
}
