{
 "cells": [
  {
   "cell_type": "markdown",
   "id": "d1694a9f",
   "metadata": {},
   "source": [
    "Q1.\n",
    "x ='iNeuron'\n",
    "\n",
    "def func():\n",
    "    print(x)\n",
    "func()\n",
    "\n",
    "output = iNeuron \n",
    "\n",
    "x is global variable and function is accessing x and printing it."
   ]
  },
  {
   "cell_type": "markdown",
   "id": "72004c95",
   "metadata": {},
   "source": [
    "Q2.\n",
    "x ='iNeuron'\n",
    "\n",
    "def func():\n",
    "    x = 'NI!'\n",
    "    \n",
    "func()\n",
    "print(x)\n",
    "\n",
    "output = iNeuron\n",
    "\n",
    "X outside loop is global variable and when we re declare x in function its scope is within the function and it is not accessable outside function."
   ]
  },
  {
   "cell_type": "markdown",
   "id": "b885deaf",
   "metadata": {},
   "source": [
    "Q3. x ='iNeuron'\n",
    "\n",
    "def func(): \n",
    "    x = 'NI!'\n",
    "    print(x)\n",
    "\n",
    "func() \n",
    "\n",
    "print(x)\n",
    "\n",
    "output = \n",
    "NI!\n",
    "iNeuron\n",
    "\n",
    "first x value will be changed to 'NI!' inside function and its scope is also within function and first it will print 'NI!' and when we are outside function it will print global value that is 'iNeuron'."
   ]
  },
  {
   "cell_type": "markdown",
   "id": "011a6422",
   "metadata": {},
   "source": [
    "Q4.\n",
    "x ='iNeuron'\n",
    "\n",
    "def func(): \n",
    "    global x\n",
    "    x = 'NI!'\n",
    "   \n",
    "\n",
    "func() \n",
    "\n",
    "print(x)\n",
    "\n",
    "output= NI!\n",
    "\n",
    "When we set x global the it allows to change global x within function and we can print the changed value of x."
   ]
  },
  {
   "cell_type": "markdown",
   "id": "9b5a332d",
   "metadata": {},
   "source": [
    "Q5.\n",
    "x ='iNeuron'\n",
    "\n",
    "def func(): \n",
    "    x = 'NI!'\n",
    "    \n",
    "def nested():\n",
    "    print(x)\n",
    "    \n",
    "nested()\n",
    "func()\n",
    "x\n",
    "\n",
    "output = iNeuron\n",
    "\n",
    "X outside loop is global variable and when we re declare x in function its scope is within the function and it is not accessable outside function."
   ]
  },
  {
   "cell_type": "markdown",
   "id": "02f5c8b6",
   "metadata": {},
   "source": [
    "Q6.\n",
    "\n",
    "def func():\n",
    "    X = 'NI'\n",
    "    \n",
    "    def nested():\n",
    "        nonlocal X\n",
    "        X = 'spam'\n",
    "        \n",
    "    nested()\n",
    "    \n",
    "    print(X)\n",
    "\n",
    "func()\n",
    "\n",
    "output = 'spam'\n",
    "\n",
    "It prints the value from the nested function as nonlocal means its neighter local nor global."
   ]
  },
  {
   "cell_type": "code",
   "execution_count": null,
   "id": "461b5e86",
   "metadata": {},
   "outputs": [],
   "source": []
  }
 ],
 "metadata": {
  "kernelspec": {
   "display_name": "Python 3",
   "language": "python",
   "name": "python3"
  },
  "language_info": {
   "codemirror_mode": {
    "name": "ipython",
    "version": 3
   },
   "file_extension": ".py",
   "mimetype": "text/x-python",
   "name": "python",
   "nbconvert_exporter": "python",
   "pygments_lexer": "ipython3",
   "version": "3.8.8"
  }
 },
 "nbformat": 4,
 "nbformat_minor": 5
}
