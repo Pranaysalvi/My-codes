{
 "cells": [
  {
   "cell_type": "code",
   "execution_count": 3,
   "id": "7b1e0019",
   "metadata": {},
   "outputs": [
    {
     "data": {
      "text/plain": [
       "[1, 2, 3, 40]"
      ]
     },
     "execution_count": 3,
     "metadata": {},
     "output_type": "execute_result"
    }
   ],
   "source": [
    "#Q1\n",
    "def amplify(num):\n",
    "    l = []\n",
    "    for i in range(1,num+1):\n",
    "        if i % 4 == 0:\n",
    "            l.append(i * 10)\n",
    "        else:\n",
    "            l.append(i)\n",
    "    return l\n",
    "amplify(4)"
   ]
  },
  {
   "cell_type": "code",
   "execution_count": 15,
   "id": "3c9af11e",
   "metadata": {},
   "outputs": [
    {
     "name": "stdout",
     "output_type": "stream",
     "text": [
      "3\n"
     ]
    }
   ],
   "source": [
    "#Q2\n",
    "def unique(l):\n",
    "    \n",
    "    for i in range(len(l)):\n",
    "        if i != len(l) - 1:\n",
    "            if l[i] != l[i+1] and l[i] != l[i-1]:\n",
    "                print(l[i])\n",
    "        else:\n",
    "            if l[i] != l[i-1]:\n",
    "                print(l[i])\n",
    "unique([1,1,1,3,1,1])\n",
    "                "
   ]
  },
  {
   "cell_type": "code",
   "execution_count": 16,
   "id": "d12fc6bc",
   "metadata": {},
   "outputs": [
    {
     "data": {
      "text/plain": [
       "379.94"
      ]
     },
     "execution_count": 16,
     "metadata": {},
     "output_type": "execute_result"
    }
   ],
   "source": [
    "#Q3\n",
    "class Circle:\n",
    "    def __init__(self,r):\n",
    "        self.r = r\n",
    "    def getarea(self):\n",
    "        return self.r**2*3.14\n",
    "    def getperimeter(self):\n",
    "        return 2*self.r*3.14\n",
    "circy = Circle(11)\n",
    "circy.getarea()"
   ]
  },
  {
   "cell_type": "code",
   "execution_count": 17,
   "id": "c273258a",
   "metadata": {},
   "outputs": [
    {
     "data": {
      "text/plain": [
       "['we', 'are', 'hello']"
      ]
     },
     "execution_count": 17,
     "metadata": {},
     "output_type": "execute_result"
    }
   ],
   "source": [
    "#Q4\n",
    "def sort_by_length(l):\n",
    "    l1 = sorted(l,key=len)\n",
    "    return l1\n",
    "sort_by_length([\"hello\",\"we\",\"are\"])"
   ]
  },
  {
   "cell_type": "code",
   "execution_count": 21,
   "id": "a21e73f8",
   "metadata": {},
   "outputs": [
    {
     "data": {
      "text/plain": [
       "True"
      ]
     },
     "execution_count": 21,
     "metadata": {},
     "output_type": "execute_result"
    }
   ],
   "source": [
    "#Q5\n",
    "def is_triplet(a,b,c):\n",
    "    if (a**2) + (b**2) == (c**2):\n",
    "        return True\n",
    "    else:\n",
    "        return False\n",
    "\n",
    "is_triplet(3,4,5)"
   ]
  },
  {
   "cell_type": "code",
   "execution_count": null,
   "id": "be5154b9",
   "metadata": {},
   "outputs": [],
   "source": []
  }
 ],
 "metadata": {
  "kernelspec": {
   "display_name": "Python 3",
   "language": "python",
   "name": "python3"
  },
  "language_info": {
   "codemirror_mode": {
    "name": "ipython",
    "version": 3
   },
   "file_extension": ".py",
   "mimetype": "text/x-python",
   "name": "python",
   "nbconvert_exporter": "python",
   "pygments_lexer": "ipython3",
   "version": "3.8.8"
  }
 },
 "nbformat": 4,
 "nbformat_minor": 5
}
