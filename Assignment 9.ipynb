{
 "cells": [
  {
   "cell_type": "markdown",
   "id": "31ebf26c",
   "metadata": {},
   "source": [
    "Q1. Relative path refers to a location that is relative to its current directory."
   ]
  },
  {
   "cell_type": "markdown",
   "id": "0dc45eb7",
   "metadata": {},
   "source": [
    "Q2. An Absolute path refers to complete detail details need to locate file or folder. Starting from root element."
   ]
  },
  {
   "cell_type": "markdown",
   "id": "4b1e03fb",
   "metadata": {},
   "source": [
    "Q3. os.getcwd() return the path of current working directory and os.chdir() change the current working directory to that mentioned path."
   ]
  },
  {
   "cell_type": "markdown",
   "id": "bc35173d",
   "metadata": {},
   "source": [
    "Q4. . is the current directory while .. is the parent directory."
   ]
  },
  {
   "cell_type": "markdown",
   "id": "82bda5c9",
   "metadata": {},
   "source": [
    "Q5. In C:\\bacon\\eggs\\spam.txt in this c:\\bacon\\eggs is dir name while spam.txt is base name."
   ]
  },
  {
   "cell_type": "markdown",
   "id": "f860ec0d",
   "metadata": {},
   "source": [
    "Q6. The modes that are passed in open() function are r,r+,w,w+,wb,wb+,a,a+,ab+."
   ]
  },
  {
   "cell_type": "markdown",
   "id": "44cea824",
   "metadata": {},
   "source": [
    "Q7. If file is open with 'w' mode the existing file will be discarded and new empty file will be created."
   ]
  },
  {
   "cell_type": "markdown",
   "id": "49196de6",
   "metadata": {},
   "source": [
    "Q8. the read() function return str output that is it gives everyting in the file as entire string where as readlines() gives output whose type is list and gives each line in form of list element."
   ]
  },
  {
   "cell_type": "markdown",
   "id": "aac946c9",
   "metadata": {},
   "source": [
    "Q9. A shelf value reassembles a dictnory value."
   ]
  },
  {
   "cell_type": "code",
   "execution_count": null,
   "id": "113d2d85",
   "metadata": {},
   "outputs": [],
   "source": []
  }
 ],
 "metadata": {
  "kernelspec": {
   "display_name": "Python 3",
   "language": "python",
   "name": "python3"
  },
  "language_info": {
   "codemirror_mode": {
    "name": "ipython",
    "version": 3
   },
   "file_extension": ".py",
   "mimetype": "text/x-python",
   "name": "python",
   "nbconvert_exporter": "python",
   "pygments_lexer": "ipython3",
   "version": "3.8.8"
  }
 },
 "nbformat": 4,
 "nbformat_minor": 5
}
