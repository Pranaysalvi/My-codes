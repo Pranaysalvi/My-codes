{
 "cells": [
  {
   "cell_type": "markdown",
   "id": "adea957d",
   "metadata": {},
   "source": [
    "Q1. Advantages of having function in code are:\n",
    "    \n",
    "    a. It provides reusablity of code\n",
    "    \n",
    "    b.It avoids rewritting of same code again and again.\n",
    "    "
   ]
  },
  {
   "cell_type": "markdown",
   "id": "ce866ad8",
   "metadata": {},
   "source": [
    "Q2. The function code runs when function is called.\n"
   ]
  },
  {
   "cell_type": "markdown",
   "id": "e6c17a4f",
   "metadata": {},
   "source": [
    "Q3. def function_name creates the function.\n"
   ]
  },
  {
   "cell_type": "markdown",
   "id": "e936b226",
   "metadata": {},
   "source": [
    "Q4.Defining function is writing the code that is to be executed. While function call is execution of the function."
   ]
  },
  {
   "cell_type": "markdown",
   "id": "0ef83b12",
   "metadata": {},
   "source": [
    "Q5. There is only 1 global scope.There are 2 Local scope those are enclosed local scope and local scope."
   ]
  },
  {
   "cell_type": "markdown",
   "id": "bcb43b46",
   "metadata": {},
   "source": [
    "Q6 Local variable retains its value until again function is called."
   ]
  },
  {
   "cell_type": "markdown",
   "id": "ecdb0faf",
   "metadata": {},
   "source": [
    "Q7. Return value returns the output value of the function we can assign the outcome of function if it returns the value. While we cannot return the value outside function."
   ]
  },
  {
   "cell_type": "markdown",
   "id": "3c87afeb",
   "metadata": {},
   "source": [
    "Q8. If the function does not have return the value of call to that function is none."
   ]
  },
  {
   "cell_type": "markdown",
   "id": "fce6309b",
   "metadata": {},
   "source": [
    "Q9. We can use keyword global to refer the global variable in function."
   ]
  },
  {
   "cell_type": "markdown",
   "id": "6fe407e5",
   "metadata": {},
   "source": [
    "Q10. Data type of None is NoneType."
   ]
  },
  {
   "cell_type": "markdown",
   "id": "6b0df08d",
   "metadata": {},
   "source": [
    "Q11. It will import a package called areallyourpetsnamederic."
   ]
  },
  {
   "cell_type": "markdown",
   "id": "bf5367f3",
   "metadata": {},
   "source": [
    "Q12. We can call it as spam.bacon()."
   ]
  },
  {
   "cell_type": "markdown",
   "id": "a1f01985",
   "metadata": {},
   "source": [
    "Q13. We can same program from crashing using exception handling feature of Python."
   ]
  },
  {
   "cell_type": "markdown",
   "id": "3bc73ba4",
   "metadata": {},
   "source": [
    "Q14. Try clause is used to examine the code that we feel can give an runtime error. While except clause shows what error has ocured in the code which was in try block."
   ]
  },
  {
   "cell_type": "code",
   "execution_count": null,
   "id": "b2916d5c",
   "metadata": {},
   "outputs": [],
   "source": []
  }
 ],
 "metadata": {
  "kernelspec": {
   "display_name": "Python 3",
   "language": "python",
   "name": "python3"
  },
  "language_info": {
   "codemirror_mode": {
    "name": "ipython",
    "version": 3
   },
   "file_extension": ".py",
   "mimetype": "text/x-python",
   "name": "python",
   "nbconvert_exporter": "python",
   "pygments_lexer": "ipython3",
   "version": "3.8.8"
  }
 },
 "nbformat": 4,
 "nbformat_minor": 5
}
