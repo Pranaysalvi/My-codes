{
 "cells": [
  {
   "cell_type": "code",
   "execution_count": 1,
   "id": "faf4356f",
   "metadata": {},
   "outputs": [
    {
     "name": "stdout",
     "output_type": "stream",
     "text": [
      "How many terms? 5\n",
      "Fibonacci sequence:\n",
      "0\n",
      "1\n",
      "1\n",
      "2\n",
      "3\n"
     ]
    }
   ],
   "source": [
    "#Q1\n",
    "def recur_fibo(n):  \n",
    "   if n <= 1:  \n",
    "       return n  \n",
    "   else:  \n",
    "       return(recur_fibo(n-1) + recur_fibo(n-2))  \n",
    "nterms = int(input(\"How many terms? \"))  \n",
    "\n",
    "if nterms <= 0:  \n",
    "   print(\"Plese enter a positive integer\")  \n",
    "else:  \n",
    "   print(\"Fibonacci sequence:\")  \n",
    "   for i in range(nterms):  \n",
    "       print(recur_fibo(i))  \n",
    "    "
   ]
  },
  {
   "cell_type": "code",
   "execution_count": 3,
   "id": "ee801a17",
   "metadata": {},
   "outputs": [
    {
     "name": "stdout",
     "output_type": "stream",
     "text": [
      "enter the number: 7\n",
      "The factorial of 7 is 5040\n"
     ]
    }
   ],
   "source": [
    "#Q2\n",
    "def factorial(n):\n",
    "   if n == 1:\n",
    "       return n\n",
    "   else:\n",
    "       return n*factorial(n-1)\n",
    "\n",
    "num = int(input(\"enter the number: \"))\n",
    "\n",
    "if num < 0:\n",
    "   print(\"Sorry, factorial does not exist for negative numbers\")\n",
    "elif num == 0:\n",
    "   print(\"The factorial of 0 is 1\")\n",
    "else:\n",
    "   print(\"The factorial of\", num, \"is\", factorial(num))"
   ]
  },
  {
   "cell_type": "code",
   "execution_count": 4,
   "id": "dee36871",
   "metadata": {},
   "outputs": [
    {
     "name": "stdout",
     "output_type": "stream",
     "text": [
      "enter the height in cm : 169\n",
      "enter the weight in kg: 66\n",
      "Body mass is:  23.1084345786212\n",
      "your weight is normal!!\n"
     ]
    }
   ],
   "source": [
    "#Q3\n",
    "def body_mass():\n",
    "    height = int(input(\"enter the height in cm : \"))\n",
    "    weight = int(input(\"enter the weight in kg: \"))\n",
    "    bms = weight / (height/100)**2\n",
    "    print(\"Body mass is: \",bms)\n",
    "    if bms <= 18.4:\n",
    "        print(\"you are underweight!!\")\n",
    "    elif bms <= 24.9:\n",
    "        print(\"your weight is normal!!\")\n",
    "    elif bms <= 29.9:\n",
    "        print(\"you are over weight\")\n",
    "    elif bms <= 34.9:\n",
    "        print(\"you are severely over weight!\")\n",
    "    else:\n",
    "        print(\"you are obese\")\n",
    "\n",
    "body_mass()"
   ]
  },
  {
   "cell_type": "code",
   "execution_count": 6,
   "id": "49874b80",
   "metadata": {},
   "outputs": [
    {
     "name": "stdout",
     "output_type": "stream",
     "text": [
      "enter the number: 4\n",
      "log of 4 is  1.3862943611198906\n"
     ]
    }
   ],
   "source": [
    "#Q4\n",
    "import math\n",
    "def log_fun():\n",
    "    num = int(input(\"enter the number: \"))\n",
    "    print(\"log of \" + str(num) + \" is \",math.log(num))\n",
    "\n",
    "log_fun()"
   ]
  },
  {
   "cell_type": "code",
   "execution_count": 8,
   "id": "ae361f76",
   "metadata": {},
   "outputs": [
    {
     "name": "stdout",
     "output_type": "stream",
     "text": [
      "enter number of range : 5\n",
      "225\n"
     ]
    }
   ],
   "source": [
    "#Q5\n",
    "def cube_sum():\n",
    "    num  = int(input(\"enter number of range : \"))\n",
    "    sum = 0\n",
    "    for i in range(1,num+1):\n",
    "        sum = sum + i**3\n",
    "    print(sum)\n",
    "cube_sum()"
   ]
  },
  {
   "cell_type": "code",
   "execution_count": null,
   "id": "1fefe5ae",
   "metadata": {},
   "outputs": [],
   "source": []
  }
 ],
 "metadata": {
  "kernelspec": {
   "display_name": "Python 3",
   "language": "python",
   "name": "python3"
  },
  "language_info": {
   "codemirror_mode": {
    "name": "ipython",
    "version": 3
   },
   "file_extension": ".py",
   "mimetype": "text/x-python",
   "name": "python",
   "nbconvert_exporter": "python",
   "pygments_lexer": "ipython3",
   "version": "3.8.8"
  }
 },
 "nbformat": 4,
 "nbformat_minor": 5
}
