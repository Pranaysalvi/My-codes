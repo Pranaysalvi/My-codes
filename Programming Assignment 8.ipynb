{
 "cells": [
  {
   "cell_type": "code",
   "execution_count": 3,
   "id": "8cdd0dde",
   "metadata": {},
   "outputs": [
    {
     "name": "stdout",
     "output_type": "stream",
     "text": [
      "[15, 14, 4]\n",
      "[9, 12, 9]\n",
      "[11, 13, 18]\n"
     ]
    }
   ],
   "source": [
    "#Q1\n",
    "def matrix_add():\n",
    "    arr1 = [[10,6,3],\n",
    "            [3,5,6],\n",
    "            [7,8,9]]\n",
    "    arr2 = [[5,8,1], \n",
    "            [6,7,3],\n",
    "            [4,5,9]]\n",
    "    \n",
    "    result = [[0,0,0],\n",
    "              [0,0,0],\n",
    "              [0,0,0]]\n",
    "\n",
    "    for i in range(len(arr1)):\n",
    "        for j in range(len(arr1[0])):\n",
    "            result[i][j] = arr1[i][j] + arr2[i][j]\n",
    "            \n",
    "    for num in result:\n",
    "        print(num)\n",
    "matrix_add()"
   ]
  },
  {
   "cell_type": "code",
   "execution_count": 7,
   "id": "cd1ab005",
   "metadata": {},
   "outputs": [
    {
     "name": "stdout",
     "output_type": "stream",
     "text": [
      "[98, 137, 55]\n",
      "[69, 89, 72]\n",
      "[119, 157, 112]\n"
     ]
    }
   ],
   "source": [
    "#Q2\n",
    "def matrix_mul():\n",
    "    arr1 = [[10,6,3],\n",
    "            [3,5,6],\n",
    "            [7,8,9]]\n",
    "    arr2 = [[5,8,1], \n",
    "            [6,7,3],\n",
    "            [4,5,9]]\n",
    "    \n",
    "    result = [[0,0,0],\n",
    "              [0,0,0],\n",
    "              [0,0,0]]\n",
    "\n",
    "    for i in range(len(arr1)):\n",
    "        for j in range(len(arr2[0])):\n",
    "            for k in range(len(arr2)):\n",
    "                result[i][j] += arr1[i][k] * arr2[k][j]\n",
    "            \n",
    "    for num in result:\n",
    "        print(num)\n",
    "matrix_mul()"
   ]
  },
  {
   "cell_type": "code",
   "execution_count": 9,
   "id": "41533a77",
   "metadata": {},
   "outputs": [
    {
     "name": "stdout",
     "output_type": "stream",
     "text": [
      "[12, 4, 3]\n",
      "[7, 5, 8]\n"
     ]
    }
   ],
   "source": [
    "#Q3\n",
    "def transpose():\n",
    "    \n",
    "    arr =  [[12,7],\n",
    "            [4 ,5],\n",
    "            [3 ,8]]\n",
    "\n",
    "    result = [[0,0,0],\n",
    "              [0,0,0]]\n",
    "\n",
    "\n",
    "    for i in range(len(arr)):\n",
    "   \n",
    "       for j in range(len(arr[0])):\n",
    "           result[j][i] = arr[i][j]\n",
    "\n",
    "    for r in result:\n",
    "       print(r)\n",
    "    \n",
    "transpose()"
   ]
  },
  {
   "cell_type": "code",
   "execution_count": 13,
   "id": "f2e8c337",
   "metadata": {},
   "outputs": [
    {
     "name": "stdout",
     "output_type": "stream",
     "text": [
      "enter the string: This is python code\n",
      "code\n",
      "is\n",
      "python\n",
      "this\n"
     ]
    }
   ],
   "source": [
    "#Q4\n",
    "def sort_word():\n",
    "    my_str = input(\"enter the string: \")\n",
    "    words = [word.lower() for word in my_str.split()]\n",
    "        \n",
    "    words.sort()\n",
    "    for word in words:\n",
    "        print(word)\n",
    "sort_word()"
   ]
  },
  {
   "cell_type": "code",
   "execution_count": 18,
   "id": "fefa8e72",
   "metadata": {},
   "outputs": [
    {
     "name": "stdout",
     "output_type": "stream",
     "text": [
      "we are studying python\n"
     ]
    }
   ],
   "source": [
    "#Q5\n",
    "def remove_punctuation():\n",
    "    punctuations = '''!()-[]{};:'\"\\,<>./?@#$%^&*_~'''\n",
    "\n",
    "    my_str = \"we are. studying!! (python)\"\n",
    "\n",
    "    no_punct = \"\"\n",
    "    for char in my_str:\n",
    "       if char not in punctuations:\n",
    "           no_punct = no_punct + char\n",
    "\n",
    "    print(no_punct)\n",
    "\n",
    "remove_punctuation()"
   ]
  },
  {
   "cell_type": "code",
   "execution_count": null,
   "id": "77f9bf69",
   "metadata": {},
   "outputs": [],
   "source": []
  }
 ],
 "metadata": {
  "kernelspec": {
   "display_name": "Python 3",
   "language": "python",
   "name": "python3"
  },
  "language_info": {
   "codemirror_mode": {
    "name": "ipython",
    "version": 3
   },
   "file_extension": ".py",
   "mimetype": "text/x-python",
   "name": "python",
   "nbconvert_exporter": "python",
   "pygments_lexer": "ipython3",
   "version": "3.8.8"
  }
 },
 "nbformat": 4,
 "nbformat_minor": 5
}
