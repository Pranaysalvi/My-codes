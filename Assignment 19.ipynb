{
 "cells": [
  {
   "cell_type": "markdown",
   "id": "1143bc6a",
   "metadata": {},
   "source": [
    "Q1.\n",
    "\n",
    "class Thing:\n",
    "\n",
    "    pass\n",
    "\n",
    "print(Thing)\n",
    "\n",
    "example = Thing()\n",
    "\n",
    "print(example)\n",
    "\n",
    "# both the outputs are different."
   ]
  },
  {
   "cell_type": "markdown",
   "id": "fe289eb4",
   "metadata": {},
   "source": [
    "Q2.\n",
    "class Thing2:\n",
    "    \n",
    "    letters = 'abc'\n",
    "\n",
    "print(Thing2.letters)"
   ]
  },
  {
   "cell_type": "markdown",
   "id": "881798a3",
   "metadata": {},
   "source": [
    "Q3.\n",
    "class Thing3:\n",
    "\n",
    "    def __init__(self,letter):\n",
    "    \n",
    "        self.letter = letter\n",
    "        \n",
    "    def letters(self):\n",
    "    \n",
    "        print(self.letter)\n",
    "        \n",
    "Thing3('xyz').letters()"
   ]
  },
  {
   "cell_type": "markdown",
   "id": "e1363b65",
   "metadata": {},
   "source": [
    "Q4\n",
    "class Element:\n",
    "    \n",
    "    def __init__(self,name,symbol,number):\n",
    "        \n",
    "        self.name = name\n",
    "        \n",
    "        self.symbol = symbol\n",
    "        \n",
    "        self.number = number\n",
    "        \n",
    "        print(self.name,self.symbol,self.number)\n",
    "        \n",
    "obj = Element('Hydrogen','H',1)"
   ]
  },
  {
   "cell_type": "markdown",
   "id": "81680a4e",
   "metadata": {},
   "source": [
    "Q5. dict = {'name':'Hydrogen', 'symbol':'H','number': 1}\n",
    "\n",
    "hydrogen = Element(**dict)\n",
    "\n",
    "hydrogen.symbol"
   ]
  },
  {
   "cell_type": "markdown",
   "id": "85a7be11",
   "metadata": {},
   "source": [
    "Q6. class Element:\n",
    "    \n",
    "    def __init__(self,name,symbol,number):\n",
    "        \n",
    "        self.name = name\n",
    "        \n",
    "        self.symbol = symbol\n",
    "        \n",
    "        self.number = number\n",
    "        \n",
    "    def dump(self):\n",
    "        \n",
    "        print(self.name,self.symbol,self.number)\n",
    "hydrogen = Element('Hydrogen','H',1)"
   ]
  },
  {
   "cell_type": "markdown",
   "id": "0b425c1e",
   "metadata": {},
   "source": [
    "Q7.\n",
    "class Element:\n",
    "    \n",
    "    def __init__(self,name,symbol,number):\n",
    "        \n",
    "        self.name = name\n",
    "        \n",
    "        self.symbol = symbol\n",
    "        \n",
    "        self.number = number\n",
    "        \n",
    "    def __str__(self):\n",
    "        return ('name=%s, symbol=%s, number=%s'% (self.name, self.symbol, self.number) )\n",
    "hydrogen = Element('Hydrogen','H',1)\n",
    "print(hydrogen)"
   ]
  },
  {
   "cell_type": "markdown",
   "id": "d032a817",
   "metadata": {},
   "source": [
    "Q8.\n",
    "class Element(): \n",
    "    \n",
    "    def __init__(self ,name,symbol,number):\n",
    "        \n",
    "        self.__name = name\n",
    "        \n",
    "        self.__symbol = symbol\n",
    "        \n",
    "        self.__number = number\n",
    "        \n",
    "    @property\n",
    "    \n",
    "    def name(self):\n",
    "        \n",
    "        return (self.__name)\n",
    "    \n",
    "    @property\n",
    "    \n",
    "    def symbol(self):\n",
    "        \n",
    "        return (self.__symbol)\n",
    "    \n",
    "    @property\n",
    "    \n",
    "    def number(self):\n",
    "        \n",
    "        return (self.__number)\n",
    "    \n",
    "hydrogen = Element('Hydrogen','H',1)\n",
    "\n",
    "hydrogen.name"
   ]
  },
  {
   "cell_type": "markdown",
   "id": "bc09535a",
   "metadata": {},
   "source": [
    "Q9.\n",
    "\n",
    "class Bear:\n",
    "    \n",
    "    def eats():\n",
    "        \n",
    "        print('berries')\n",
    "        \n",
    "class Rabbit:\n",
    "    \n",
    "    def eats():\n",
    "        \n",
    "        print('clover')\n",
    "        \n",
    "class Octothorpe:\n",
    "    \n",
    "    def eats():\n",
    "        \n",
    "        print('campers')\n",
    "        \n",
    "Bear.eats()\n",
    "\n",
    "Rabbit.eats()\n",
    "\n",
    "Octothorpe.eats()\n",
    "    "
   ]
  },
  {
   "cell_type": "markdown",
   "id": "b8e8f419",
   "metadata": {},
   "source": [
    "Q10.\n",
    "class Laser:\n",
    "    \n",
    "    def does(self):\n",
    "        \n",
    "        return('disitegrate')\n",
    "    \n",
    "class Claw:\n",
    "    \n",
    "    def does(self):\n",
    "        \n",
    "        return('crush')\n",
    "    \n",
    "class SmartPhone:\n",
    "    \n",
    "    def does(self):\n",
    "        \n",
    "        return('ring')\n",
    "        \n",
    "class Robot:\n",
    "    \n",
    "    def __init__(self):\n",
    "        \n",
    "        self.laser = Laser()\n",
    "        \n",
    "        self.claw = Claw()\n",
    "        \n",
    "        self.smartphone = SmartPhone()\n",
    "        \n",
    "    def does(self):\n",
    "        \n",
    "        return (self.laser.does(),self.claw.does(),self.smartphone.does())\n",
    "\n",
    "robo = Robot()\n",
    "\n",
    "robo.does()"
   ]
  },
  {
   "cell_type": "code",
   "execution_count": null,
   "id": "a879c51f",
   "metadata": {},
   "outputs": [],
   "source": []
  },
  {
   "cell_type": "code",
   "execution_count": null,
   "id": "64a2af1c",
   "metadata": {},
   "outputs": [],
   "source": []
  },
  {
   "cell_type": "code",
   "execution_count": null,
   "id": "70f4298a",
   "metadata": {},
   "outputs": [],
   "source": []
  }
 ],
 "metadata": {
  "kernelspec": {
   "display_name": "Python 3",
   "language": "python",
   "name": "python3"
  },
  "language_info": {
   "codemirror_mode": {
    "name": "ipython",
    "version": 3
   },
   "file_extension": ".py",
   "mimetype": "text/x-python",
   "name": "python",
   "nbconvert_exporter": "python",
   "pygments_lexer": "ipython3",
   "version": "3.8.8"
  }
 },
 "nbformat": 4,
 "nbformat_minor": 5
}
