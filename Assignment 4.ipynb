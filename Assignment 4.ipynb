{
 "cells": [
  {
   "cell_type": "markdown",
   "id": "9760d366",
   "metadata": {},
   "source": [
    "Q1. [] this denotes that it is a blank list."
   ]
  },
  {
   "cell_type": "markdown",
   "id": "1d9f2057",
   "metadata": {},
   "source": [
    "Q2. There are different ways to assign a value in list spam at 3rd index. one method is by directly assigning value to spam at particular index. Example spam[2]='hello' it will replace value at the given index with 'hello'.\n",
    "Another method is by using insert function. example spam.insert(2,'hello') this will add hello at given index and will shift the values on that index to its right side. \n",
    "\n"
   ]
  },
  {
   "cell_type": "markdown",
   "id": "51302a28",
   "metadata": {},
   "source": [
    "Q3. The value will be the value present at index 3. That is 'd'.\n"
   ]
  },
  {
   "cell_type": "markdown",
   "id": "8d79b851",
   "metadata": {},
   "source": [
    "Q4. The value will be 'd'. As it will check very last value in list."
   ]
  },
  {
   "cell_type": "markdown",
   "id": "dbf1b263",
   "metadata": {},
   "source": [
    "Q5. The output will be 'a' & 'b'. As spam[:2] fetch value starting from 0th index till 2nd but it will not include value at 2nd index. for example if it was spam[:3] it would have iterated till 2nd index and not 3rd index."
   ]
  },
  {
   "cell_type": "markdown",
   "id": "d81764e3",
   "metadata": {},
   "source": [
    "Q6.  It will give index of the value ' cat' which is 1."
   ]
  },
  {
   "cell_type": "markdown",
   "id": "f2fae40d",
   "metadata": {},
   "source": [
    "Q7. bacon.append(99) will add value 99 at end of the list bacon and output will be [3.14,'cat',11,'cat',True,99]"
   ]
  },
  {
   "cell_type": "markdown",
   "id": "ebf4cc28",
   "metadata": {},
   "source": [
    "Q8. bacon.remove('cat') will remove very first occurance of the element 'cat' from the list and the updated list will look like  [3.14,11,'cat',True,99].\n"
   ]
  },
  {
   "cell_type": "markdown",
   "id": "a8cda5bb",
   "metadata": {},
   "source": [
    "Q9. List concatnation operator is + operator where as list replication operator is * operator. "
   ]
  },
  {
   "cell_type": "markdown",
   "id": "e192821c",
   "metadata": {},
   "source": [
    "Q10. Difference between append() and insert() method is that append() method allows you to add element at end of the list. While insert() method takes to parameters which allows you to add element at desired index."
   ]
  },
  {
   "cell_type": "markdown",
   "id": "0ea7671e",
   "metadata": {},
   "source": [
    "Q11. The two methods to remove items from list are remove() and pop() method."
   ]
  },
  {
   "cell_type": "markdown",
   "id": "c94a4f78",
   "metadata": {},
   "source": [
    "Q12. List and string are identical as both are in sequence."
   ]
  },
  {
   "cell_type": "markdown",
   "id": "1edc5084",
   "metadata": {},
   "source": [
    "Q13. Major difference between list and tuples is that tuples are immutable i.e they cannot be modified. While list is mutable and can be modified when needed."
   ]
  },
  {
   "cell_type": "markdown",
   "id": "d0872b7e",
   "metadata": {},
   "source": [
    "Q14. We can write tuple that contains value 42 as (42,) , is important because if you just write as (42) it will treat as integer."
   ]
  },
  {
   "cell_type": "markdown",
   "id": "8f94a9b9",
   "metadata": {},
   "source": [
    "Q15. To get list values in tuples form we use tuple(list) tuple  function and pass list in it. To get tuple values in list form use list(tuple) list method and pass tuple in it."
   ]
  },
  {
   "cell_type": "markdown",
   "id": "8946055b",
   "metadata": {},
   "source": [
    "Q16. Variables that \"contain\" list values they contains reference to list value."
   ]
  },
  {
   "cell_type": "markdown",
   "id": "78c10f15",
   "metadata": {},
   "source": [
    "Q17. copy.copy creates the object and then copies all the all the data from orignal object. While copy.deepcopy copies all the data recursively from original object."
   ]
  },
  {
   "cell_type": "code",
   "execution_count": null,
   "id": "e2af1178",
   "metadata": {},
   "outputs": [],
   "source": []
  }
 ],
 "metadata": {
  "kernelspec": {
   "display_name": "Python 3",
   "language": "python",
   "name": "python3"
  },
  "language_info": {
   "codemirror_mode": {
    "name": "ipython",
    "version": 3
   },
   "file_extension": ".py",
   "mimetype": "text/x-python",
   "name": "python",
   "nbconvert_exporter": "python",
   "pygments_lexer": "ipython3",
   "version": "3.8.8"
  }
 },
 "nbformat": 4,
 "nbformat_minor": 5
}
