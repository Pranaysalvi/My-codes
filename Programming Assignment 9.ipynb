{
 "cells": [
  {
   "cell_type": "code",
   "execution_count": 6,
   "id": "6ab22d63",
   "metadata": {},
   "outputs": [
    {
     "name": "stdout",
     "output_type": "stream",
     "text": [
      "enter the number: 175\n",
      "it is a disarium\n"
     ]
    }
   ],
   "source": [
    "#Q1\n",
    "def disarium():\n",
    "    num = input(\"enter the number: \")\n",
    "    count = 1\n",
    "    sum = 0\n",
    "    for i in range(len(num)):\n",
    "        sum = sum + int(num[i])**count\n",
    "        count = count + 1 \n",
    "    if int(num) == sum:\n",
    "        print(\"it is a disarium\")\n",
    "    else:\n",
    "        print(\"It is not a disarium\")\n",
    "disarium()"
   ]
  },
  {
   "cell_type": "code",
   "execution_count": 13,
   "id": "a4b3572e",
   "metadata": {},
   "outputs": [
    {
     "name": "stdout",
     "output_type": "stream",
     "text": [
      "1\n",
      "2\n",
      "3\n",
      "4\n",
      "5\n",
      "6\n",
      "7\n",
      "8\n",
      "9\n",
      "89\n"
     ]
    }
   ],
   "source": [
    "#Q2\n",
    "def disarium():\n",
    "    \n",
    "    for num in range(1,100):\n",
    "        count = 1\n",
    "        sum = 0\n",
    "        nums = str(num)\n",
    "        for i in range(len(nums)):\n",
    "            sum = sum + int(nums[i])**count\n",
    "            count = count + 1 \n",
    "        if num == sum:\n",
    "            print(num)\n",
    "        \n",
    "disarium()"
   ]
  },
  {
   "cell_type": "code",
   "execution_count": 27,
   "id": "01c649e2",
   "metadata": {},
   "outputs": [
    {
     "name": "stdout",
     "output_type": "stream",
     "text": [
      "enter number: 932\n",
      "its a happy number:\n"
     ]
    }
   ],
   "source": [
    "#Q3\n",
    "def happy_num():\n",
    "    num = input(\"enter number: \")\n",
    "    set = num\n",
    "    while num != '1':\n",
    "        sum = 0 \n",
    "        for i in range(len(num)):\n",
    "            sum = sum + int(num[i])**2\n",
    "        num = str(sum)\n",
    "        if num == '1':\n",
    "            print(\"its a happy number:\")\n",
    "            break\n",
    "        if num == set:\n",
    "            print(\"not a happy number\")\n",
    "            break\n",
    "        \n",
    "    \n",
    "happy_num()"
   ]
  },
  {
   "cell_type": "code",
   "execution_count": 23,
   "id": "63011a47",
   "metadata": {},
   "outputs": [
    {
     "name": "stdout",
     "output_type": "stream",
     "text": [
      "The list of happy numbers between 1 and 100 are : \n",
      "1\n",
      "7\n",
      "10\n",
      "13\n",
      "19\n",
      "23\n",
      "28\n",
      "31\n",
      "32\n",
      "44\n",
      "49\n",
      "68\n",
      "70\n",
      "79\n",
      "82\n",
      "86\n",
      "91\n",
      "94\n",
      "97\n",
      "100\n"
     ]
    }
   ],
   "source": [
    "#Q4\n",
    "def check_happy_num(my_num):\n",
    "   remaining = sum_val = 0\n",
    "   while(my_num > 0):\n",
    "      remaining = my_num%10\n",
    "      sum_val = sum_val + (remaining*remaining)\n",
    "      my_num = my_num//10\n",
    "   return sum_val\n",
    "print(\"The list of happy numbers between 1 and 100 are : \")\n",
    "for i in range(1, 101):\n",
    "   my_result = i\n",
    "   while(my_result != 1 and my_result != 4):\n",
    "      my_result = check_happy_num(my_result)\n",
    "   if(my_result == 1):\n",
    "      print(i)"
   ]
  },
  {
   "cell_type": "code",
   "execution_count": 32,
   "id": "37f76dc3",
   "metadata": {},
   "outputs": [
    {
     "name": "stdout",
     "output_type": "stream",
     "text": [
      "enter num: 15\n",
      "its not harshand number\n"
     ]
    }
   ],
   "source": [
    "#Q5\n",
    "def harshad_num():\n",
    "    num = int(input(\"enter num: \"))\n",
    "    rem = sum = 0\n",
    "    n = num\n",
    "    while num > 0:\n",
    "        rem = num % 10\n",
    "        sum = sum + rem\n",
    "        num = num // 10\n",
    "        \n",
    "    if(n%sum == 0):\n",
    "        print(\"its a harshad number\")\n",
    "    else:\n",
    "        print(\"its not harshand number\")\n",
    "harshad_num()        "
   ]
  },
  {
   "cell_type": "code",
   "execution_count": 33,
   "id": "ecddb80e",
   "metadata": {},
   "outputs": [
    {
     "name": "stdout",
     "output_type": "stream",
     "text": [
      "1\n",
      "2\n",
      "3\n",
      "4\n",
      "5\n",
      "6\n",
      "7\n",
      "8\n",
      "9\n",
      "10\n",
      "12\n",
      "18\n",
      "20\n",
      "21\n",
      "24\n",
      "27\n",
      "30\n",
      "36\n",
      "40\n",
      "42\n",
      "45\n",
      "48\n",
      "50\n",
      "54\n",
      "60\n",
      "63\n",
      "70\n",
      "72\n",
      "80\n",
      "81\n",
      "84\n",
      "90\n",
      "100\n"
     ]
    }
   ],
   "source": [
    "#Q6\n",
    "def harshad_num():\n",
    "    for num in range(1,101):\n",
    "        rem = sum = 0\n",
    "        n = num\n",
    "        while num > 0:\n",
    "            rem = num % 10\n",
    "            sum = sum + rem\n",
    "            num = num // 10\n",
    "        \n",
    "        if(n%sum == 0):\n",
    "            print(n)\n",
    "harshad_num()        "
   ]
  },
  {
   "cell_type": "code",
   "execution_count": null,
   "id": "c49d400e",
   "metadata": {},
   "outputs": [],
   "source": []
  }
 ],
 "metadata": {
  "kernelspec": {
   "display_name": "Python 3",
   "language": "python",
   "name": "python3"
  },
  "language_info": {
   "codemirror_mode": {
    "name": "ipython",
    "version": 3
   },
   "file_extension": ".py",
   "mimetype": "text/x-python",
   "name": "python",
   "nbconvert_exporter": "python",
   "pygments_lexer": "ipython3",
   "version": "3.8.8"
  }
 },
 "nbformat": 4,
 "nbformat_minor": 5
}
