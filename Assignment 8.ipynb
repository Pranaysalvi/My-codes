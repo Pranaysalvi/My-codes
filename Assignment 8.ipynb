{
 "cells": [
  {
   "cell_type": "markdown",
   "id": "3e8b7d31",
   "metadata": {},
   "source": [
    "Q1. No PyInputPlus is not a part of standard python library. "
   ]
  },
  {
   "cell_type": "markdown",
   "id": "ee96966b",
   "metadata": {},
   "source": [
    "Q2. PyInputPlus is imported as pypi because instead of using pyinputplus it is convenient to use pypi for calling module function."
   ]
  },
  {
   "cell_type": "markdown",
   "id": "4289cdd9",
   "metadata": {},
   "source": [
    "Q3. inputint() returns integer value where as inputfloat() returns float value."
   ]
  },
  {
   "cell_type": "markdown",
   "id": "3993045c",
   "metadata": {},
   "source": [
    "Q4. We can ensure that user enter whole number by using pypi.inputint() method."
   ]
  },
  {
   "cell_type": "markdown",
   "id": "531af684",
   "metadata": {},
   "source": [
    "Q5. Regular expression string is passed to allowRegexes and blockRegexes."
   ]
  },
  {
   "cell_type": "markdown",
   "id": "6ca0f2e9",
   "metadata": {},
   "source": [
    "Q6. It will raise an RetryLimitException."
   ]
  },
  {
   "cell_type": "markdown",
   "id": "957013da",
   "metadata": {},
   "source": [
    "Q7. It will set 'hello' to the variable. That is it will return 'hello'."
   ]
  },
  {
   "cell_type": "code",
   "execution_count": null,
   "id": "d63c6cad",
   "metadata": {},
   "outputs": [],
   "source": []
  }
 ],
 "metadata": {
  "kernelspec": {
   "display_name": "Python 3",
   "language": "python",
   "name": "python3"
  },
  "language_info": {
   "codemirror_mode": {
    "name": "ipython",
    "version": 3
   },
   "file_extension": ".py",
   "mimetype": "text/x-python",
   "name": "python",
   "nbconvert_exporter": "python",
   "pygments_lexer": "ipython3",
   "version": "3.8.8"
  }
 },
 "nbformat": 4,
 "nbformat_minor": 5
}
