{
 "cells": [
  {
   "cell_type": "code",
   "execution_count": 3,
   "id": "7a646a96",
   "metadata": {},
   "outputs": [
    {
     "name": "stdout",
     "output_type": "stream",
     "text": [
      "100\n",
      "[0, 7, 14, 21, 28, 35, 42, 49, 56, 63, 70, 77, 84, 91, 98]\n"
     ]
    }
   ],
   "source": [
    "#Q1\n",
    "def divCheck():\n",
    "    n = int(input())\n",
    "    divBy7 = [i for i in range(0, n) if (i % 7 == 0)]\n",
    "    print(divBy7)\n",
    "    \n",
    "\n",
    "divCheck()"
   ]
  },
  {
   "cell_type": "code",
   "execution_count": 14,
   "id": "980792a7",
   "metadata": {},
   "outputs": [
    {
     "name": "stdout",
     "output_type": "stream",
     "text": [
      "enter the sentence: New to Python or choosing between Python 2 and Python 3? Read Python 2 or Python 3.\n",
      "[('2', 2), ('3.', 1), ('3?', 1), ('New', 1), ('Python', 5), ('Read', 1), ('and', 1), ('between', 1), ('choosing', 1), ('or', 2), ('to', 1)]\n"
     ]
    }
   ],
   "source": [
    "#Q2\n",
    "import operator\n",
    "def frequency():\n",
    "    string = input(\"enter the sentence: \")\n",
    "    s_frequency = {}\n",
    "    for i in string.split(\" \"):\n",
    "        if i not in s_frequency:\n",
    "            s_frequency[i] = 1\n",
    "        elif i in s_frequency:\n",
    "             s_frequency[i] = s_frequency[i] + 1\n",
    "    sorted_freq_dict = sorted(s_frequency.items(), key = operator.itemgetter(0))\n",
    "    print(sorted_freq_dict)\n",
    "    \n",
    "frequency()"
   ]
  },
  {
   "cell_type": "code",
   "execution_count": 29,
   "id": "3cc1c7f6",
   "metadata": {},
   "outputs": [
    {
     "name": "stdout",
     "output_type": "stream",
     "text": [
      "male\n",
      "female\n"
     ]
    }
   ],
   "source": [
    "#Q3\n",
    "class Person:\n",
    "    def getgender(self):\n",
    "        print(\"unknown\")\n",
    "\n",
    "class Male(Person):\n",
    "    def getgender(self):\n",
    "        print(\"male\")\n",
    "\n",
    "class Female(Person):\n",
    "    def getgender(self):\n",
    "        print(\"female\")\n",
    "\n",
    "m = Male() \n",
    "f = Female()\n",
    "m.getgender()\n",
    "f.getgender()\n"
   ]
  },
  {
   "cell_type": "code",
   "execution_count": 30,
   "id": "1d10934c",
   "metadata": {},
   "outputs": [
    {
     "name": "stdout",
     "output_type": "stream",
     "text": [
      "I love hockey.\n",
      "I love football.\n",
      "I play hockey.\n",
      "I play football.\n",
      "You love hockey.\n",
      "You love football.\n",
      "You play hockey.\n",
      "You play football.\n"
     ]
    }
   ],
   "source": [
    "#Q4\n",
    "def sentence():\n",
    "    subjects = [\"I\",\"You\"]\n",
    "    verbs = [\"love\",\"play\"]\n",
    "    objects = [\"hockey\",\"football\"]\n",
    "    for s in subjects:\n",
    "        for v in verbs:\n",
    "            for o in objects:\n",
    "                print(s + \" \" + v + \" \" + o + \".\")\n",
    "sentence()"
   ]
  },
  {
   "cell_type": "code",
   "execution_count": 34,
   "id": "6fad891d",
   "metadata": {},
   "outputs": [
    {
     "name": "stdout",
     "output_type": "stream",
     "text": [
      "b'x\\x9c\\xcbH\\xcd\\xc9\\xc9W(\\xcf/\\xcaIQ\\xcc \\x82\\r\\x00\\xbd[\\x11\\xf5'\n",
      "b'hello world!hello world!hello world!hello world!'\n"
     ]
    }
   ],
   "source": [
    "#Q5\n",
    "s = 'hello world!hello world!hello world!hello world!'\n",
    "y = bytes(s, 'utf-8')\n",
    "x = zlib.compress(y)\n",
    "print(x)\n",
    "print(zlib.decompress(x))\n"
   ]
  },
  {
   "cell_type": "code",
   "execution_count": 40,
   "id": "55bad6c9",
   "metadata": {},
   "outputs": [
    {
     "name": "stdout",
     "output_type": "stream",
     "text": [
      "enter the item to search: 21\n",
      "item index is:  4\n"
     ]
    }
   ],
   "source": [
    "#Q6\n",
    "def binary():\n",
    "    items = [12,13,15,18,21]\n",
    "    item = int(input(\"enter the item to search: \"))\n",
    "    count = 0\n",
    "    for i in range(len(items)):\n",
    "        if item == items[i]:\n",
    "            print(\"item index is: \", i)\n",
    "            count = 1\n",
    "    if count == 0:\n",
    "        print(\"item not found\")\n",
    "binary()"
   ]
  },
  {
   "cell_type": "code",
   "execution_count": null,
   "id": "771d7f76",
   "metadata": {},
   "outputs": [],
   "source": []
  }
 ],
 "metadata": {
  "kernelspec": {
   "display_name": "Python 3",
   "language": "python",
   "name": "python3"
  },
  "language_info": {
   "codemirror_mode": {
    "name": "ipython",
    "version": 3
   },
   "file_extension": ".py",
   "mimetype": "text/x-python",
   "name": "python",
   "nbconvert_exporter": "python",
   "pygments_lexer": "ipython3",
   "version": "3.8.8"
  }
 },
 "nbformat": 4,
 "nbformat_minor": 5
}
