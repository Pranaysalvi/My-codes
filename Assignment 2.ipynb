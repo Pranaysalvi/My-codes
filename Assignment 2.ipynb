{
 "cells": [
  {
   "cell_type": "markdown",
   "id": "d4235d7f",
   "metadata": {},
   "source": [
    "Q1. Two boolean values are True and False.\n"
   ]
  },
  {
   "cell_type": "markdown",
   "id": "cdc32b75",
   "metadata": {},
   "source": [
    "Q2. Three boolean operators are And, Or and Not"
   ]
  },
  {
   "cell_type": "markdown",
   "id": "86a46498",
   "metadata": {},
   "source": [
    "Q3. Boolean truth table :\n",
    "\n",
    "And operator:\n",
    "\n",
    "True and True = True\n",
    "\n",
    "True and False = False\n",
    "\n",
    "False and True = False\n",
    "\n",
    "False and False = False\n",
    "\n",
    "Or operator:\n",
    "\n",
    "True or True = True\n",
    "\n",
    "True or False = true\n",
    "\n",
    "False or True = true\n",
    "\n",
    "False or False = False\n",
    "\n",
    "Not operator:\n",
    "\n",
    "Not True =  False\n",
    "\n",
    "Not False = True"
   ]
  },
  {
   "cell_type": "markdown",
   "id": "6c812f34",
   "metadata": {},
   "source": [
    "Q4.  a. False\n",
    "    \n",
    "    b. False\n",
    "\n",
    "    c. True\n",
    "    \n",
    "    d. False\n",
    "    \n",
    "    e. False\n",
    "    \n",
    "    f. True"
   ]
  },
  {
   "cell_type": "markdown",
   "id": "1b602990",
   "metadata": {},
   "source": [
    "Q5. Six comparison operators are <,>,=,!=,<=,>="
   ]
  },
  {
   "cell_type": "markdown",
   "id": "5f6da4bd",
   "metadata": {},
   "source": [
    "Q6. Equal to is an operator which checks weather value on left side is equal to value on right side value.\n",
    "   \n",
    "   Assignment operator assigns the value to variable. \n",
    "   \n",
    "   we can use equal to operatoe in case if we have to compair to values. example: 4 == 5.\n",
    "   we use assignment operator when we have to assign value to variable. Example: a = 3.\n",
    "\n"
   ]
  },
  {
   "cell_type": "markdown",
   "id": "f06b6e05",
   "metadata": {},
   "source": [
    "Q7. blocks in the codes were on code line 3, 5 and 7 there should be proper indentation.\n",
    "\n",
    "# correct code\n",
    "spam = 0\n",
    "\n",
    "if spam == 10:\n",
    "\n",
    "    print('eggs')\n",
    "\n",
    "if spam > 5:\n",
    "    \n",
    "    print('bacon')\n",
    "\n",
    "else:\n",
    "    \n",
    "    print('ham')\n",
    "\n",
    "print('spam')\n",
    "\n",
    "print('spam')"
   ]
  },
  {
   "cell_type": "markdown",
   "id": "224acf83",
   "metadata": {},
   "source": [
    "Q8.\n",
    "spam = int(input(\"enter value: \"))\n",
    "if spam == 1:\n",
    "    print(\"hello\")\n",
    "    \n",
    "elif spam == 2:\n",
    "    print(\"Howdy\")\n",
    "    \n",
    "else:\n",
    "    print(\"Greetings!\")"
   ]
  },
  {
   "cell_type": "markdown",
   "id": "5fb4ad1a",
   "metadata": {},
   "source": [
    "Q9. To stop endless loop we can press CTRL + C keys."
   ]
  },
  {
   "cell_type": "markdown",
   "id": "a5f52e77",
   "metadata": {},
   "source": [
    "Q10. Break keyword is use to break out of loop. Continue keyword is use to skip particular step and continue code execution after that step."
   ]
  },
  {
   "cell_type": "markdown",
   "id": "009cb76a",
   "metadata": {},
   "source": [
    "Q11. There is no difference between range(10) , range(0,10) and range(0,10,1). All the function gives same output. "
   ]
  },
  {
   "cell_type": "code",
   "execution_count": null,
   "id": "e502c5e6",
   "metadata": {},
   "outputs": [],
   "source": [
    "Q12. \n",
    "print(\"we are in for loop\")\n",
    "for i in range(1,10):\n",
    "    print(i)\n",
    "    \n",
    "print(\"we are in while loop\")\n",
    "i = 1\n",
    "while i<=10:\n",
    "    print(i)\n",
    "    i = i + 1\n",
    "      "
   ]
  },
  {
   "cell_type": "markdown",
   "id": "e47c25b3",
   "metadata": {},
   "source": [
    "Q13. To call a function bacon() after importing spam module is in this way spam.bacon()."
   ]
  },
  {
   "cell_type": "code",
   "execution_count": null,
   "id": "37e83ba3",
   "metadata": {},
   "outputs": [],
   "source": []
  }
 ],
 "metadata": {
  "kernelspec": {
   "display_name": "Python 3",
   "language": "python",
   "name": "python3"
  },
  "language_info": {
   "codemirror_mode": {
    "name": "ipython",
    "version": 3
   },
   "file_extension": ".py",
   "mimetype": "text/x-python",
   "name": "python",
   "nbconvert_exporter": "python",
   "pygments_lexer": "ipython3",
   "version": "3.8.8"
  }
 },
 "nbformat": 4,
 "nbformat_minor": 5
}
