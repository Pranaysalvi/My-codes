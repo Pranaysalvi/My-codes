{
 "cells": [
  {
   "cell_type": "code",
   "execution_count": 8,
   "id": "92901018",
   "metadata": {},
   "outputs": [
    {
     "name": "stdout",
     "output_type": "stream",
     "text": [
      "enter vaues in comma separted form eg(10,20,120) : 10,20\n",
      "5.773502691896258,8.16496580927726,"
     ]
    }
   ],
   "source": [
    "#Q1\n",
    "import math\n",
    "def calculate():\n",
    "    C = 50\n",
    "    H = 30\n",
    "    D = input(\"enter vaues in comma separted form eg(10,20,120) : \")\n",
    "    d_list = D.split(\",\")\n",
    "    \n",
    "    for num in d_list:\n",
    "        Q = math.sqrt((2 * C * int(num))/H)\n",
    "        print(Q, end = \",\")\n",
    "calculate()"
   ]
  },
  {
   "cell_type": "code",
   "execution_count": 10,
   "id": "d34106c9",
   "metadata": {},
   "outputs": [
    {
     "name": "stdout",
     "output_type": "stream",
     "text": [
      "enter number of array you want: 3\n",
      "enter number of element in each array5\n",
      "[[0, 0, 0, 0, 0], [0, 1, 2, 3, 4], [0, 2, 4, 6, 8]]\n"
     ]
    }
   ],
   "source": [
    "#Q2\n",
    "def array():\n",
    "    x = int(input(\"enter number of array you want: \"))\n",
    "    y = int(input(\"enter number of element in each array\"))\n",
    "    arr = []\n",
    "    arr1=[]\n",
    "    for i in range(x):\n",
    "        for j in range(y):\n",
    "            arr1.append(i*j)\n",
    "        arr.append(arr1)\n",
    "        arr1 = []\n",
    "    print(arr)\n",
    "array()"
   ]
  },
  {
   "cell_type": "code",
   "execution_count": 21,
   "id": "dd5d29cf",
   "metadata": {},
   "outputs": [
    {
     "name": "stdout",
     "output_type": "stream",
     "text": [
      "enter the words in comma separted form: without,hello,bag,world\n",
      "bag,hello,without,world\n"
     ]
    }
   ],
   "source": [
    "#Q3\n",
    "def sort_word():\n",
    "    string = input(\"enter the words in comma separted form: \")\n",
    "    str_list = string.split(\",\")\n",
    "    str_list.sort()\n",
    "    \n",
    "    str1 = \"\"\n",
    "    for word in str_list:\n",
    "        str1 = str1 + \",\" + word\n",
    "        \n",
    "    print(str1[1:])\n",
    "sort_word()"
   ]
  },
  {
   "cell_type": "code",
   "execution_count": 29,
   "id": "9178c95a",
   "metadata": {},
   "outputs": [
    {
     "name": "stdout",
     "output_type": "stream",
     "text": [
      "enter the string: hi and we and they are here\n",
      "and are here hi they we\n"
     ]
    }
   ],
   "source": [
    "#Q4\n",
    "def duplicate():\n",
    "    string = input(\"enter the string: \")\n",
    "    str_list = string.split()\n",
    "    str_list.sort()\n",
    "    for i in range(len(str_list)):\n",
    "        if i < len(str_list)-1:\n",
    "            if str_list[i] == str_list[i+1]:\n",
    "                str_list.remove(str_list[i])\n",
    "    str1 = \"\"\n",
    "    for words in str_list:\n",
    "        str1 = str1 + \" \" + words\n",
    "    print(str1[1:])\n",
    "duplicate()"
   ]
  },
  {
   "cell_type": "code",
   "execution_count": 32,
   "id": "b8ffb2d1",
   "metadata": {},
   "outputs": [
    {
     "name": "stdout",
     "output_type": "stream",
     "text": [
      "enter the string: hi we  12 3\n",
      "letters  4\n",
      "digits  3\n"
     ]
    }
   ],
   "source": [
    "#Q5\n",
    "def counts():\n",
    "    string = input(\"enter the string: \")\n",
    "    alpha_count = 0\n",
    "    num_count = 0\n",
    "    for i in string:\n",
    "        if i.isalpha():\n",
    "            alpha_count = alpha_count + 1\n",
    "        elif i.isalnum():\n",
    "            num_count = num_count + 1\n",
    "    print(\"letters \",alpha_count)\n",
    "    print(\"digits \", num_count)\n",
    "counts()"
   ]
  },
  {
   "cell_type": "code",
   "execution_count": 2,
   "id": "7bfb5897",
   "metadata": {},
   "outputs": [
    {
     "name": "stdout",
     "output_type": "stream",
     "text": [
      "enter the password: Pran@123,S$A123f,sab\n",
      "Pran@123 is vaild password\n",
      "S$A123f is vaild password\n"
     ]
    }
   ],
   "source": [
    "#Q6\n",
    "import re\n",
    "def Password_check():\n",
    "    password = input(\"enter the password: \")\n",
    "    pass_list = password.split(\",\")\n",
    "    for word in pass_list:\n",
    "        if len(word) < 6 or len(word) > 12:\n",
    "            break\n",
    "        elif not re.search(\"[a-z]\",word):\n",
    "            break\n",
    "        elif not re.search(\"[0-9]\",word):\n",
    "            break\n",
    "        elif not re.search(\"[A-Z]\",word):\n",
    "            break\n",
    "        elif not re.search(\"[$#@]\",word):\n",
    "            break\n",
    "        else:\n",
    "            print(word + \" is vaild password\")\n",
    "Password_check()\n",
    "        \n",
    "        \n",
    "            \n",
    "   \n",
    "            "
   ]
  },
  {
   "cell_type": "code",
   "execution_count": null,
   "id": "986fd370",
   "metadata": {},
   "outputs": [],
   "source": []
  }
 ],
 "metadata": {
  "kernelspec": {
   "display_name": "Python 3",
   "language": "python",
   "name": "python3"
  },
  "language_info": {
   "codemirror_mode": {
    "name": "ipython",
    "version": 3
   },
   "file_extension": ".py",
   "mimetype": "text/x-python",
   "name": "python",
   "nbconvert_exporter": "python",
   "pygments_lexer": "ipython3",
   "version": "3.8.8"
  }
 },
 "nbformat": 4,
 "nbformat_minor": 5
}
