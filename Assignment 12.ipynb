{
 "cells": [
  {
   "cell_type": "markdown",
   "id": "8f41b064",
   "metadata": {},
   "source": [
    "Q1. PdfFileReader() should be opened with 'rb' mode and PdfFileWritter() should be opened with 'wb'."
   ]
  },
  {
   "cell_type": "markdown",
   "id": "0f910e18",
   "metadata": {},
   "source": [
    "Q2. getPage(4) will provide object of page 5 as page starts from 0."
   ]
  },
  {
   "cell_type": "markdown",
   "id": "4ee620d0",
   "metadata": {},
   "source": [
    "Q3. number of pages are stored in numPages attribute."
   ]
  },
  {
   "cell_type": "markdown",
   "id": "eebc5f78",
   "metadata": {},
   "source": [
    "Q4. Before obtaining page we need to decrypt pdf using decrypt('swordfish')"
   ]
  },
  {
   "cell_type": "markdown",
   "id": "d265233d",
   "metadata": {},
   "source": [
    "Q5. pageobject.rotateClockwise(180) "
   ]
  },
  {
   "cell_type": "markdown",
   "id": "d8c5f454",
   "metadata": {},
   "source": [
    "Q6. Paragraph Object: A object contains number of paragraphs and has multiple run objects.\n",
    "    \n",
    "    Run object: Run are group of character in paragraph with same style."
   ]
  },
  {
   "cell_type": "markdown",
   "id": "98def0ca",
   "metadata": {},
   "source": [
    "Q7. By using object.paragraphs."
   ]
  },
  {
   "cell_type": "markdown",
   "id": "d788b5ec",
   "metadata": {},
   "source": [
    "Q8. Run object has bold,underline,italic,strike and outline variable."
   ]
  },
  {
   "cell_type": "markdown",
   "id": "b6ee0036",
   "metadata": {},
   "source": [
    "Q9. true: attribute is always enabled.\n",
    "    false: attribute is always disabled.\n",
    "    none: default to whatever run style set to."
   ]
  },
  {
   "cell_type": "markdown",
   "id": "15b75494",
   "metadata": {},
   "source": [
    "Q10. By calling docx.Document()"
   ]
  },
  {
   "cell_type": "markdown",
   "id": "55cd4790",
   "metadata": {},
   "source": [
    "Q11. object.add_paragraph('Hello there!')\n",
    "    \n",
    "    object.save('hellothere.docx')"
   ]
  },
  {
   "cell_type": "markdown",
   "id": "841645f5",
   "metadata": {},
   "source": [
    "Q12. The level are from 0-4.\n",
    "\n",
    "    The integer 0 makes the heading the Title style, which is used for the top of the document. Integers 1 to 4 are for various heading levels, with 1 being the main heading and 4 the lowest subheading"
   ]
  },
  {
   "cell_type": "code",
   "execution_count": null,
   "id": "65f5c5ff",
   "metadata": {},
   "outputs": [],
   "source": []
  }
 ],
 "metadata": {
  "kernelspec": {
   "display_name": "Python 3",
   "language": "python",
   "name": "python3"
  },
  "language_info": {
   "codemirror_mode": {
    "name": "ipython",
    "version": 3
   },
   "file_extension": ".py",
   "mimetype": "text/x-python",
   "name": "python",
   "nbconvert_exporter": "python",
   "pygments_lexer": "ipython3",
   "version": "3.8.8"
  }
 },
 "nbformat": 4,
 "nbformat_minor": 5
}
