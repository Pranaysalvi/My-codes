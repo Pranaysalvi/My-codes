{
 "cells": [
  {
   "cell_type": "code",
   "execution_count": 9,
   "id": "d748a0c8",
   "metadata": {},
   "outputs": [
    {
     "data": {
      "text/plain": [
       "2"
      ]
     },
     "execution_count": 9,
     "metadata": {},
     "output_type": "execute_result"
    }
   ],
   "source": [
    "#Q1\n",
    "def equals(a,b,c):\n",
    "    count = 0\n",
    "    if a == b:\n",
    "        count = count + 2\n",
    "        if b == c:\n",
    "            count = count + 1\n",
    "    elif b == c:\n",
    "        count = count + 2\n",
    "    elif a == c:\n",
    "        count = count + 2\n",
    "    return count\n",
    "equals(1,2,1)"
   ]
  },
  {
   "cell_type": "code",
   "execution_count": 14,
   "id": "7d06780f",
   "metadata": {},
   "outputs": [
    {
     "data": {
      "text/plain": [
       "[('b', 2), ('c', 1)]"
      ]
     },
     "execution_count": 14,
     "metadata": {},
     "output_type": "execute_result"
    }
   ],
   "source": [
    "#Q2\n",
    "def dict_list(dict):\n",
    "    l = list(dict.items())\n",
    "    l.sort()\n",
    "    return l\n",
    "dict_list({\"c\":1,\"b\":2})"
   ]
  },
  {
   "cell_type": "code",
   "execution_count": 26,
   "id": "d8454d36",
   "metadata": {},
   "outputs": [
    {
     "name": "stdout",
     "output_type": "stream",
     "text": [
      "{'a': 'A', 'b': 'B'}\n"
     ]
    }
   ],
   "source": [
    "#Q3\n",
    "def mapping(l):\n",
    "    d = dict((i, i.upper()) for i in l)\n",
    "    print(d)\n",
    "mapping([\"a\",\"b\"])"
   ]
  },
  {
   "cell_type": "code",
   "execution_count": 32,
   "id": "636a3da4",
   "metadata": {},
   "outputs": [
    {
     "data": {
      "text/plain": [
       "'thus us uur humu'"
      ]
     },
     "execution_count": 32,
     "metadata": {},
     "output_type": "execute_result"
    }
   ],
   "source": [
    "#Q4\n",
    "def vow_replace(s):\n",
    "    l = []\n",
    "    for i in s:\n",
    "        if i in ('a','e','i','o'):\n",
    "            l.append('u')\n",
    "        else:\n",
    "            l.append(i)\n",
    "    str1 = \"\"\n",
    "    for i in l:\n",
    "        str1 = str1 + i\n",
    "    return str1\n",
    "vow_replace(\"this is our home\")\n",
    "            \n",
    "        "
   ]
  },
  {
   "cell_type": "code",
   "execution_count": 33,
   "id": "00defe04",
   "metadata": {},
   "outputs": [
    {
     "data": {
      "text/plain": [
       "'To Be oR NoT To Be'"
      ]
     },
     "execution_count": 33,
     "metadata": {},
     "output_type": "execute_result"
    }
   ],
   "source": [
    "#Q5\n",
    "def ascii_capitalize(s):\n",
    "    l = []\n",
    "    for i in s:\n",
    "        if ord(i) % 2 == 0:\n",
    "            l.append(i.upper())\n",
    "        else:\n",
    "            l.append(i.lower())\n",
    "    str1 = \"\"\n",
    "    for i in l:\n",
    "        str1 = str1 + i\n",
    "    return str1\n",
    "ascii_capitalize(\"to be or not to be\")"
   ]
  },
  {
   "cell_type": "code",
   "execution_count": null,
   "id": "dc47b5ea",
   "metadata": {},
   "outputs": [],
   "source": []
  }
 ],
 "metadata": {
  "kernelspec": {
   "display_name": "Python 3",
   "language": "python",
   "name": "python3"
  },
  "language_info": {
   "codemirror_mode": {
    "name": "ipython",
    "version": 3
   },
   "file_extension": ".py",
   "mimetype": "text/x-python",
   "name": "python",
   "nbconvert_exporter": "python",
   "pygments_lexer": "ipython3",
   "version": "3.8.8"
  }
 },
 "nbformat": 4,
 "nbformat_minor": 5
}
