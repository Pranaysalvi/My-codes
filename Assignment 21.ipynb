{
 "cells": [
  {
   "cell_type": "markdown",
   "id": "fbd243be",
   "metadata": {},
   "source": [
    "Q1.\n",
    "import datetime\n",
    "\n",
    "today=str(datetime.date.today())\n",
    "\n",
    "f = open('today.txt','w')\n",
    "\n",
    "f.write(today)"
   ]
  },
  {
   "cell_type": "markdown",
   "id": "0cbe3cb8",
   "metadata": {},
   "source": [
    "Q2. f = open('today.txt','w')\n",
    "\n",
    "today_string = f.read()"
   ]
  },
  {
   "cell_type": "markdown",
   "id": "e9f5fa26",
   "metadata": {},
   "source": [
    "Q3.import datetime\n",
    "\n",
    "format = '%Y-%m-%d'\n",
    "\n",
    "datetime.strptime(today_string,format)"
   ]
  },
  {
   "cell_type": "markdown",
   "id": "f200c95a",
   "metadata": {},
   "source": [
    "Q4. import os\n",
    "\n",
    "os.listdir()"
   ]
  },
  {
   "cell_type": "markdown",
   "id": "cac66e9a",
   "metadata": {},
   "source": [
    "Q5. os.listdir('.')"
   ]
  },
  {
   "cell_type": "markdown",
   "id": "62bc1fc6",
   "metadata": {},
   "source": [
    "Q6. import multiprocessing\n",
    "\n",
    "def printsec(seconds):\n",
    "    from datetime import datetime\n",
    "    from time import sleep\n",
    "    sleep(seconds)\n",
    "    print('wait', seconds, 'seconds, time is', datetime.utcnow())\n",
    "    \n",
    "if __name__ == '__main__':\n",
    "    import random    \n",
    "    for n in range(3):\n",
    "        seconds = random.random()\n",
    "        proc = multiprocessing.Process(target=printsec, args=(seconds,))\n",
    "        proc.start()"
   ]
  },
  {
   "cell_type": "markdown",
   "id": "4767488a",
   "metadata": {},
   "source": [
    "Q7. bday = date(1997,4,20)\n",
    "\n",
    "bday"
   ]
  },
  {
   "cell_type": "markdown",
   "id": "415b42f3",
   "metadata": {},
   "source": [
    "Q8. bday.weekday()"
   ]
  },
  {
   "cell_type": "markdown",
   "id": "06a849b2",
   "metadata": {},
   "source": [
    "Q9. from datetime import timedelta\n",
    "old = my_dob + timedelta(days=10000)\n",
    "old"
   ]
  },
  {
   "cell_type": "code",
   "execution_count": null,
   "id": "6bb62045",
   "metadata": {},
   "outputs": [],
   "source": []
  }
 ],
 "metadata": {
  "kernelspec": {
   "display_name": "Python 3",
   "language": "python",
   "name": "python3"
  },
  "language_info": {
   "codemirror_mode": {
    "name": "ipython",
    "version": 3
   },
   "file_extension": ".py",
   "mimetype": "text/x-python",
   "name": "python",
   "nbconvert_exporter": "python",
   "pygments_lexer": "ipython3",
   "version": "3.8.8"
  }
 },
 "nbformat": 4,
 "nbformat_minor": 5
}
