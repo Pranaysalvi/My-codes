{
 "cells": [
  {
   "cell_type": "code",
   "execution_count": 9,
   "id": "8219b601",
   "metadata": {},
   "outputs": [
    {
     "data": {
      "text/plain": [
       "True"
      ]
     },
     "execution_count": 9,
     "metadata": {},
     "output_type": "execute_result"
    }
   ],
   "source": [
    "#Q1\n",
    "def is_symmetrical(num):\n",
    "    num1 = num\n",
    "    rev = 0\n",
    "    while num != 0:\n",
    "        d = num%10\n",
    "        rev = rev * 10 + d\n",
    "        num = num//10\n",
    "    \n",
    "    if rev == num1:\n",
    "        return True\n",
    "    else:\n",
    "        return False\n",
    "is_symmetrical(11211)"
   ]
  },
  {
   "cell_type": "code",
   "execution_count": 12,
   "id": "a17b4b95",
   "metadata": {},
   "outputs": [
    {
     "data": {
      "text/plain": [
       "12"
      ]
     },
     "execution_count": 12,
     "metadata": {},
     "output_type": "execute_result"
    }
   ],
   "source": [
    "#Q2\n",
    "def multiply_nums(s):\n",
    "    mul = 1\n",
    "    for i in s:\n",
    "        if i.isdigit():\n",
    "            mul = mul*int(i)\n",
    "    return mul\n",
    "multiply_nums(\"2, 3, 2\")"
   ]
  },
  {
   "cell_type": "code",
   "execution_count": 25,
   "id": "241d0450",
   "metadata": {},
   "outputs": [
    {
     "name": "stdout",
     "output_type": "stream",
     "text": [
      "4949\n"
     ]
    }
   ],
   "source": [
    "#Q3\n",
    "def square_digit(num):\n",
    "    square = 0\n",
    "    for i in str(num):\n",
    "        square = square * 10 + int(i) * int(i)\n",
    "    print(square)\n",
    "\n",
    "square_digit(723)\n",
    "    "
   ]
  },
  {
   "cell_type": "code",
   "execution_count": 33,
   "id": "ae534291",
   "metadata": {},
   "outputs": [
    {
     "name": "stdout",
     "output_type": "stream",
     "text": [
      "[1, 2, 3, 4, 6]\n"
     ]
    }
   ],
   "source": [
    "#Q4\n",
    "def setify(l):\n",
    "    new_list = []\n",
    "    for i in l:\n",
    "        if i in new_list:\n",
    "            continue\n",
    "        else:\n",
    "            new_list.append(i)\n",
    "    new_list.sort()\n",
    "    print(new_list)\n",
    "\n",
    "setify([1,6,2,2,3,4,1])"
   ]
  },
  {
   "cell_type": "code",
   "execution_count": 36,
   "id": "84e4383b",
   "metadata": {},
   "outputs": [
    {
     "name": "stdout",
     "output_type": "stream",
     "text": [
      "3\n"
     ]
    }
   ],
   "source": [
    "#Q5\n",
    "def mean(num):\n",
    "    l = len(str(num))\n",
    "    sum = 0\n",
    "    for i in str(num):\n",
    "        sum = sum + int(i)\n",
    "    print(sum//l)\n",
    "mean(42)"
   ]
  },
  {
   "cell_type": "code",
   "execution_count": null,
   "id": "f612c716",
   "metadata": {},
   "outputs": [],
   "source": []
  }
 ],
 "metadata": {
  "kernelspec": {
   "display_name": "Python 3",
   "language": "python",
   "name": "python3"
  },
  "language_info": {
   "codemirror_mode": {
    "name": "ipython",
    "version": 3
   },
   "file_extension": ".py",
   "mimetype": "text/x-python",
   "name": "python",
   "nbconvert_exporter": "python",
   "pygments_lexer": "ipython3",
   "version": "3.8.8"
  }
 },
 "nbformat": 4,
 "nbformat_minor": 5
}
