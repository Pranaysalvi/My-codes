{
 "cells": [
  {
   "cell_type": "markdown",
   "id": "2adbf598",
   "metadata": {},
   "source": [
    "Q1. \n",
    "import zoo\n",
    "\n",
    "zoo.hours()"
   ]
  },
  {
   "cell_type": "markdown",
   "id": "fe25943b",
   "metadata": {},
   "source": [
    "Q2. import zoo as menagerie\n",
    "\n",
    "menagerie.hours()"
   ]
  },
  {
   "cell_type": "markdown",
   "id": "6208b62e",
   "metadata": {},
   "source": [
    "Q3. \n",
    "from zoo import hours\n",
    "\n",
    "hours()"
   ]
  },
  {
   "cell_type": "markdown",
   "id": "b50253db",
   "metadata": {},
   "source": [
    "Q4. from zoo import hours as info\n",
    "\n",
    "info()"
   ]
  },
  {
   "cell_type": "markdown",
   "id": "d16a9d44",
   "metadata": {},
   "source": [
    "Q5.\n",
    "plain = {'a':1,'b': 2,'c': 3}\n",
    "\n",
    "print(plain)"
   ]
  },
  {
   "cell_type": "markdown",
   "id": "bcb909c6",
   "metadata": {},
   "source": [
    "Q6.\n",
    "from collections import OrderedDict\n",
    "\n",
    "fancy = OrderedDict([('a', 1), ('b', 2), ('c', 3)])\n",
    "\n",
    "print(fancy)\n",
    "\n",
    "yes the output sequence is same as plain."
   ]
  },
  {
   "cell_type": "markdown",
   "id": "4745b78e",
   "metadata": {},
   "source": [
    "Q7.\n",
    "from collections import defaultdict\n",
    "\n",
    "dict_of_lists = defaultdict(list)\n",
    "\n",
    "dict_of_lists['a'].append('something for a')\n",
    "\n",
    "dict_of_lists['a']"
   ]
  },
  {
   "cell_type": "code",
   "execution_count": null,
   "id": "2510752f",
   "metadata": {},
   "outputs": [],
   "source": []
  }
 ],
 "metadata": {
  "kernelspec": {
   "display_name": "Python 3",
   "language": "python",
   "name": "python3"
  },
  "language_info": {
   "codemirror_mode": {
    "name": "ipython",
    "version": 3
   },
   "file_extension": ".py",
   "mimetype": "text/x-python",
   "name": "python",
   "nbconvert_exporter": "python",
   "pygments_lexer": "ipython3",
   "version": "3.8.8"
  }
 },
 "nbformat": 4,
 "nbformat_minor": 5
}
