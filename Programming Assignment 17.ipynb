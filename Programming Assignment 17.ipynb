{
 "cells": [
  {
   "cell_type": "code",
   "execution_count": 8,
   "id": "21f0cf27",
   "metadata": {},
   "outputs": [
    {
     "data": {
      "text/plain": [
       "30"
      ]
     },
     "execution_count": 8,
     "metadata": {},
     "output_type": "execute_result"
    }
   ],
   "source": [
    "#Q1\n",
    "def evenly_divisible(a,b,c):\n",
    "    sum = 0\n",
    "    try:\n",
    "        for i in range(a,b+1):\n",
    "            if i % c == 0:\n",
    "                sum = sum + i\n",
    "    except Exception as e:\n",
    "        print(e)\n",
    "    return sum\n",
    "evenly_divisible(1,10,2)"
   ]
  },
  {
   "cell_type": "code",
   "execution_count": 20,
   "id": "a183d653",
   "metadata": {},
   "outputs": [
    {
     "name": "stdout",
     "output_type": "stream",
     "text": [
      "True\n",
      "False\n"
     ]
    }
   ],
   "source": [
    "#Q2\n",
    "def correct_sign(expres):\n",
    "    regex=eval(expres)\n",
    "    if regex:\n",
    "        return True\n",
    "    else:\n",
    "        return False \n",
    "print(correct_sign(\"3 < 7\"))\n",
    "print(correct_sign(\"13 > 44 > 33 > 1\"))"
   ]
  },
  {
   "cell_type": "code",
   "execution_count": 23,
   "id": "2eced848",
   "metadata": {},
   "outputs": [
    {
     "data": {
      "text/plain": [
       "'$h$k$$p$r$'"
      ]
     },
     "execution_count": 23,
     "metadata": {},
     "output_type": "execute_result"
    }
   ],
   "source": [
    "#Q3\n",
    "def replace_vowels(s,mark):\n",
    "    for i in s:\n",
    "        if i.lower() in (\"a,e,i,o,u,s\"):\n",
    "            s = s.replace(i,mark)\n",
    "    return s\n",
    "replace_vowels(\"shakespere\",\"$\")"
   ]
  },
  {
   "cell_type": "code",
   "execution_count": 25,
   "id": "1d972a06",
   "metadata": {},
   "outputs": [
    {
     "name": "stdout",
     "output_type": "stream",
     "text": [
      "The factorial of 5 is 120\n"
     ]
    }
   ],
   "source": [
    "#Q4\n",
    "def recur_factorial(n):\n",
    "   if n == 1:\n",
    "       return n\n",
    "   else:\n",
    "       return n*recur_factorial(n-1)\n",
    "num = 5\n",
    "if num < 0:\n",
    "   print(\"Sorry, factorial does not exist for negative numbers\")\n",
    "elif num == 0:\n",
    "   print(\"The factorial of 0 is 1\")\n",
    "else:\n",
    "   print(\"The factorial of\", num, \"is\", recur_factorial(num))"
   ]
  },
  {
   "cell_type": "code",
   "execution_count": 28,
   "id": "de56202e",
   "metadata": {},
   "outputs": [
    {
     "name": "stdout",
     "output_type": "stream",
     "text": [
      "1\n"
     ]
    }
   ],
   "source": [
    "#Q5\n",
    "def hamming_distance(str1,str2):\n",
    "    s1 = str1.split()\n",
    "    s2 = str2.split()\n",
    "    count = 0\n",
    "    for i in range(len(s1)):\n",
    "        if s1[i] != s2[i]:\n",
    "            count = count + 1\n",
    "    print(count)\n",
    "\n",
    "hamming_distance(\"abcbd\",\"abcbe\")"
   ]
  },
  {
   "cell_type": "code",
   "execution_count": null,
   "id": "7916bf8d",
   "metadata": {},
   "outputs": [],
   "source": []
  }
 ],
 "metadata": {
  "kernelspec": {
   "display_name": "Python 3",
   "language": "python",
   "name": "python3"
  },
  "language_info": {
   "codemirror_mode": {
    "name": "ipython",
    "version": 3
   },
   "file_extension": ".py",
   "mimetype": "text/x-python",
   "name": "python",
   "nbconvert_exporter": "python",
   "pygments_lexer": "ipython3",
   "version": "3.8.8"
  }
 },
 "nbformat": 4,
 "nbformat_minor": 5
}
