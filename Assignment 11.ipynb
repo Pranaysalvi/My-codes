{
 "cells": [
  {
   "cell_type": "markdown",
   "id": "51f4f3b8",
   "metadata": {},
   "source": [
    "Q1. assert spam >= 0, 'Spam is negative number.'"
   ]
  },
  {
   "cell_type": "markdown",
   "id": "bb82da58",
   "metadata": {},
   "source": [
    "Q2. assert egg.lower() != baccon.lower(), 'The egg and baccon is same'."
   ]
  },
  {
   "cell_type": "markdown",
   "id": "b833cdf6",
   "metadata": {},
   "source": [
    "Q3. assert false. 'Assertion error'"
   ]
  },
  {
   "cell_type": "markdown",
   "id": "77631bd0",
   "metadata": {},
   "source": [
    "Q4. The two line that must be present before calling logging.debug() are:\n",
    "    import logging\n",
    "    \n",
    "    logging.basicConfig(level=logging.debug,format='%',asctime='%')\n",
    "    "
   ]
  },
  {
   "cell_type": "markdown",
   "id": "51068a8f",
   "metadata": {},
   "source": [
    "Q5. import logging \n",
    "\n",
    "    logging.basicConfig(filename='programLog.txt',level=logging.debug,format='%',asctime='%')"
   ]
  },
  {
   "cell_type": "markdown",
   "id": "c0fed59e",
   "metadata": {},
   "source": [
    "Q6. Five level of logging are debug,info,warning,error and critical"
   ]
  },
  {
   "cell_type": "markdown",
   "id": "701039fe",
   "metadata": {},
   "source": [
    "Q7. logging.disable(logging.critical)"
   ]
  },
  {
   "cell_type": "markdown",
   "id": "792ee07a",
   "metadata": {},
   "source": [
    "Q8. There are multiple benifits of using logging message those are you can disable logging message without need to remove logging function, logging message provides timestamp,we can create logging message."
   ]
  },
  {
   "cell_type": "markdown",
   "id": "5af5af5b",
   "metadata": {},
   "source": [
    "Q9. The step button will move debugger into function call. over button will execute function call without stepping into it.Out button will execute function code until it steps out of function."
   ]
  },
  {
   "cell_type": "markdown",
   "id": "2a02ca18",
   "metadata": {},
   "source": [
    "Q10. The debugger will stop when it has reached end of the program or if there is break point."
   ]
  },
  {
   "cell_type": "markdown",
   "id": "a8f4b0bb",
   "metadata": {},
   "source": [
    "Q11. Breakpoint is a line that causes debugger to pause when it reaches the line."
   ]
  },
  {
   "cell_type": "code",
   "execution_count": null,
   "id": "3d33eeda",
   "metadata": {},
   "outputs": [],
   "source": []
  }
 ],
 "metadata": {
  "kernelspec": {
   "display_name": "Python 3",
   "language": "python",
   "name": "python3"
  },
  "language_info": {
   "codemirror_mode": {
    "name": "ipython",
    "version": 3
   },
   "file_extension": ".py",
   "mimetype": "text/x-python",
   "name": "python",
   "nbconvert_exporter": "python",
   "pygments_lexer": "ipython3",
   "version": "3.8.8"
  }
 },
 "nbformat": 4,
 "nbformat_minor": 5
}
