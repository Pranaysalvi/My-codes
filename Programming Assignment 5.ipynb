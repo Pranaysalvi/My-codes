{
 "cells": [
  {
   "cell_type": "code",
   "execution_count": 6,
   "id": "5aac3c48",
   "metadata": {},
   "outputs": [
    {
     "name": "stdout",
     "output_type": "stream",
     "text": [
      "enter the number1: 72\n",
      "enter the number2: 120\n",
      "360\n"
     ]
    }
   ],
   "source": [
    "#Q1\n",
    "def lcm_fun():\n",
    "    num1 = int(input(\"enter the number1: \"))\n",
    "    num2 = int(input(\"enter the number2: \"))\n",
    "    if num1 > num2:\n",
    "        greater = num1\n",
    "    else:\n",
    "        greater = num2\n",
    "        \n",
    "    while True:\n",
    "        if((greater % num1 == 0) & (greater % num2 == 0)):\n",
    "            lcm = greater\n",
    "            break\n",
    "        greater = greater + 1\n",
    "    print(lcm)\n",
    "\n",
    "lcm_fun()\n",
    "                "
   ]
  },
  {
   "cell_type": "code",
   "execution_count": 11,
   "id": "c54fbef1",
   "metadata": {},
   "outputs": [
    {
     "name": "stdout",
     "output_type": "stream",
     "text": [
      "enter the number1: 54\n",
      "enter the number2: 24\n",
      "6\n"
     ]
    }
   ],
   "source": [
    "#Q2\n",
    "def hcf_fun():\n",
    "    num1 = int(input(\"enter the number1: \"))\n",
    "    num2 = int(input(\"enter the number2: \"))\n",
    "    if num1 > num2:\n",
    "        smaller = num2\n",
    "    else:\n",
    "        smaller = num1\n",
    "    \n",
    "    for i in range(1,smaller+1):\n",
    "        if((num1%i==0) and (num2%i==0)):\n",
    "            hcf = i\n",
    "    print(hcf)\n",
    "hcf_fun()"
   ]
  },
  {
   "cell_type": "code",
   "execution_count": 16,
   "id": "cd955b36",
   "metadata": {},
   "outputs": [
    {
     "name": "stdout",
     "output_type": "stream",
     "text": [
      "enter the decimal: 344\n",
      "binary is  0b101011000\n",
      "octadecimal is:  0o530\n",
      "hexadecimal is:  0x158\n"
     ]
    }
   ],
   "source": [
    "#Q3\n",
    "def convert():\n",
    "    dec = int(input(\"enter the decimal: \"))\n",
    "    print(\"binary is \", bin(dec))\n",
    "    print(\"octadecimal is: \", oct(dec))\n",
    "    print(\"hexadecimal is: \", hex(dec))\n",
    "convert()"
   ]
  },
  {
   "cell_type": "code",
   "execution_count": 19,
   "id": "fe77c3fd",
   "metadata": {},
   "outputs": [
    {
     "name": "stdout",
     "output_type": "stream",
     "text": [
      "enter char: p\n",
      "Ascii value of p is  112\n"
     ]
    }
   ],
   "source": [
    "#Q4\n",
    "def ascii_fun():\n",
    "    char = input(\"enter char: \")\n",
    "    print(\"Ascii value of \"  + char + \" is \", ord(char))\n",
    "\n",
    "ascii_fun()"
   ]
  },
  {
   "cell_type": "code",
   "execution_count": 22,
   "id": "de006940",
   "metadata": {},
   "outputs": [
    {
     "name": "stdout",
     "output_type": "stream",
     "text": [
      "enter 1 for addition\n",
      "enter 2 for substraction\n",
      "enter 3 for division\n",
      "enter 4 for multiplication\n",
      "enter choice in 1/2/3/4: 2\n",
      "enter the first number: 5\n",
      "enter the second number: 4\n",
      "5 - 4 =  1\n"
     ]
    }
   ],
   "source": [
    "def calculator():\n",
    "    print(\"enter 1 for addition\")\n",
    "    print(\"enter 2 for substraction\")\n",
    "    print(\"enter 3 for division\")\n",
    "    print(\"enter 4 for multiplication\")\n",
    "    \n",
    "    choice = input(\"enter choice in 1/2/3/4: \")\n",
    "    if choice in ('1','2','3','4'):\n",
    "        num1 = int(input(\"enter the first number: \"))\n",
    "        num2 = int(input(\"enter the second number: \"))\n",
    "        if choice == '1':\n",
    "            print(str(num1) + \" + \" + str(num2) + \" = \",num1+num2 )\n",
    "        elif choice == '2':\n",
    "            print(str(num1) + \" - \" + str(num2) + \" = \",num1-num2 )\n",
    "        elif choice == '3':\n",
    "            print(str(num1) + \" / \" + str(num2) + \" = \",num1/num2 )\n",
    "        elif choice == '4':\n",
    "            print(str(num1) + \" * \" + str(num2) + \" = \",num1*num2 )\n",
    "    \n",
    "calculator()\n",
    "        "
   ]
  },
  {
   "cell_type": "code",
   "execution_count": null,
   "id": "c9f2f581",
   "metadata": {},
   "outputs": [],
   "source": []
  }
 ],
 "metadata": {
  "kernelspec": {
   "display_name": "Python 3",
   "language": "python",
   "name": "python3"
  },
  "language_info": {
   "codemirror_mode": {
    "name": "ipython",
    "version": 3
   },
   "file_extension": ".py",
   "mimetype": "text/x-python",
   "name": "python",
   "nbconvert_exporter": "python",
   "pygments_lexer": "ipython3",
   "version": "3.8.8"
  }
 },
 "nbformat": 4,
 "nbformat_minor": 5
}
