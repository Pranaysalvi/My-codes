{
 "cells": [
  {
   "cell_type": "markdown",
   "id": "6a7fe80e",
   "metadata": {},
   "source": [
    "Q1.\n",
    "guess_me = 7\n",
    "if guess_me < 7:\n",
    "    print(\"too low\")\n",
    "elif guess_me > 7:\n",
    "    print(\"too high\")\n",
    "else:\n",
    "    print(\"just right\")"
   ]
  },
  {
   "cell_type": "markdown",
   "id": "960c10a7",
   "metadata": {},
   "source": [
    "Q2.\n",
    "guess_me = 7\n",
    "start = 1\n",
    "while True:\n",
    "    if start < guess_me:\n",
    "        print(\"too low\")\n",
    "        \n",
    "        \n",
    "    elif start == guess_me:\n",
    "        print(\"found it!\")\n",
    "       \n",
    "        break;\n",
    "    else:\n",
    "        print(\"opps\")\n",
    "    start += 1\n",
    "       "
   ]
  },
  {
   "cell_type": "markdown",
   "id": "16f56290",
   "metadata": {},
   "source": [
    "Q3.\n",
    "for i in [3,2,1,0]:\n",
    "    print(i)"
   ]
  },
  {
   "cell_type": "markdown",
   "id": "09f213bd",
   "metadata": {},
   "source": [
    "Q4.\n",
    "[i for i in range (10) if(i%2==0)]"
   ]
  },
  {
   "cell_type": "markdown",
   "id": "04252c4c",
   "metadata": {},
   "source": [
    "Q5.\n",
    "dict = {}\n",
    "for i in range(10):\n",
    "    dict[i] = i*i"
   ]
  },
  {
   "cell_type": "markdown",
   "id": "436eaba1",
   "metadata": {},
   "source": [
    "Q6.\n",
    "odd = ([i for i in range(10) if(i%2!=0)])"
   ]
  },
  {
   "cell_type": "markdown",
   "id": "d67eaf55",
   "metadata": {},
   "source": [
    "Q7. string_generator = ('Got ' + str(num) for num in range(10))\n",
    "    \n",
    "    for item in string_generator:\n",
    "    print(item)"
   ]
  },
  {
   "cell_type": "markdown",
   "id": "b25a8682",
   "metadata": {},
   "source": [
    "Q8. def good():\n",
    "    return ['Harry', 'Ron', 'Hermione']"
   ]
  },
  {
   "cell_type": "markdown",
   "id": "97d5229d",
   "metadata": {},
   "source": [
    "Q9. get_odds = (num for num in range(limit) if not num % 2 == 0)\n",
    "\n",
    "    count = 0\n",
    "    \n",
    "    for num in get_odds:\n",
    "        \n",
    "        if count == 2:\n",
    "            \n",
    "            print(num)\n",
    "            \n",
    "            break\n",
    "        \n",
    "        count += 1"
   ]
  },
  {
   "cell_type": "markdown",
   "id": "cd5fd4b6",
   "metadata": {},
   "source": [
    "Q10.\n",
    "class OopsException(Exception):\n",
    "    pass\n",
    "\n",
    "\n",
    "def with_exception(a):\n",
    "    if a < 0:\n",
    "        raise OopsException(a)\n",
    "\n",
    "\n",
    "try:\n",
    "    with_exception(-1)\n",
    "except OopsException as err:\n",
    "    print('Caught an oops')\n"
   ]
  },
  {
   "cell_type": "markdown",
   "id": "f1fa2055",
   "metadata": {},
   "source": [
    "Q11.\n",
    "titles = ['Creature of Habit', 'Crewel Fate']\n",
    "\n",
    "plots = ['A nun turns into a monster', 'A haunted yarn shop']\n",
    "\n",
    "movies = {}\n",
    "\n",
    "for title, plot in zip(titles, plots):\n",
    "    \n",
    "    movies[title] = plot\n",
    "\n",
    "print(movies)"
   ]
  },
  {
   "cell_type": "code",
   "execution_count": null,
   "id": "ae421605",
   "metadata": {},
   "outputs": [],
   "source": []
  }
 ],
 "metadata": {
  "kernelspec": {
   "display_name": "Python 3",
   "language": "python",
   "name": "python3"
  },
  "language_info": {
   "codemirror_mode": {
    "name": "ipython",
    "version": 3
   },
   "file_extension": ".py",
   "mimetype": "text/x-python",
   "name": "python",
   "nbconvert_exporter": "python",
   "pygments_lexer": "ipython3",
   "version": "3.8.8"
  }
 },
 "nbformat": 4,
 "nbformat_minor": 5
}
