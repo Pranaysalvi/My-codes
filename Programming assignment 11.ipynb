{
 "cells": [
  {
   "cell_type": "code",
   "execution_count": 48,
   "id": "610fc165",
   "metadata": {},
   "outputs": [
    {
     "name": "stdout",
     "output_type": "stream",
     "text": [
      "enter the sentence!!!: we are in this world\n",
      "2\n"
     ]
    }
   ],
   "source": [
    "def word_k():\n",
    "    k = 3\n",
    "    string1 = input(\"enter the sentence!!!: \")\n",
    "    count = 0\n",
    "    for word in string1.split(\" \"):\n",
    "        if len(word) > k:\n",
    "            count = count + 1\n",
    "    print(count)\n",
    "word_k()"
   ]
  },
  {
   "cell_type": "code",
   "execution_count": 58,
   "id": "c1ee62bd",
   "metadata": {},
   "outputs": [
    {
     "name": "stdout",
     "output_type": "stream",
     "text": [
      "enter the string: we are good\n",
      "enter this index: 3\n",
      "weare good\n"
     ]
    }
   ],
   "source": [
    "def remove():\n",
    "    str1 = input(\"enter the string: \")\n",
    "    num = int(input(\"enter this index: \"))\n",
    "    str2 = \"\"\n",
    "    for i in range(len(str1)):\n",
    "        if i+1 == num:\n",
    "            pass\n",
    "        else:\n",
    "            str2 =  str2 + str1[i]\n",
    "    print(str2)\n",
    "                   \n",
    "                \n",
    "remove()"
   ]
  },
  {
   "cell_type": "code",
   "execution_count": 61,
   "id": "135c9288",
   "metadata": {},
   "outputs": [
    {
     "name": "stdout",
     "output_type": "stream",
     "text": [
      "enter the string: this is code\n",
      "this_is_code\n"
     ]
    }
   ],
   "source": [
    "def split_string():\n",
    "    string = input(\"enter the string: \")\n",
    "    str_list = string.split()\n",
    "    string = \"_\".join(str_list)\n",
    "    print(string)\n",
    "split_string()"
   ]
  },
  {
   "cell_type": "code",
   "execution_count": 68,
   "id": "9885b748",
   "metadata": {},
   "outputs": [
    {
     "name": "stdout",
     "output_type": "stream",
     "text": [
      "enter the string: 01a\n",
      "Not a binary\n"
     ]
    }
   ],
   "source": [
    "def check_binary():\n",
    "    str1 = input(\"enter the string: \")\n",
    "    s = set(str1)\n",
    "    st = {'0','1'}\n",
    "    if s == st or s == {'0'} or s == {'1'}:\n",
    "        print(\"it is binary\")\n",
    "    else:\n",
    "        print(\"Not a binary\")\n",
    "check_binary()"
   ]
  },
  {
   "cell_type": "code",
   "execution_count": 73,
   "id": "a55e171c",
   "metadata": {},
   "outputs": [
    {
     "name": "stdout",
     "output_type": "stream",
     "text": [
      "enter string 1: this is you\n",
      "enter string 2: this is me\n",
      "['you', 'me']\n"
     ]
    }
   ],
   "source": [
    "def uncommon_word():\n",
    "    str1 = input(\"enter string 1: \")\n",
    "    str2 = input(\"enter string 2: \")\n",
    "    str1_list = str1.split()\n",
    "    str2_list = str2.split()\n",
    "    uncommon_list = []\n",
    "    for word in str1_list:\n",
    "        if word not in str2_list:\n",
    "            uncommon_list.append(word)\n",
    "    for word in str2_list:\n",
    "        if word not in str1_list:\n",
    "            uncommon_list.append(word)\n",
    "    print(uncommon_list)\n",
    "uncommon_word()"
   ]
  },
  {
   "cell_type": "code",
   "execution_count": 80,
   "id": "f29bca62",
   "metadata": {},
   "outputs": [
    {
     "name": "stdout",
     "output_type": "stream",
     "text": [
      "enter string: we are here\n",
      "e\n",
      "r\n"
     ]
    }
   ],
   "source": [
    "def duplicate():\n",
    "    string = input(\"enter string: \")\n",
    "    for i in range(0, len(string)):  \n",
    "        count = 1  \n",
    "        for j in range(i+1, len(string)):  \n",
    "            if(string[i] == string[j] and string[i] != ' '): \n",
    "                count = count + 1 \n",
    "             \n",
    "                string = string[:j] + '0' + string[j+1:] \n",
    "     \n",
    "        if(count > 1 and string[i] != '0'):  \n",
    "            print(string[i]) \n",
    "duplicate()"
   ]
  },
  {
   "cell_type": "code",
   "execution_count": 83,
   "id": "64da4606",
   "metadata": {},
   "outputs": [
    {
     "name": "stdout",
     "output_type": "stream",
     "text": [
      "enter the string: hi >HI @Q\n",
      ">\n",
      "@\n"
     ]
    }
   ],
   "source": [
    "def special_char():\n",
    "    string = input(\"enter the string: \")\n",
    "    for i in range(len(string)):\n",
    "        if string[i] in \"[,@,_,!,#,$,%,^,&,*,(,),<,>,?,/,|,},{,~,:,]\":\n",
    "            print(string[i])\n",
    "special_char()"
   ]
  },
  {
   "cell_type": "code",
   "execution_count": null,
   "id": "ee08f908",
   "metadata": {},
   "outputs": [],
   "source": []
  }
 ],
 "metadata": {
  "kernelspec": {
   "display_name": "Python 3",
   "language": "python",
   "name": "python3"
  },
  "language_info": {
   "codemirror_mode": {
    "name": "ipython",
    "version": 3
   },
   "file_extension": ".py",
   "mimetype": "text/x-python",
   "name": "python",
   "nbconvert_exporter": "python",
   "pygments_lexer": "ipython3",
   "version": "3.8.8"
  }
 },
 "nbformat": 4,
 "nbformat_minor": 5
}
