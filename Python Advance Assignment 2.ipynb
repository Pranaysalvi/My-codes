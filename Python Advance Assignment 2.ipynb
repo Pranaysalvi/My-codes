{
 "cells": [
  {
   "cell_type": "markdown",
   "id": "e76cacb6",
   "metadata": {},
   "source": [
    "Q1. Modules are collection of methods and constants. It cannot generate instance.\n",
    "\n",
    " where as class can  generate instance and have pre-instance state."
   ]
  },
  {
   "cell_type": "markdown",
   "id": "c20f0498",
   "metadata": {},
   "source": [
    "Q2. To create an instance we pass a object name = class name and its parameters. eg:- obj1 = demo(1,2)\n",
    "\n",
    "we create class using keyword Class and class_name. eg Class demo:"
   ]
  },
  {
   "cell_type": "markdown",
   "id": "f8ff6d2c",
   "metadata": {},
   "source": [
    "Q3. We should define class attribut outside __init__() method."
   ]
  },
  {
   "cell_type": "markdown",
   "id": "d08953e0",
   "metadata": {},
   "source": [
    "Q4. Instance attribute are defined inside constructer using self parameter."
   ]
  },
  {
   "cell_type": "markdown",
   "id": "7a7581cb",
   "metadata": {},
   "source": [
    "Q5. Self parameter is refernece to the current instance of the class, and is used to access variables that belongs to the class.\n"
   ]
  },
  {
   "cell_type": "markdown",
   "id": "f620f181",
   "metadata": {},
   "source": [
    "Q6. Python Classes handle operator overloading by using special methods called Magic methods. these special methods usually begin and end with __ (double underscore)"
   ]
  },
  {
   "cell_type": "markdown",
   "id": "38ef2269",
   "metadata": {},
   "source": [
    "Q7. When we want to have different meaning for the same operator accroding to the context we use operator overloading."
   ]
  },
  {
   "cell_type": "markdown",
   "id": "c9f6bd59",
   "metadata": {},
   "source": [
    "Q8. The most popular form of operator overloading in python is by special methods called Magic methods. Which usually beign and end with double underscore __<method name>__."
   ]
  },
  {
   "cell_type": "markdown",
   "id": "d28c2b56",
   "metadata": {},
   "source": [
    "Q9. Classes and objects are the two concepts to comprehend python OOP code as more formally objects are entities that represent instances of general abstract concept called class\n",
    "\n",
    "Along with classes and objects the important concepts to grasp are:\n",
    "1.Inheritence\n",
    "2.Abstraction\n",
    "3.Polymorphism\n",
    "4.Encapsulation"
   ]
  },
  {
   "cell_type": "code",
   "execution_count": null,
   "id": "339c0bf6",
   "metadata": {},
   "outputs": [],
   "source": []
  }
 ],
 "metadata": {
  "kernelspec": {
   "display_name": "Python 3",
   "language": "python",
   "name": "python3"
  },
  "language_info": {
   "codemirror_mode": {
    "name": "ipython",
    "version": 3
   },
   "file_extension": ".py",
   "mimetype": "text/x-python",
   "name": "python",
   "nbconvert_exporter": "python",
   "pygments_lexer": "ipython3",
   "version": "3.8.8"
  }
 },
 "nbformat": 4,
 "nbformat_minor": 5
}
