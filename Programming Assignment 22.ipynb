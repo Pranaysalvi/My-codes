{
 "cells": [
  {
   "cell_type": "code",
   "execution_count": 1,
   "id": "20f05f7e",
   "metadata": {},
   "outputs": [
    {
     "data": {
      "text/plain": [
       "[3, 6, 9]"
      ]
     },
     "execution_count": 1,
     "metadata": {},
     "output_type": "execute_result"
    }
   ],
   "source": [
    "#Q1\n",
    "def list_operation(x,y,n):\n",
    "    return [i for i in range(x,y) if(i%n==0)]\n",
    "list_operation(1,10,3)"
   ]
  },
  {
   "cell_type": "code",
   "execution_count": 16,
   "id": "a62ea660",
   "metadata": {},
   "outputs": [
    {
     "data": {
      "text/plain": [
       "True"
      ]
     },
     "execution_count": 16,
     "metadata": {},
     "output_type": "execute_result"
    }
   ],
   "source": [
    "#Q2\n",
    "def simon_says(l1,l2):\n",
    "    if len(l1) >= 2 and len(l1) == len(l2):\n",
    "        l1.remove(l1[-1])\n",
    "        l2.remove(l2[0])\n",
    "        for i in range(len(l1)):\n",
    "            if l1[i] == l2[i]:\n",
    "                value = True\n",
    "            else:\n",
    "                value = False\n",
    "                break\n",
    "            \n",
    "    else:\n",
    "        print(\"enter proper list\")\n",
    "    return value\n",
    "simon_says([1,2,3,4],[5,1,2,3])"
   ]
  },
  {
   "cell_type": "code",
   "execution_count": 20,
   "id": "8ba0c2f2",
   "metadata": {},
   "outputs": [
    {
     "data": {
      "text/plain": [
       "'ams'"
      ]
     },
     "execution_count": 20,
     "metadata": {},
     "output_type": "execute_result"
    }
   ],
   "source": [
    "#Q3\n",
    "def society_name(name):\n",
    "    society = \"\"\n",
    "    list1 = []\n",
    "    for i in name:\n",
    "        list1.append(i[0])\n",
    "    for e in sorted(list1):\n",
    "        society = society + e\n",
    "    return society\n",
    "society_name([\"adam\",\"sam\",\"max\"])\n",
    "        "
   ]
  },
  {
   "cell_type": "code",
   "execution_count": 29,
   "id": "422b08ec",
   "metadata": {},
   "outputs": [
    {
     "data": {
      "text/plain": [
       "False"
      ]
     },
     "execution_count": 29,
     "metadata": {},
     "output_type": "execute_result"
    }
   ],
   "source": [
    "#Q4\n",
    "def is_isogram(word):\n",
    "    letters = []\n",
    "    for letter in word.lower():\n",
    "        if letter in letters:\n",
    "            output = False\n",
    "            break\n",
    "        \n",
    "        letters.append(letter)\n",
    "        output = True\n",
    "    return output\n",
    "is_isogram(\"machane\")"
   ]
  },
  {
   "cell_type": "code",
   "execution_count": 31,
   "id": "7bc1d3bc",
   "metadata": {},
   "outputs": [
    {
     "data": {
      "text/plain": [
       "False"
      ]
     },
     "execution_count": 31,
     "metadata": {},
     "output_type": "execute_result"
    }
   ],
   "source": [
    "#Q5\n",
    "def is_in_order(s):\n",
    "    n = len(s)\n",
    "    c = [s[i] for i in range(len(s))]\n",
    "    c.sort(reverse = False)\n",
    "    for i in range(n):\n",
    "        if (c[i] != s[i]):\n",
    "            return False\n",
    "         \n",
    "    return True\n",
    "is_in_order(\"abac\")\n",
    " "
   ]
  },
  {
   "cell_type": "code",
   "execution_count": null,
   "id": "c4fae674",
   "metadata": {},
   "outputs": [],
   "source": []
  }
 ],
 "metadata": {
  "kernelspec": {
   "display_name": "Python 3",
   "language": "python",
   "name": "python3"
  },
  "language_info": {
   "codemirror_mode": {
    "name": "ipython",
    "version": 3
   },
   "file_extension": ".py",
   "mimetype": "text/x-python",
   "name": "python",
   "nbconvert_exporter": "python",
   "pygments_lexer": "ipython3",
   "version": "3.8.8"
  }
 },
 "nbformat": 4,
 "nbformat_minor": 5
}
