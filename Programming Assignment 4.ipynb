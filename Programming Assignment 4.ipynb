{
 "cells": [
  {
   "cell_type": "code",
   "execution_count": 6,
   "id": "9142d1dd",
   "metadata": {},
   "outputs": [
    {
     "name": "stdout",
     "output_type": "stream",
     "text": [
      "enter the number : 5\n",
      "120\n"
     ]
    }
   ],
   "source": [
    "#Q1\n",
    "def factorial():\n",
    "    num = int(input(\"enter the number : \"))\n",
    "    fact = 1\n",
    "    for i in range(1,num+1):\n",
    "        fact = fact * i\n",
    "    print(fact)\n",
    "\n",
    "factorial()"
   ]
  },
  {
   "cell_type": "code",
   "execution_count": 8,
   "id": "3fa347a8",
   "metadata": {},
   "outputs": [
    {
     "name": "stdout",
     "output_type": "stream",
     "text": [
      "enter number: 3\n",
      "3\n",
      "6\n",
      "9\n",
      "12\n",
      "15\n",
      "18\n",
      "21\n",
      "24\n",
      "27\n",
      "30\n"
     ]
    }
   ],
   "source": [
    "#Q2\n",
    "def multiplication():\n",
    "    num =  int(input(\"enter number: \"))\n",
    "    for i in range(1,11):\n",
    "        print(num * i)\n",
    "multiplication()"
   ]
  },
  {
   "cell_type": "code",
   "execution_count": 10,
   "id": "835639d1",
   "metadata": {},
   "outputs": [
    {
     "name": "stdout",
     "output_type": "stream",
     "text": [
      "enter number: 10\n",
      "0\n",
      "1\n",
      "1\n",
      "2\n",
      "3\n",
      "5\n",
      "8\n",
      "13\n",
      "21\n",
      "34\n"
     ]
    }
   ],
   "source": [
    "#Q3\n",
    "def fibo():\n",
    "    num = int(input(\"enter number: \"))\n",
    "    num1 = 0\n",
    "    num2 = 1\n",
    "    print(num1)\n",
    "    print(num2)\n",
    "    \n",
    "    for i in range(2,num):\n",
    "        sum  = num1 + num2\n",
    "        print(sum)\n",
    "        num1 = num2\n",
    "        num2 = sum\n",
    "    \n",
    "fibo()\n",
    "        \n",
    "        \n",
    "    "
   ]
  },
  {
   "cell_type": "code",
   "execution_count": 24,
   "id": "0e89ee2b",
   "metadata": {},
   "outputs": [
    {
     "name": "stdout",
     "output_type": "stream",
     "text": [
      "enter number: 153\n",
      "its an armstrong number\n"
     ]
    }
   ],
   "source": [
    "#Q4\n",
    "def armstrong():\n",
    "    num = input(\"enter number: \")\n",
    "    sum = 0\n",
    "    for i in range(len(num)):\n",
    "        sum = sum + (int(num[i])**len(num))\n",
    "    if sum == int(num):\n",
    "        print(\"its an armstrong number\")\n",
    "    else:\n",
    "        print(\"not an armstrong number\")\n",
    "armstrong()"
   ]
  },
  {
   "cell_type": "code",
   "execution_count": 31,
   "id": "a5503301",
   "metadata": {},
   "outputs": [
    {
     "name": "stdout",
     "output_type": "stream",
     "text": [
      "1\n",
      "2\n",
      "3\n",
      "4\n",
      "5\n",
      "6\n",
      "7\n",
      "8\n",
      "9\n",
      "153\n",
      "370\n",
      "371\n",
      "407\n"
     ]
    }
   ],
   "source": [
    "#Q5\n",
    "def armstrong():\n",
    "    \n",
    "    for num in range(1,1000):\n",
    "        sum = 0\n",
    "        strnum = str(num)\n",
    "        for i in range(len(strnum)):\n",
    "            sum = sum + (int(strnum[i])**len(strnum))\n",
    "        if sum == num:\n",
    "            print(num)\n",
    "armstrong()"
   ]
  },
  {
   "cell_type": "code",
   "execution_count": 33,
   "id": "fdc1a965",
   "metadata": {},
   "outputs": [
    {
     "name": "stdout",
     "output_type": "stream",
     "text": [
      "enter the number: 10\n",
      "55\n"
     ]
    }
   ],
   "source": [
    "#Q6\n",
    "def natural():\n",
    "    num = int(input(\"enter the number: \"))\n",
    "    if num < 0:\n",
    "        print(\"Its not a posititve number\")\n",
    "    else:\n",
    "        sum = 0\n",
    "        for i in range(num+1):\n",
    "            sum = sum + i\n",
    "        \n",
    "    print(sum)\n",
    "natural()"
   ]
  },
  {
   "cell_type": "code",
   "execution_count": null,
   "id": "68f467b8",
   "metadata": {},
   "outputs": [],
   "source": []
  }
 ],
 "metadata": {
  "kernelspec": {
   "display_name": "Python 3",
   "language": "python",
   "name": "python3"
  },
  "language_info": {
   "codemirror_mode": {
    "name": "ipython",
    "version": 3
   },
   "file_extension": ".py",
   "mimetype": "text/x-python",
   "name": "python",
   "nbconvert_exporter": "python",
   "pygments_lexer": "ipython3",
   "version": "3.8.8"
  }
 },
 "nbformat": 4,
 "nbformat_minor": 5
}
