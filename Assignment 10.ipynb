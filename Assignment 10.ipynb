{
 "cells": [
  {
   "cell_type": "markdown",
   "id": "af8fcc20",
   "metadata": {},
   "source": [
    "Q1. shutil.copy() will copy a single file where as shutil.copytree() will copy all the files and folders present in it."
   ]
  },
  {
   "cell_type": "markdown",
   "id": "a3bc4abb",
   "metadata": {},
   "source": [
    "Q2. os.rename() function is used to rename a file."
   ]
  },
  {
   "cell_type": "markdown",
   "id": "ca13fef0",
   "metadata": {},
   "source": [
    "Q3. Send2trash will move file or folder to recyclebin, while shutile function will delete file or folder permanently."
   ]
  },
  {
   "cell_type": "markdown",
   "id": "be83ad7a",
   "metadata": {},
   "source": [
    "Q4. zipfile.Zipfile() function is equvalent to open() function."
   ]
  },
  {
   "cell_type": "code",
   "execution_count": null,
   "id": "5c03d887",
   "metadata": {},
   "outputs": [],
   "source": [
    "Q5. import os, shutil\n",
    "\n",
    "def selectiveCopy(folder, extensions, destFolder):\n",
    "    folder = os.path.abspath(folder)\n",
    "    destFolder = os.path.abspath(destFolder)\n",
    "    print('Looking in', folder, 'for files with extensions of', ', '.join(extensions))\n",
    "    for foldername, subfolders, filenames in os.walk(folder):\n",
    "        for filename in filenames:\n",
    "            name, extension = os.path.splitext(filename)\n",
    "            if extension in extensions:\n",
    "                fileAbsPath = foldername + os.path.sep + filename\n",
    "    print('Coping', fileAbsPath, 'to', destFolder)\n",
    "\t\t\t\tshutil.copy(fileAbsPath, destFolder)\n",
    "\n",
    "extensions = ['.php', '.py']\n",
    "folder = 'randomFolder'\n",
    "destFolder = 'selectiveFolder'\n",
    "selectiveCopy(folder, extensions, destFolder)"
   ]
  }
 ],
 "metadata": {
  "kernelspec": {
   "display_name": "Python 3",
   "language": "python",
   "name": "python3"
  },
  "language_info": {
   "codemirror_mode": {
    "name": "ipython",
    "version": 3
   },
   "file_extension": ".py",
   "mimetype": "text/x-python",
   "name": "python",
   "nbconvert_exporter": "python",
   "pygments_lexer": "ipython3",
   "version": "3.8.8"
  }
 },
 "nbformat": 4,
 "nbformat_minor": 5
}
