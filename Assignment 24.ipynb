{
 "cells": [
  {
   "cell_type": "markdown",
   "id": "080d3273",
   "metadata": {},
   "source": [
    "Q1. Def keyword is use to mark the start of function.\n",
    "\n",
    "Lamda is one line method without name. Return type of lamda is object type and it takes only one argyment,"
   ]
  },
  {
   "cell_type": "markdown",
   "id": "556e6f32",
   "metadata": {},
   "source": [
    "Q2. Executin of code in lamda function is much faster and makes code more readable and reduce line of code as it is oneline function."
   ]
  },
  {
   "cell_type": "markdown",
   "id": "1d094082",
   "metadata": {},
   "source": [
    "Q3. The map function iterates through all items in the given iterable and executes the function we passed as an argument on each of them.\n",
    "\n",
    "filter accumulates only elements matching a condition. filter() forms a new list that contains only elements that satisfy a certain condition, i.e. the function we passed returns True.\n",
    "\n",
    "reduce accumulates all elements to a single value, by using immutable values reduce() works by calling the function we passed for the first two items in the sequence. The result returned by the function is used in another call to function alongside with the next. "
   ]
  },
  {
   "cell_type": "markdown",
   "id": "2ceca6bd",
   "metadata": {},
   "source": [
    "Q4. Function annotation is the standard way to access the metadata with the arguments and the return value of the function. They get evaluated only during the compile-time and have no significance during the run-time of the code.\n",
    "\n",
    "syntax: def func(a: 'int') -> 'int':\n",
    "pass\n",
    "\n"
   ]
  },
  {
   "cell_type": "markdown",
   "id": "330b1f38",
   "metadata": {},
   "source": [
    "Q5. A recursive function is a function that calls itself. The function continues to call itself until there is no condition thats breaks out of loop.\n",
    "\n",
    "example:\n",
    "\n",
    "def fact(x):\n",
    "\n",
    "    if x == 1 :\n",
    "    \n",
    "        return 1\n",
    "        \n",
    "    else :\n",
    "    \n",
    "        return x * fact(x-1)\n",
    "        \n",
    "fact(4)"
   ]
  },
  {
   "cell_type": "markdown",
   "id": "f3151ce5",
   "metadata": {},
   "source": [
    "Q6.\n",
    "Use 4-space indentation and no tabs.\n",
    "\n",
    "Use docstrings\n",
    "\n",
    "Wrap linethat they don’t exceed 79 characters\n",
    "\n",
    "Use of regular and updated comments are valuable to both the coders and users\n",
    "\n",
    "Use of trailing commas : in case of tuple -> ('good',)\n",
    "    \n",
    "Use Python’s default UTF-8 or ASCII encodings and not any fancy encodings\n",
    "\n",
    "Naming Conventions 8.Characters that should not be used for identifiers : ‘l’ (lowercase letter el), ‘O’ (uppercase letter oh), ‘I’ (uppercase letter eye) as single character variable names as these are similar to the numerals one and zero.\n",
    "Don’t use non-ASCII characters in identifiers\n",
    "\n",
    "Name your classes and functions consistently\n",
    "\n",
    "While naming of function of methods always use self for the first argument"
   ]
  },
  {
   "cell_type": "markdown",
   "id": "8552aa13",
   "metadata": {},
   "source": [
    "Q7. \n",
    "Function can return single value\n",
    "\n",
    "Can return multiple values, tuple\n",
    "\n",
    "can return list,dictionary\n",
    "\n",
    "can return function object\n",
    "\n",
    "can return class object\n"
   ]
  },
  {
   "cell_type": "code",
   "execution_count": null,
   "id": "5af9c12e",
   "metadata": {},
   "outputs": [],
   "source": []
  }
 ],
 "metadata": {
  "kernelspec": {
   "display_name": "Python 3",
   "language": "python",
   "name": "python3"
  },
  "language_info": {
   "codemirror_mode": {
    "name": "ipython",
    "version": 3
   },
   "file_extension": ".py",
   "mimetype": "text/x-python",
   "name": "python",
   "nbconvert_exporter": "python",
   "pygments_lexer": "ipython3",
   "version": "3.8.8"
  }
 },
 "nbformat": 4,
 "nbformat_minor": 5
}
