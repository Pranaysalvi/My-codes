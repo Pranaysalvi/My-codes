{
 "cells": [
  {
   "cell_type": "markdown",
   "id": "f3d3a0eb",
   "metadata": {},
   "source": [
    "#Q1. Python OOP focuses on writting the reusable code. Object Oriented Programing(OOP) in basically collecting or bundulling related properties or behaviour in same object."
   ]
  },
  {
   "cell_type": "markdown",
   "id": "dcf2f8a5",
   "metadata": {},
   "source": [
    "#Q2. Instance search looks for attribute in the instance object, then in the class the instance object waas created from."
   ]
  },
  {
   "cell_type": "markdown",
   "id": "53287cae",
   "metadata": {},
   "source": [
    "#Q3. Instance object inherits the attributes of the class object from which it was created."
   ]
  },
  {
   "cell_type": "markdown",
   "id": "052bd521",
   "metadata": {},
   "source": [
    "#Q4. First argument of the method is instance of the class and is used to access attributes and methods of the class."
   ]
  },
  {
   "cell_type": "markdown",
   "id": "37623537",
   "metadata": {},
   "source": [
    "#Q5. __init__ method behaves similar to constructor. When object is created everytime __init__ method is called. Init method allows class to initialze object's attribute."
   ]
  },
  {
   "cell_type": "markdown",
   "id": "51fb4627",
   "metadata": {},
   "source": [
    "#Q6. To create an instance of the class we call class name and pass whatever arguments init method accepts."
   ]
  },
  {
   "cell_type": "markdown",
   "id": "0fa1f917",
   "metadata": {},
   "source": [
    "#Q7. To create a class we use class Keyword and then give name of class. Eg: class myclass"
   ]
  },
  {
   "cell_type": "markdown",
   "id": "0fcc8af7",
   "metadata": {},
   "source": [
    "#Q8. The class from wich another class is inherited is called superclass. Child class inherits the properties of its super or parent class."
   ]
  },
  {
   "cell_type": "code",
   "execution_count": null,
   "id": "7d2f45ad",
   "metadata": {},
   "outputs": [],
   "source": []
  }
 ],
 "metadata": {
  "kernelspec": {
   "display_name": "Python 3",
   "language": "python",
   "name": "python3"
  },
  "language_info": {
   "codemirror_mode": {
    "name": "ipython",
    "version": 3
   },
   "file_extension": ".py",
   "mimetype": "text/x-python",
   "name": "python",
   "nbconvert_exporter": "python",
   "pygments_lexer": "ipython3",
   "version": "3.8.8"
  }
 },
 "nbformat": 4,
 "nbformat_minor": 5
}
