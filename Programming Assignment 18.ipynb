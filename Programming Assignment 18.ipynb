{
 "cells": [
  {
   "cell_type": "code",
   "execution_count": 33,
   "id": "861c4b79",
   "metadata": {},
   "outputs": [
    {
     "data": {
      "text/plain": [
       "[1, 2]"
      ]
     },
     "execution_count": 33,
     "metadata": {},
     "output_type": "execute_result"
    }
   ],
   "source": [
    "#Q1\n",
    "def filter_list(l):\n",
    "    list1 = []\n",
    "    for i in l:\n",
    "       if type(i) == int:\n",
    "        list1.append(i)\n",
    "            \n",
    "      \n",
    "            \n",
    "    return list1\n",
    "filter_list([1 , \"a\" , \"b\" , 2])"
   ]
  },
  {
   "cell_type": "code",
   "execution_count": 36,
   "id": "e838bc8e",
   "metadata": {},
   "outputs": [
    {
     "name": "stdout",
     "output_type": "stream",
     "text": [
      "DLROw OLLEh\n"
     ]
    }
   ],
   "source": [
    "#Q2\n",
    "def reverse(str1):\n",
    "    str2 = \"\"\n",
    "    for i in str1:\n",
    "        if i.islower():\n",
    "            str2 = str2 + i.upper()\n",
    "        else:\n",
    "            str2 = str2 + i.lower()\n",
    "    print(str2[::-1])\n",
    "reverse(\"Hello World\")"
   ]
  },
  {
   "cell_type": "code",
   "execution_count": 37,
   "id": "6e823a25",
   "metadata": {},
   "outputs": [
    {
     "name": "stdout",
     "output_type": "stream",
     "text": [
      "first =  1\n",
      "middle =  [2, 3, 4, 5]\n",
      "last =  6\n"
     ]
    }
   ],
   "source": [
    "#Q3\n",
    "l = [1,2,3,4,5,6]\n",
    "print(\"first = \", l[0])\n",
    "print(\"middle = \", l[1:-1])\n",
    "print(\"last = \", l[-1])"
   ]
  },
  {
   "cell_type": "code",
   "execution_count": 39,
   "id": "79d0f833",
   "metadata": {},
   "outputs": [
    {
     "name": "stdout",
     "output_type": "stream",
     "text": [
      "The factorial of 5 is 120\n"
     ]
    }
   ],
   "source": [
    "#Q4\n",
    "def factorial(n):\n",
    "   if n == 1:\n",
    "       return n\n",
    "   else:\n",
    "       return n*factorial(n-1)\n",
    "num = 5\n",
    "if num < 0:\n",
    "   print(\"Sorry, factorial does not exist for negative numbers\")\n",
    "elif num == 0:\n",
    "   print(\"The factorial of 0 is 1\")\n",
    "else:\n",
    "   print(\"The factorial of\", num, \"is\", factorial(num))"
   ]
  },
  {
   "cell_type": "code",
   "execution_count": 42,
   "id": "2435faa2",
   "metadata": {},
   "outputs": [
    {
     "name": "stdout",
     "output_type": "stream",
     "text": [
      "[1, 2, 4, 5, 2]\n"
     ]
    }
   ],
   "source": [
    "#Q5\n",
    "def move_to_end(l,e):\n",
    "    new_l = []\n",
    "    for i in range(len(l)):\n",
    "        if i == e:\n",
    "            new_l.append(l[i])\n",
    "            l.remove(l[i])\n",
    "        \n",
    "    list1 = l + new_l\n",
    "    print(list1)\n",
    "\n",
    "move_to_end([1,2,2,4,5],2)"
   ]
  },
  {
   "cell_type": "code",
   "execution_count": null,
   "id": "4ee5e387",
   "metadata": {},
   "outputs": [],
   "source": []
  }
 ],
 "metadata": {
  "kernelspec": {
   "display_name": "Python 3",
   "language": "python",
   "name": "python3"
  },
  "language_info": {
   "codemirror_mode": {
    "name": "ipython",
    "version": 3
   },
   "file_extension": ".py",
   "mimetype": "text/x-python",
   "name": "python",
   "nbconvert_exporter": "python",
   "pygments_lexer": "ipython3",
   "version": "3.8.8"
  }
 },
 "nbformat": 4,
 "nbformat_minor": 5
}
