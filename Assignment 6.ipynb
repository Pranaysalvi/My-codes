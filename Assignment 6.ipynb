{
 "cells": [
  {
   "cell_type": "markdown",
   "id": "2b62ea87",
   "metadata": {},
   "source": [
    "Q1. Escape characters are the backslash followed by character. We use them as following '\\r'."
   ]
  },
  {
   "cell_type": "markdown",
   "id": "7547c230",
   "metadata": {},
   "source": [
    "Q2. Escape character n and t stands for tab and new line respectively."
   ]
  },
  {
   "cell_type": "markdown",
   "id": "46bef184",
   "metadata": {},
   "source": [
    "Q3. To include backslash character in string we need to use plus operator.\n"
   ]
  },
  {
   "cell_type": "markdown",
   "id": "db14a1b1",
   "metadata": {},
   "source": [
    "Q4. The single quote charcater in word howl's has not escaped a problem because we have used double quotes to mark beginning and end of string."
   ]
  },
  {
   "cell_type": "markdown",
   "id": "a3e153db",
   "metadata": {},
   "source": [
    "Q5. To write string of newlines we can use print function everytime we want to shift to new line as bydefault end value in print function is newline."
   ]
  },
  {
   "cell_type": "markdown",
   "id": "3311622b",
   "metadata": {},
   "source": [
    "Q6. a. 'Hello, world!'[1] = 'e'\n",
    "\n",
    "   b. 'Hello, world!'[0:5] = 'Hello'\n",
    "   \n",
    "   c. 'Hello, world!'[5] = 'Hello'\n",
    "   \n",
    "   d. 'Hello, world!'[3:]= 'lo, world!'"
   ]
  },
  {
   "cell_type": "markdown",
   "id": "6acc3521",
   "metadata": {},
   "source": [
    "Q7. \"Hello\".upper() = \"HELLO\"\n",
    "   \n",
    "   \"Hello\".upper().isupper() = True \n",
    "   \n",
    "   \"Hello\".upper().lower() = False"
   ]
  },
  {
   "cell_type": "markdown",
   "id": "49d62778",
   "metadata": {},
   "source": [
    "Q8. a. 'Remember, remember, the fifth of July.'.split() = ['Remember,', 'remember,', 'the', 'fifth', 'of', 'July.']\n",
    "    \n",
    "   b. '-'.join('There can only one.'.split()) = 'There-can-only-one.'"
   ]
  },
  {
   "cell_type": "markdown",
   "id": "04ceea97",
   "metadata": {},
   "source": [
    "Q9. Methods for right-justifying, left-justifying, and centering a string are rjust(), ljust() and center() respectively."
   ]
  },
  {
   "cell_type": "markdown",
   "id": "93b6680d",
   "metadata": {},
   "source": [
    "Q10. The best way to remove whitespace characters from the start or end of string is by using strip() method."
   ]
  },
  {
   "cell_type": "code",
   "execution_count": null,
   "id": "fb81ba32",
   "metadata": {},
   "outputs": [],
   "source": []
  }
 ],
 "metadata": {
  "kernelspec": {
   "display_name": "Python 3",
   "language": "python",
   "name": "python3"
  },
  "language_info": {
   "codemirror_mode": {
    "name": "ipython",
    "version": 3
   },
   "file_extension": ".py",
   "mimetype": "text/x-python",
   "name": "python",
   "nbconvert_exporter": "python",
   "pygments_lexer": "ipython3",
   "version": "3.8.8"
  }
 },
 "nbformat": 4,
 "nbformat_minor": 5
}
