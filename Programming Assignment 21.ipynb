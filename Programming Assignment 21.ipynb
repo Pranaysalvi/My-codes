{
 "cells": [
  {
   "cell_type": "code",
   "execution_count": 1,
   "id": "f83a5470",
   "metadata": {},
   "outputs": [
    {
     "data": {
      "text/plain": [
       "[2, 3, 4, 5]"
      ]
     },
     "execution_count": 1,
     "metadata": {},
     "output_type": "execute_result"
    }
   ],
   "source": [
    "#Q1\n",
    "def next_in_line(l,n):\n",
    "    if len(l) != 0:\n",
    "        l.remove(l[0])\n",
    "        l.append(n)\n",
    "        return l\n",
    "    else:\n",
    "        return \"no list selected\"\n",
    "next_in_line([1,2,3,4],5)"
   ]
  },
  {
   "cell_type": "code",
   "execution_count": 8,
   "id": "800de5e2",
   "metadata": {},
   "outputs": [
    {
     "data": {
      "text/plain": [
       "600"
      ]
     },
     "execution_count": 8,
     "metadata": {},
     "output_type": "execute_result"
    }
   ],
   "source": [
    "#Q2\n",
    "def get_budget(l):\n",
    "    sum = 0\n",
    "    for i in l:\n",
    "        sum = sum + i.get('budget')\n",
    "    return sum\n",
    "get_budget([{\"name\":\"abc\", \"age\":21,\"budget\":300},\n",
    "           {\"name\":\"max\", \"age\":22,\"budget\":200},\n",
    "           {\"name\":\"sam\", \"age\":20,\"budget\":100}])"
   ]
  },
  {
   "cell_type": "code",
   "execution_count": 14,
   "id": "690a6489",
   "metadata": {},
   "outputs": [
    {
     "data": {
      "text/plain": [
       "'ehllo'"
      ]
     },
     "execution_count": 14,
     "metadata": {},
     "output_type": "execute_result"
    }
   ],
   "source": [
    "#Q3\n",
    "def alphabet_soup(str1):\n",
    "    newstr =\"\"\n",
    "    for w in sorted(str1):\n",
    "        newstr = newstr +w\n",
    "    return newstr\n",
    "alphabet_soup(\"hello\")"
   ]
  },
  {
   "cell_type": "code",
   "execution_count": 11,
   "id": "906914ae",
   "metadata": {},
   "outputs": [
    {
     "data": {
      "text/plain": [
       "26862.72"
      ]
     },
     "execution_count": 11,
     "metadata": {},
     "output_type": "execute_result"
    }
   ],
   "source": [
    "#Q4\n",
    "def compund_intrest(p,t,r,n):\n",
    "    \n",
    "    for i in range(t):\n",
    "        total = 0\n",
    "        total = p*r\n",
    "        p = p + total\n",
    "        \n",
    "    return round(p,2)\n",
    "compund_intrest(15000,10,0.06,12)"
   ]
  },
  {
   "cell_type": "code",
   "execution_count": 12,
   "id": "e20b868c",
   "metadata": {},
   "outputs": [
    {
     "data": {
      "text/plain": [
       "[1, 2, 4]"
      ]
     },
     "execution_count": 12,
     "metadata": {},
     "output_type": "execute_result"
    }
   ],
   "source": [
    "#Q5\n",
    "def return_only_integer(l):\n",
    "    list1 = []\n",
    "    for i in l:\n",
    "        if type(i) == int:\n",
    "            list1.append(i)\n",
    "    return list1\n",
    "return_only_integer([1,2,\"hi\",\"now\",4,\"go\"])"
   ]
  },
  {
   "cell_type": "code",
   "execution_count": null,
   "id": "40e50394",
   "metadata": {},
   "outputs": [],
   "source": []
  }
 ],
 "metadata": {
  "kernelspec": {
   "display_name": "Python 3",
   "language": "python",
   "name": "python3"
  },
  "language_info": {
   "codemirror_mode": {
    "name": "ipython",
    "version": 3
   },
   "file_extension": ".py",
   "mimetype": "text/x-python",
   "name": "python",
   "nbconvert_exporter": "python",
   "pygments_lexer": "ipython3",
   "version": "3.8.8"
  }
 },
 "nbformat": 4,
 "nbformat_minor": 5
}
