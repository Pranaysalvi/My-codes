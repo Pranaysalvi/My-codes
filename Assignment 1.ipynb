{
 "cells": [
  {
   "cell_type": "markdown",
   "id": "f4982b7f",
   "metadata": {},
   "source": [
    "1. Values are: 'hello', -87.8, 6\n",
    "    \n",
    "    operators are: *, -, /, +"
   ]
  },
  {
   "cell_type": "markdown",
   "id": "1b6d6fa8",
   "metadata": {},
   "source": [
    "2. variable allow us to store data in memory or in other words it allocates space for dat in memory.\n",
    "    String is combination of words.\n",
    "\n",
    "    example : a = 'Hi How are you?'\n",
    "    \n",
    "    In above exampe a is variable and value assign to it that is 'hi how are you?' is a string."
   ]
  },
  {
   "cell_type": "markdown",
   "id": "926359c6",
   "metadata": {},
   "source": [
    "3. Three datetypes are:\n",
    "    \n",
    "    1. INT =  It is a datatype which has integer values.\n",
    "    \n",
    "    2. char = It is a datatype which has character values.\n",
    "    \n",
    "    3. Boolean = It gives Boolean value either 1 or 0."
   ]
  },
  {
   "cell_type": "markdown",
   "id": "2b096bf7",
   "metadata": {},
   "source": [
    "  4. Expression is a combination of values and operatos. Expression perform certain mathematical operation on values and gives      a results.\n",
    "      \n",
    "      example : 10 + 20 = 30."
   ]
  },
  {
   "cell_type": "markdown",
   "id": "5927c82a",
   "metadata": {},
   "source": [
    "5. Assignment statement assigns a value to a variable. example spam = 10 here value 10 is assigned to spam variable.\n",
    "   Expression perform mathematical operation on value and gives a final output. example : 10 + 20 = 30"
   ]
  },
  {
   "cell_type": "markdown",
   "id": "2815e0fc",
   "metadata": {},
   "source": [
    "6. Variable bacon contains value 22 as there is no other value assigned no bacon after bacon=22. bacon+1 is only an operation performed but this value is not assigned again to bacon. So the final value in bacon will be 22."
   ]
  },
  {
   "cell_type": "markdown",
   "id": "32c7fc81",
   "metadata": {},
   "source": [
    "7. The result will be 'spamspamspam' in both the case."
   ]
  },
  {
   "cell_type": "markdown",
   "id": "15fa840c",
   "metadata": {},
   "source": [
    "8. Variable name should not start with number or any special symbol except _ and should not be a any reserved keywords. Variable name should always start with character or we can start with _."
   ]
  },
  {
   "cell_type": "markdown",
   "id": "ae4958a8",
   "metadata": {},
   "source": [
    "9. The Functions which will return integer, floating point or string version of value are: int(),float(),str()."
   ]
  },
  {
   "cell_type": "markdown",
   "id": "713a85ba",
   "metadata": {},
   "source": [
    "10. The Expression cause an error because we cannot concatenate string values with integer value. We can solve this poblem by converting 99 in to string i.e 'I have eaten' + '99' + 'burritos.'"
   ]
  },
  {
   "cell_type": "code",
   "execution_count": null,
   "id": "bc0366ae",
   "metadata": {},
   "outputs": [],
   "source": []
  }
 ],
 "metadata": {
  "kernelspec": {
   "display_name": "Python 3",
   "language": "python",
   "name": "python3"
  },
  "language_info": {
   "codemirror_mode": {
    "name": "ipython",
    "version": 3
   },
   "file_extension": ".py",
   "mimetype": "text/x-python",
   "name": "python",
   "nbconvert_exporter": "python",
   "pygments_lexer": "ipython3",
   "version": "3.8.8"
  }
 },
 "nbformat": 4,
 "nbformat_minor": 5
}
