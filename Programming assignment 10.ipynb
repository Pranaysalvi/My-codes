{
 "cells": [
  {
   "cell_type": "code",
   "execution_count": 4,
   "id": "c9eed758",
   "metadata": {},
   "outputs": [
    {
     "name": "stdout",
     "output_type": "stream",
     "text": [
      "sum is:  10\n"
     ]
    }
   ],
   "source": [
    "#Q1\n",
    "def list_sum():\n",
    "    list1 = [1,2,3,4]\n",
    "    sum = 0\n",
    "    for i in list1:\n",
    "        sum = sum + i\n",
    "    print(\"sum is: \",sum)\n",
    "list_sum()"
   ]
  },
  {
   "cell_type": "code",
   "execution_count": 5,
   "id": "14ccb9a3",
   "metadata": {},
   "outputs": [
    {
     "name": "stdout",
     "output_type": "stream",
     "text": [
      "multiplication of list is:  24\n"
     ]
    }
   ],
   "source": [
    "#Q2\n",
    "def list_mul():\n",
    "    list1 = [1,2,3,4]\n",
    "    mul = 1\n",
    "    for i in list1:\n",
    "        mul = mul * i\n",
    "    print(\"multiplication of list is: \",mul)\n",
    "list_mul()"
   ]
  },
  {
   "cell_type": "code",
   "execution_count": 7,
   "id": "a622c79e",
   "metadata": {},
   "outputs": [
    {
     "name": "stdout",
     "output_type": "stream",
     "text": [
      "Smallest number is:  1\n"
     ]
    }
   ],
   "source": [
    "#Q3\n",
    "def smallest():\n",
    "    list1 = [2,4,6,1,3]\n",
    "    smallest = list1[0]\n",
    "    for i in list1:\n",
    "        if i < smallest:\n",
    "            smallest = i\n",
    "    print(\"Smallest number is: \",smallest)\n",
    "\n",
    "smallest()"
   ]
  },
  {
   "cell_type": "code",
   "execution_count": 8,
   "id": "c09a163a",
   "metadata": {},
   "outputs": [
    {
     "name": "stdout",
     "output_type": "stream",
     "text": [
      "largest number is:  6\n"
     ]
    }
   ],
   "source": [
    "#Q4\n",
    "def largest():\n",
    "    list1 = [2,4,6,1,3]\n",
    "    large = list1[0]\n",
    "    for i in list1:\n",
    "        if i > large:\n",
    "            large = i\n",
    "    print(\"largest number is: \",large)\n",
    "\n",
    "largest()"
   ]
  },
  {
   "cell_type": "code",
   "execution_count": 18,
   "id": "220748b7",
   "metadata": {},
   "outputs": [
    {
     "name": "stdout",
     "output_type": "stream",
     "text": [
      "second largest number is:  5\n"
     ]
    }
   ],
   "source": [
    "#Q5\n",
    "def second_largest():\n",
    "    list1 = [2,4,6,1,3,5]\n",
    "    list1.sort()\n",
    "    print(\"second largest number is: \",list1[-2])\n",
    "\n",
    "second_largest()"
   ]
  },
  {
   "cell_type": "code",
   "execution_count": 19,
   "id": "3dcf74e7",
   "metadata": {},
   "outputs": [
    {
     "name": "stdout",
     "output_type": "stream",
     "text": [
      "[298, 900, 1000, 3579]\n"
     ]
    }
   ],
   "source": [
    "#Q6\n",
    "def n_largest():\n",
    "    l = [1000,298,3579,100,200,-45,900]\n",
    "    n = 4\n",
    "  \n",
    "    l.sort()\n",
    "    print(l[-n:])\n",
    "    \n",
    "n_largest()"
   ]
  },
  {
   "cell_type": "code",
   "execution_count": 21,
   "id": "c9775266",
   "metadata": {},
   "outputs": [
    {
     "name": "stdout",
     "output_type": "stream",
     "text": [
      "2\n",
      "4\n",
      "18\n"
     ]
    }
   ],
   "source": [
    "#Q7\n",
    "def even():\n",
    "    l = [2,4,5,1,3,18,17]\n",
    "    for i in l:\n",
    "        if i % 2 == 0:\n",
    "            print(i)\n",
    "\n",
    "even()"
   ]
  },
  {
   "cell_type": "code",
   "execution_count": 22,
   "id": "e9e572d8",
   "metadata": {},
   "outputs": [
    {
     "name": "stdout",
     "output_type": "stream",
     "text": [
      "5\n",
      "1\n",
      "3\n",
      "17\n"
     ]
    }
   ],
   "source": [
    "#Q8\n",
    "def odd():\n",
    "    l = [2,4,5,1,3,18,17]\n",
    "    for i in l:\n",
    "        if i % 2 != 0:\n",
    "            print(i)\n",
    "\n",
    "odd()"
   ]
  },
  {
   "cell_type": "code",
   "execution_count": 23,
   "id": "bd31b9d9",
   "metadata": {},
   "outputs": [
    {
     "name": "stdout",
     "output_type": "stream",
     "text": [
      "The original list is : [5, 6, [], 3, [], [], 9]\n",
      "List after empty list removal : [5, 6, 3, 9]\n"
     ]
    }
   ],
   "source": [
    "#Q9\n",
    "def blank():\n",
    "    test_list = [5, 6, [], 3, [], [], 9]\n",
    "    print(\"The original list is : \" + str(test_list))\n",
    "    res = [e for e in test_list if e != []]\n",
    "    print(\"List after empty list removal : \" + str(res))\n",
    "\n",
    "blank()"
   ]
  },
  {
   "cell_type": "code",
   "execution_count": 24,
   "id": "2e6270c9",
   "metadata": {},
   "outputs": [
    {
     "name": "stdout",
     "output_type": "stream",
     "text": [
      "Original List: [4, 8, 2, 10, 15, 18]\n",
      "After Cloning: [4, 8, 2, 10, 15, 18]\n"
     ]
    }
   ],
   "source": [
    "#Q10\n",
    "def Cloning(li1):\n",
    "    li_copy = li1[:]\n",
    "    return li_copy\n",
    " \n",
    "li1 = [4, 8, 2, 10, 15, 18]\n",
    "li2 = Cloning(li1)\n",
    "print(\"Original List:\", li1)\n",
    "print(\"After Cloning:\", li2)"
   ]
  },
  {
   "cell_type": "code",
   "execution_count": 25,
   "id": "d1c1a23a",
   "metadata": {},
   "outputs": [
    {
     "name": "stdout",
     "output_type": "stream",
     "text": [
      "occurance of 1 in list is :  4\n"
     ]
    }
   ],
   "source": [
    "#Q11\n",
    "def occur():\n",
    "    l = [1,2,3,4,1,2,3,1,1]\n",
    "    element = 1\n",
    "    count = 0\n",
    "    for i in l:\n",
    "        if i == element:\n",
    "            count = count+1\n",
    "    \n",
    "    print(\"occurance of 1 in list is : \",count)\n",
    "\n",
    "occur()"
   ]
  },
  {
   "cell_type": "code",
   "execution_count": null,
   "id": "178df90c",
   "metadata": {},
   "outputs": [],
   "source": []
  }
 ],
 "metadata": {
  "kernelspec": {
   "display_name": "Python 3",
   "language": "python",
   "name": "python3"
  },
  "language_info": {
   "codemirror_mode": {
    "name": "ipython",
    "version": 3
   },
   "file_extension": ".py",
   "mimetype": "text/x-python",
   "name": "python",
   "nbconvert_exporter": "python",
   "pygments_lexer": "ipython3",
   "version": "3.8.8"
  }
 },
 "nbformat": 4,
 "nbformat_minor": 5
}
