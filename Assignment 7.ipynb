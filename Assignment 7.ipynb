{
 "cells": [
  {
   "cell_type": "markdown",
   "id": "abfc86b5",
   "metadata": {},
   "source": [
    "Q1. Regular Expression is the feature responsible for generating regex object."
   ]
  },
  {
   "cell_type": "markdown",
   "id": "e98af15c",
   "metadata": {},
   "source": [
    "Q2. Raw strings are used so that backslashes do not have to be escaped.\n"
   ]
  },
  {
   "cell_type": "markdown",
   "id": "13d9fcb3",
   "metadata": {},
   "source": [
    "Q3. Search() method returns re.Match object and value is from which index till which index the value is found. \n",
    "    \n",
    "    for example : \"hi this is me\" in this string if we search \"this\" output will be: re.Match object; span=(3, 7), match='this'"
   ]
  },
  {
   "cell_type": "markdown",
   "id": "2b97ded5",
   "metadata": {},
   "source": [
    "Q4. To get the actual string that matches the pattern we use group() function."
   ]
  },
  {
   "cell_type": "markdown",
   "id": "a6de46f0",
   "metadata": {},
   "source": [
    "Q5. Group 0 covers entire match, group 1 covers first set of parenthisis, group 2 covers second set of parenthisis."
   ]
  },
  {
   "cell_type": "markdown",
   "id": "d51d3858",
   "metadata": {},
   "source": [
    "Q6. Period and parenthisis can be escaped with backslashes."
   ]
  },
  {
   "cell_type": "markdown",
   "id": "a26648e1",
   "metadata": {},
   "source": [
    "Q7. findall() method returns list of strings as regex has no groups."
   ]
  },
  {
   "cell_type": "markdown",
   "id": "17d37130",
   "metadata": {},
   "source": [
    "Q8. In standard expression | stands for or operator.\n"
   ]
  },
  {
   "cell_type": "markdown",
   "id": "ada41aba",
   "metadata": {},
   "source": [
    "Q9. Each character in expression is eighter metacharacter that has special meaning or a regular character."
   ]
  },
  {
   "cell_type": "markdown",
   "id": "f36cc02b",
   "metadata": {},
   "source": [
    "Q10. Difference between * and + is * match zero or more times while + match one or more times.\n",
    "\n",
    "    for example: a* it will match empty string, a , aa,aaa and so on. a+ matches a or aa or aaa but doesnot match empty string."
   ]
  },
  {
   "cell_type": "markdown",
   "id": "bec87b20",
   "metadata": {},
   "source": [
    "Q11. The difference between {4} and {4,5} is {4} matches exact 4 occurance while {4,5} can check within 4 and 5.\n",
    "    \n",
    "    Example: \\d{4,5} it will match 1234 or 12345 while \\d{4} will match 1234 and not 12345."
   ]
  },
  {
   "cell_type": "markdown",
   "id": "defc6e25",
   "metadata": {},
   "source": [
    "Q12. \\d means digits, /w means alphanumeric, \\s means white spaces."
   ]
  },
  {
   "cell_type": "markdown",
   "id": "fa49fc94",
   "metadata": {},
   "source": [
    "Q13. \\D means non digit value, \\W non alphanumeric values, \\S non whitespaced values."
   ]
  },
  {
   "cell_type": "markdown",
   "id": "ff2e0872",
   "metadata": {},
   "source": [
    "Q14. .*? indactes one or more symbols where as .* indicates zero or more symbols."
   ]
  },
  {
   "cell_type": "markdown",
   "id": "cf7131fc",
   "metadata": {},
   "source": [
    "Q15. The syntax for matching lowercass letter and numbers will be [0-9a-z] or [a-z0-9]."
   ]
  },
  {
   "cell_type": "markdown",
   "id": "d33e6eb0",
   "metadata": {},
   "source": [
    "Q16. We can make expression case insensitive use re.IGNORECASE() function."
   ]
  },
  {
   "cell_type": "markdown",
   "id": "d01f65f3",
   "metadata": {},
   "source": [
    "Q17. Character normally matches any character except new line character. If re. DOTALL is passed as the second argument to re. compile(), then the dot will also match newline characters."
   ]
  },
  {
   "cell_type": "markdown",
   "id": "6b4cb34a",
   "metadata": {},
   "source": [
    "Q18. 'X drummers, X pipers, five rings, X hens'"
   ]
  },
  {
   "cell_type": "markdown",
   "id": "086d4ac1",
   "metadata": {},
   "source": [
    "Q19. The re. VERBOSE argument allows you to add whitespace and comments to the string passed to re."
   ]
  },
  {
   "cell_type": "markdown",
   "id": "ecd81f5b",
   "metadata": {},
   "source": [
    "Q20. The Regex will be (^\\d{1,3}(,\\d{3})*$)"
   ]
  },
  {
   "cell_type": "markdown",
   "id": "031b5ce4",
   "metadata": {},
   "source": [
    "Q21. The regex will be ([A-Z][a-z]+\\sNakamoto)"
   ]
  },
  {
   "cell_type": "markdown",
   "id": "ad758dd9",
   "metadata": {},
   "source": [
    "Q22. The Regex will be (r'(Alice|Bob|Carol)\\s(eats|pets|throws)\\ s(apples|cats|baseballs)\\.', re.IGNORECASE)"
   ]
  },
  {
   "cell_type": "code",
   "execution_count": null,
   "id": "3bfde89f",
   "metadata": {},
   "outputs": [],
   "source": []
  }
 ],
 "metadata": {
  "kernelspec": {
   "display_name": "Python 3",
   "language": "python",
   "name": "python3"
  },
  "language_info": {
   "codemirror_mode": {
    "name": "ipython",
    "version": 3
   },
   "file_extension": ".py",
   "mimetype": "text/x-python",
   "name": "python",
   "nbconvert_exporter": "python",
   "pygments_lexer": "ipython3",
   "version": "3.8.8"
  }
 },
 "nbformat": 4,
 "nbformat_minor": 5
}
