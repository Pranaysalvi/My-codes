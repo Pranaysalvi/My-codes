{
 "cells": [
  {
   "cell_type": "markdown",
   "id": "23898c96",
   "metadata": {},
   "source": [
    "Q1.\n",
    "def func(a, b=6, c=8):\n",
    "    print(a, b, c)\n",
    "\n",
    "func(1, 2)\n",
    "\n",
    "output = 1 2 8\n",
    "\n",
    "When we call func the value of a and b s set to 1 , 2 and value of c is same which we declared in function and as no value is passed for c it is not chnaged."
   ]
  },
  {
   "cell_type": "markdown",
   "id": "d45b74a8",
   "metadata": {},
   "source": [
    "Q2. \n",
    "def func(a, b=6, c=8):\n",
    "    \n",
    "    print(a, b, c)\n",
    "    \n",
    "func(1, c=3, b=2)\n",
    "\n",
    "output = 1 2 3\n",
    "\n",
    "While calling func() we set value for all the variable and that values will be printed.\n"
   ]
  },
  {
   "cell_type": "markdown",
   "id": "bd093fb6",
   "metadata": {},
   "source": [
    "Q3.\n",
    "def func(a, *pargs):\n",
    "    print(a, pargs)\n",
    "\n",
    "func(1, 2, 3)\n",
    "\n",
    "output= 1 (2, 3)\n",
    "\n",
    "*pargs is the list of arguments as we set a = 1 and rest arrguments will be trited as tuples.\n"
   ]
  },
  {
   "cell_type": "markdown",
   "id": "0c091210",
   "metadata": {},
   "source": [
    "Q4.\n",
    "\n",
    "def func(a, **kargs):\n",
    "    print(a, kargs)\n",
    "func(a=1, c=3, b=2)\n",
    "\n",
    "output = {'c': 3, 'b': 2}\n",
    "\n",
    " **kargs is the dict of variable and values as we can set multiple variabe in function call."
   ]
  },
  {
   "cell_type": "markdown",
   "id": "d0425b6a",
   "metadata": {},
   "source": [
    "Q5.\n",
    "def func(a, b, c=8, d=5): \n",
    "    print(a, b, c, d)\n",
    "func(1, *(5, 6))\n",
    "\n",
    "output = 1 5 6 5\n",
    "\n",
    "*(5,6) will set value to consecutive variables. "
   ]
  },
  {
   "cell_type": "markdown",
   "id": "baa2a93c",
   "metadata": {},
   "source": [
    "Q6.\n",
    "def func(a, b, c): \n",
    "    a = 2; b[0] = 'x'; c['a'] = 'y'\n",
    "    \n",
    "l=1; m=[1]; n={'a':0}\n",
    "func(l, m, n)\n",
    "\n",
    "l, m, n\n",
    "\n",
    "output = (1, ['x'], {'a': 'y'})\n",
    "\n"
   ]
  },
  {
   "cell_type": "code",
   "execution_count": null,
   "id": "86b0f566",
   "metadata": {},
   "outputs": [],
   "source": []
  }
 ],
 "metadata": {
  "kernelspec": {
   "display_name": "Python 3",
   "language": "python",
   "name": "python3"
  },
  "language_info": {
   "codemirror_mode": {
    "name": "ipython",
    "version": 3
   },
   "file_extension": ".py",
   "mimetype": "text/x-python",
   "name": "python",
   "nbconvert_exporter": "python",
   "pygments_lexer": "ipython3",
   "version": "3.8.8"
  }
 },
 "nbformat": 4,
 "nbformat_minor": 5
}
