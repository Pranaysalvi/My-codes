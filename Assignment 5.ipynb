{
 "cells": [
  {
   "cell_type": "markdown",
   "id": "c74e33cc",
   "metadata": {},
   "source": [
    "1. Empty dictionary code looks like this. dicts = {}."
   ]
  },
  {
   "cell_type": "markdown",
   "id": "48b1467e",
   "metadata": {},
   "source": [
    "2. The value of dictinory looks as following: {\"foo\":42}"
   ]
  },
  {
   "cell_type": "markdown",
   "id": "8abe3cf0",
   "metadata": {},
   "source": [
    "3. List is a ordered collection of data while dictionary has key and value pair.\n",
    "   \n",
    "   Example of list is l = [1,2,3,4]. Example of dictinory is d = {'a':1,'b':2,'c':4}."
   ]
  },
  {
   "cell_type": "markdown",
   "id": "e281eb00",
   "metadata": {},
   "source": [
    "4. If you try to access spam['foo'] it will give a keyerror."
   ]
  },
  {
   "cell_type": "markdown",
   "id": "f34ed882",
   "metadata": {},
   "source": [
    "5. There is no difference in both the case it will search wether there is 'cat' key present in spam or not."
   ]
  },
  {
   "cell_type": "markdown",
   "id": "34011edb",
   "metadata": {},
   "source": [
    "6. The expression 'cat' in spam will check wether there is cat key present in spam.On other hand 'cat' in spam.values() will check wether there is 'cat' value present in spam."
   ]
  },
  {
   "cell_type": "markdown",
   "id": "d3715250",
   "metadata": {},
   "source": [
    "7. Shortcut for code is spam.setdefault('color','black')."
   ]
  },
  {
   "cell_type": "markdown",
   "id": "3d270598",
   "metadata": {},
   "source": [
    "8. We can pretty print value of dictinory using pprint module and function name same as module pprint.pprint()."
   ]
  },
  {
   "cell_type": "code",
   "execution_count": null,
   "id": "f6aba12e",
   "metadata": {},
   "outputs": [],
   "source": []
  },
  {
   "cell_type": "code",
   "execution_count": null,
   "id": "8cb55012",
   "metadata": {},
   "outputs": [],
   "source": []
  },
  {
   "cell_type": "code",
   "execution_count": null,
   "id": "542efc53",
   "metadata": {},
   "outputs": [],
   "source": []
  }
 ],
 "metadata": {
  "kernelspec": {
   "display_name": "Python 3",
   "language": "python",
   "name": "python3"
  },
  "language_info": {
   "codemirror_mode": {
    "name": "ipython",
    "version": 3
   },
   "file_extension": ".py",
   "mimetype": "text/x-python",
   "name": "python",
   "nbconvert_exporter": "python",
   "pygments_lexer": "ipython3",
   "version": "3.8.8"
  }
 },
 "nbformat": 4,
 "nbformat_minor": 5
}
