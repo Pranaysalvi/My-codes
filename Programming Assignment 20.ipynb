{
 "cells": [
  {
   "cell_type": "code",
   "execution_count": 1,
   "id": "970adbab",
   "metadata": {},
   "outputs": [
    {
     "data": {
      "text/plain": [
       "[1, 2, 9]"
      ]
     },
     "execution_count": 1,
     "metadata": {},
     "output_type": "execute_result"
    }
   ],
   "source": [
    "#Q1\n",
    "def filter_list(list1):\n",
    "    num_list = []\n",
    "    for elem in list1:\n",
    "        if type(elem) == int:\n",
    "            num_list.append(elem)\n",
    "    return num_list\n",
    "filter_list([1,2,\"hi\",\"hello\",9])"
   ]
  },
  {
   "cell_type": "code",
   "execution_count": 8,
   "id": "455f938c",
   "metadata": {},
   "outputs": [
    {
     "data": {
      "text/plain": [
       "[1, 3, 5, 7]"
      ]
     },
     "execution_count": 8,
     "metadata": {},
     "output_type": "execute_result"
    }
   ],
   "source": [
    "#Q2\n",
    "def add_index(numl):\n",
    "    new_list = []\n",
    "    for i in range(len(numl)):\n",
    "        num = i + numl[i]\n",
    "        new_list.append(num)\n",
    "    return new_list\n",
    "add_index([1,2,3,4])"
   ]
  },
  {
   "cell_type": "code",
   "execution_count": 11,
   "id": "900704be",
   "metadata": {},
   "outputs": [
    {
     "data": {
      "text/plain": [
       "12.57"
      ]
     },
     "execution_count": 11,
     "metadata": {},
     "output_type": "execute_result"
    }
   ],
   "source": [
    "#Q3\n",
    "import math\n",
    "def cone_volume(h,r):\n",
    "    pi = math.pi\n",
    "    volume = (pi*r*r*h)/3\n",
    "    return round(volume,2)\n",
    "cone_volume(3,2)"
   ]
  },
  {
   "cell_type": "code",
   "execution_count": 21,
   "id": "42120789",
   "metadata": {},
   "outputs": [
    {
     "data": {
      "text/plain": [
       "23220"
      ]
     },
     "execution_count": 21,
     "metadata": {},
     "output_type": "execute_result"
    }
   ],
   "source": [
    "#Q4\n",
    "def triangles(n):\n",
    "    dots = 0\n",
    "    for i in range(n):\n",
    "        \n",
    "        dots = dots + (i+1)\n",
    "        \n",
    "    return dots\n",
    "triangles(215)"
   ]
  },
  {
   "cell_type": "code",
   "execution_count": 23,
   "id": "28facb6f",
   "metadata": {},
   "outputs": [
    {
     "name": "stdout",
     "output_type": "stream",
     "text": [
      "5\n"
     ]
    }
   ],
   "source": [
    "#Q5\n",
    "def mising_num(l):\n",
    "    for i in range(1,11):\n",
    "        if i not in l:\n",
    "            print(i)\n",
    "mising_num([1,2,3,4,6,7,9,8,10])"
   ]
  },
  {
   "cell_type": "code",
   "execution_count": null,
   "id": "dea41d0c",
   "metadata": {},
   "outputs": [],
   "source": []
  }
 ],
 "metadata": {
  "kernelspec": {
   "display_name": "Python 3",
   "language": "python",
   "name": "python3"
  },
  "language_info": {
   "codemirror_mode": {
    "name": "ipython",
    "version": 3
   },
   "file_extension": ".py",
   "mimetype": "text/x-python",
   "name": "python",
   "nbconvert_exporter": "python",
   "pygments_lexer": "ipython3",
   "version": "3.8.8"
  }
 },
 "nbformat": 4,
 "nbformat_minor": 5
}
