{
 "cells": [
  {
   "cell_type": "code",
   "execution_count": 1,
   "id": "0b2fe3f8",
   "metadata": {},
   "outputs": [
    {
     "data": {
      "text/plain": [
       "'hheelllloo'"
      ]
     },
     "execution_count": 1,
     "metadata": {},
     "output_type": "execute_result"
    }
   ],
   "source": [
    "#Q1\n",
    "def double_char(string):\n",
    "    str1 = \"\"\n",
    "    for word in string:\n",
    "        str1 = str1+ (word *2)\n",
    "    return str1\n",
    "double_char(\"hello\")"
   ]
  },
  {
   "cell_type": "code",
   "execution_count": 19,
   "id": "e8d4556d",
   "metadata": {},
   "outputs": [
    {
     "name": "stdout",
     "output_type": "stream",
     "text": [
      "Boolean Expected\n"
     ]
    }
   ],
   "source": [
    "#Q2\n",
    "def reverse(value):\n",
    "    if type(value) == int:\n",
    "        print(\"Boolean Expected\")\n",
    "    elif value == False:\n",
    "        return True\n",
    "    elif value == True:\n",
    "        return False\n",
    "    \n",
    "        \n",
    "reverse(0)\n"
   ]
  },
  {
   "cell_type": "code",
   "execution_count": 27,
   "id": "c27a46e5",
   "metadata": {},
   "outputs": [
    {
     "data": {
      "text/plain": [
       "1048.576"
      ]
     },
     "execution_count": 27,
     "metadata": {},
     "output_type": "execute_result"
    }
   ],
   "source": [
    "#Q3\n",
    "def thickness(f):\n",
    "    s = 0.5\n",
    "    for i in range(f):\n",
    "        s = s * 2\n",
    "    return s / 1000 \n",
    "fn(21)"
   ]
  },
  {
   "cell_type": "code",
   "execution_count": 29,
   "id": "ce439966",
   "metadata": {},
   "outputs": [
    {
     "data": {
      "text/plain": [
       "[1, 5]"
      ]
     },
     "execution_count": 29,
     "metadata": {},
     "output_type": "execute_result"
    }
   ],
   "source": [
    "#Q4\n",
    "def index_of_caps(s):\n",
    "    l = []\n",
    "    for i in range(len(s)):\n",
    "        if s[i].isupper():\n",
    "            l.append(i)\n",
    "    return l\n",
    "index_of_caps(\"hElloW\")"
   ]
  },
  {
   "cell_type": "code",
   "execution_count": 31,
   "id": "4d015ce1",
   "metadata": {},
   "outputs": [
    {
     "data": {
      "text/plain": [
       "[2, 4, 6, 8]"
      ]
     },
     "execution_count": 31,
     "metadata": {},
     "output_type": "execute_result"
    }
   ],
   "source": [
    "#Q5\n",
    "def list_even_num(n):\n",
    "    list1 = [i for i in range(1,n+1) if(i%2==0)]\n",
    "    return list1\n",
    "list_even_num(8)"
   ]
  },
  {
   "cell_type": "code",
   "execution_count": null,
   "id": "94dbaded",
   "metadata": {},
   "outputs": [],
   "source": []
  }
 ],
 "metadata": {
  "kernelspec": {
   "display_name": "Python 3",
   "language": "python",
   "name": "python3"
  },
  "language_info": {
   "codemirror_mode": {
    "name": "ipython",
    "version": 3
   },
   "file_extension": ".py",
   "mimetype": "text/x-python",
   "name": "python",
   "nbconvert_exporter": "python",
   "pygments_lexer": "ipython3",
   "version": "3.8.8"
  }
 },
 "nbformat": 4,
 "nbformat_minor": 5
}
