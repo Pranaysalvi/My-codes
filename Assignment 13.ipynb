{
 "cells": [
  {
   "cell_type": "markdown",
   "id": "3a169bc9",
   "metadata": {},
   "source": [
    "Q1. Reading large data set is much easier for the end-user to read, comprehend and understand when compared to CSV."
   ]
  },
  {
   "cell_type": "markdown",
   "id": "7963e9cb",
   "metadata": {},
   "source": [
    "Q2. You pass a File object, obtained from a call to open()."
   ]
  },
  {
   "cell_type": "markdown",
   "id": "f5cb144c",
   "metadata": {},
   "source": [
    "Q3. File objects need to be opened in read-binary ('rb') for reader objects \n",
    "\n",
    "    and write-binary ('wb') for writer objects."
   ]
  },
  {
   "cell_type": "markdown",
   "id": "2885e8a9",
   "metadata": {},
   "source": [
    "Q4. The writerow() method."
   ]
  },
  {
   "cell_type": "markdown",
   "id": "57751629",
   "metadata": {},
   "source": [
    "Q5. The delimiter argument changes the string used to separate cells in a row. The lineterminator argument changes the string used to separate rows"
   ]
  },
  {
   "cell_type": "markdown",
   "id": "1af0afc0",
   "metadata": {},
   "source": [
    "Q6. Function json.loads() takes json data and returns python data."
   ]
  },
  {
   "cell_type": "markdown",
   "id": "838a5c4a",
   "metadata": {},
   "source": [
    "Q7. json.dumps() takes python data and returns json string."
   ]
  },
  {
   "cell_type": "code",
   "execution_count": null,
   "id": "ebd8e46e",
   "metadata": {},
   "outputs": [],
   "source": []
  }
 ],
 "metadata": {
  "kernelspec": {
   "display_name": "Python 3",
   "language": "python",
   "name": "python3"
  },
  "language_info": {
   "codemirror_mode": {
    "name": "ipython",
    "version": 3
   },
   "file_extension": ".py",
   "mimetype": "text/x-python",
   "name": "python",
   "nbconvert_exporter": "python",
   "pygments_lexer": "ipython3",
   "version": "3.8.8"
  }
 },
 "nbformat": 4,
 "nbformat_minor": 5
}
