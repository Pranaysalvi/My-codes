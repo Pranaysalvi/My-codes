{
 "cells": [
  {
   "cell_type": "markdown",
   "id": "2b5bc3e5",
   "metadata": {},
   "source": [
    "Q1\n",
    "test1 = 'This is a test of the emergency text system,'\n",
    "\n",
    "f = open('test.txt','w')\n",
    "\n",
    "f.write(test1)"
   ]
  },
  {
   "cell_type": "markdown",
   "id": "4a936c0f",
   "metadata": {},
   "source": [
    "Q2.\n",
    "f = open('test.txt','r')\n",
    "\n",
    "test2 = f.read()\n",
    "\n",
    "No there is no difference between test1 and test2 data."
   ]
  },
  {
   "cell_type": "markdown",
   "id": "84a4810a",
   "metadata": {},
   "source": [
    "Q3.import csv\n",
    "\n",
    "row = [ ['title','author','year'],\n",
    "    ['The Weirdstone of Brisingamen','Alan Garner',1960],\n",
    "    ['Perdido Street Station','China Miéville',2000],\n",
    "    ['Thud!','Terry Pratchett',2005],\n",
    "    ['The Spellman Files','Lisa Lutz',2007],\n",
    "    ['Small Gods','Terry Pratchett',1992]]\n",
    "    \n",
    "with open('books.csv','w',newline='') as f:\n",
    "    writer = csv.writer(f)\n",
    "    writer.writerows(row)"
   ]
  },
  {
   "cell_type": "markdown",
   "id": "309db02a",
   "metadata": {},
   "source": [
    "Q4. import sqlite3\n",
    "\n",
    "conn = sqlite3.connect('books.db')\n",
    "\n",
    "cursor = conn.cursor()\n",
    "\n",
    "cursor.execute('create table books(title varchar(20),author varchar(20), year int)')\n",
    "\n",
    "conn.commit()"
   ]
  },
  {
   "cell_type": "markdown",
   "id": "473acf42",
   "metadata": {},
   "source": [
    "Q5.import pandas as pd\n",
    "\n",
    "data = pd.read_csv('books.csv',encoding='unicode_escape')\n",
    "data.to_sql('books', conn, if_exists='append', index = False)"
   ]
  },
  {
   "cell_type": "markdown",
   "id": "b6887771",
   "metadata": {},
   "source": [
    "Q6. cursor.execute('select title from books order by title asc')\n",
    "\n",
    "print(c.fetchall())"
   ]
  },
  {
   "cell_type": "markdown",
   "id": "d29f45e7",
   "metadata": {},
   "source": [
    "Q7. cursor.execute('select title, author,year from books order by year')\n",
    "\n",
    "\n",
    "df = pd.DataFrame(c.fetchall(), columns=['title','author','year'])\n",
    "df"
   ]
  },
  {
   "cell_type": "markdown",
   "id": "70354605",
   "metadata": {},
   "source": [
    "Q8.import sqlalchemy\n",
    "engine = sqlalchemy.create_engine(\"sqlite:///books.db\")\n",
    "rows = engine.execute('select * from books')\n",
    "for i in rows:\n",
    "    print(i)"
   ]
  },
  {
   "cell_type": "markdown",
   "id": "8ee1d5ab",
   "metadata": {},
   "source": [
    "Q9.!pip install redis\n",
    "\n",
    "import redis\n",
    "conn = redis.Redis()\n",
    "conn.delete('test')\n",
    "conn.hmset('test', {'count': 1, 'name': 'Fester Bestertester'})\n",
    "conn.hgetall('test')"
   ]
  },
  {
   "cell_type": "markdown",
   "id": "e3e48cc1",
   "metadata": {},
   "source": [
    "Q10. \n",
    "conn.hincrby('test','count', 3)"
   ]
  }
 ],
 "metadata": {
  "kernelspec": {
   "display_name": "Python 3",
   "language": "python",
   "name": "python3"
  },
  "language_info": {
   "codemirror_mode": {
    "name": "ipython",
    "version": 3
   },
   "file_extension": ".py",
   "mimetype": "text/x-python",
   "name": "python",
   "nbconvert_exporter": "python",
   "pygments_lexer": "ipython3",
   "version": "3.8.8"
  }
 },
 "nbformat": 4,
 "nbformat_minor": 5
}
