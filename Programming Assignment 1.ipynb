{
 "cells": [
  {
   "cell_type": "code",
   "execution_count": 3,
   "id": "7fba99a4",
   "metadata": {},
   "outputs": [
    {
     "name": "stdout",
     "output_type": "stream",
     "text": [
      "Hello python\n"
     ]
    }
   ],
   "source": [
    "#Q1\n",
    "def hello_python():\n",
    "    print(\"Hello python\")\n",
    "\n",
    "hello_python()\n",
    "    "
   ]
  },
  {
   "cell_type": "code",
   "execution_count": 5,
   "id": "54eeebd7",
   "metadata": {},
   "outputs": [
    {
     "name": "stdout",
     "output_type": "stream",
     "text": [
      "sum is 30\n",
      "division is 2.0\n"
     ]
    }
   ],
   "source": [
    "#Q2\n",
    "def arithmetic_operation():\n",
    "    a = 10\n",
    "    b = 20\n",
    "    sum = a + b\n",
    "    if a <= b:\n",
    "        div = b / a\n",
    "    else:\n",
    "        dic = a / b\n",
    "    print(\"sum is \" + str(sum))\n",
    "    print(\"division is \" + str(div))\n",
    "\n",
    "arithmetic_operation()"
   ]
  },
  {
   "cell_type": "code",
   "execution_count": 6,
   "id": "c73b6e43",
   "metadata": {},
   "outputs": [
    {
     "name": "stdout",
     "output_type": "stream",
     "text": [
      "area of triangle is: 10.0\n"
     ]
    }
   ],
   "source": [
    "#Q3\n",
    "def area(base,height):\n",
    "    tarea =  1/2*base*height\n",
    "    print(\"area of triangle is: \" + str(tarea))\n",
    "\n",
    "area(4,5)"
   ]
  },
  {
   "cell_type": "code",
   "execution_count": 8,
   "id": "126c201e",
   "metadata": {},
   "outputs": [
    {
     "name": "stdout",
     "output_type": "stream",
     "text": [
      "x = 5 y = 6\n",
      "x = 6 y = 5\n"
     ]
    }
   ],
   "source": [
    "#Q4\n",
    "def swap():\n",
    "    x = 5\n",
    "    y = 6\n",
    "    print(\"x = \" + str(x) + \" y = \" + str(y))\n",
    "    \n",
    "    temp = x\n",
    "    x = y\n",
    "    y = temp\n",
    "    print(\"x = \" + str(x) + \" y = \" + str(y))\n",
    "\n",
    "swap()"
   ]
  },
  {
   "cell_type": "code",
   "execution_count": 12,
   "id": "34f88caf",
   "metadata": {},
   "outputs": [
    {
     "name": "stdout",
     "output_type": "stream",
     "text": [
      "52\n"
     ]
    }
   ],
   "source": [
    "#Q5\n",
    "import random\n",
    "def random_num():\n",
    "    print(random.randint(1,100))\n",
    "random_num()"
   ]
  },
  {
   "cell_type": "code",
   "execution_count": null,
   "id": "56ed93b7",
   "metadata": {},
   "outputs": [],
   "source": []
  }
 ],
 "metadata": {
  "kernelspec": {
   "display_name": "Python 3",
   "language": "python",
   "name": "python3"
  },
  "language_info": {
   "codemirror_mode": {
    "name": "ipython",
    "version": 3
   },
   "file_extension": ".py",
   "mimetype": "text/x-python",
   "name": "python",
   "nbconvert_exporter": "python",
   "pygments_lexer": "ipython3",
   "version": "3.8.8"
  }
 },
 "nbformat": 4,
 "nbformat_minor": 5
}
