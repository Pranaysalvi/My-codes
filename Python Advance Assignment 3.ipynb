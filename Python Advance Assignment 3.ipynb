{
 "cells": [
  {
   "cell_type": "markdown",
   "id": "10a259c1",
   "metadata": {},
   "source": [
    "Q1. An abstract class/superclass can be considered as a blueprint for other classes. It allows you to create a set of methods that must be created within any child classes built from the abstract class. A class which contains one or more abstract methods is called an abstract class."
   ]
  },
  {
   "cell_type": "markdown",
   "id": "48d37fa4",
   "metadata": {},
   "source": [
    "Q2. when a class statement's top level contains a basic assignment statement it is treated as class attribute or class level variable."
   ]
  },
  {
   "cell_type": "markdown",
   "id": "2f30b5ad",
   "metadata": {},
   "source": [
    "Q3. if a child class has __init__ method, then it will not inherit the __init__ method of the parent class. in other words the __init__ method of the child class overrides the __init__ method of the parent class. so we have to manually call a parent superclass's __init__ using super() method."
   ]
  },
  {
   "cell_type": "markdown",
   "id": "01d47d47",
   "metadata": {},
   "source": [
    "Q4.super() method can be used to augment, instead of completely replacing, an inherited method.\n"
   ]
  },
  {
   "cell_type": "markdown",
   "id": "660bdd31",
   "metadata": {},
   "source": [
    "Q5. The variable which are defined within the function has a scope only with that function that is it can only be accessed within that function.\n",
    "\n",
    "While the variable defined within class also has local scope with in the class. It can be accessed by the class methods but it can also be accessed by other class if (.) operator is used."
   ]
  },
  {
   "cell_type": "code",
   "execution_count": null,
   "id": "e6764016",
   "metadata": {},
   "outputs": [],
   "source": []
  }
 ],
 "metadata": {
  "kernelspec": {
   "display_name": "Python 3",
   "language": "python",
   "name": "python3"
  },
  "language_info": {
   "codemirror_mode": {
    "name": "ipython",
    "version": 3
   },
   "file_extension": ".py",
   "mimetype": "text/x-python",
   "name": "python",
   "nbconvert_exporter": "python",
   "pygments_lexer": "ipython3",
   "version": "3.8.8"
  }
 },
 "nbformat": 4,
 "nbformat_minor": 5
}
